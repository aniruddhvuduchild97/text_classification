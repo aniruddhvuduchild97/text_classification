{
 "cells": [
  {
   "cell_type": "code",
   "execution_count": 2,
   "id": "387cf326",
   "metadata": {},
   "outputs": [],
   "source": [
    "import pandas as pd\n",
    "import numpy as np\n",
    "import nltk\n",
    "import string\n",
    "import re\n",
    "from sklearn.feature_extraction.text import TfidfVectorizer\n",
    "from sklearn.model_selection import train_test_split\n",
    "from sklearn.pipeline import Pipeline\n",
    "from sklearn.ensemble import RandomForestClassifier\n",
    "from sklearn.model_selection import RandomizedSearchCV\n",
    "from sklearn.metrics import accuracy_score,classification_report\n",
    "from sklearn.pipeline import Pipeline\n",
    "import pickle"
   ]
  },
  {
   "cell_type": "code",
   "execution_count": 3,
   "id": "f9f99fe3",
   "metadata": {},
   "outputs": [
    {
     "data": {
      "text/html": [
       "<div>\n",
       "<style scoped>\n",
       "    .dataframe tbody tr th:only-of-type {\n",
       "        vertical-align: middle;\n",
       "    }\n",
       "\n",
       "    .dataframe tbody tr th {\n",
       "        vertical-align: top;\n",
       "    }\n",
       "\n",
       "    .dataframe thead th {\n",
       "        text-align: right;\n",
       "    }\n",
       "</style>\n",
       "<table border=\"1\" class=\"dataframe\">\n",
       "  <thead>\n",
       "    <tr style=\"text-align: right;\">\n",
       "      <th></th>\n",
       "      <th>query</th>\n",
       "      <th>verbs</th>\n",
       "      <th>nouns</th>\n",
       "      <th>verb_noun</th>\n",
       "      <th>Subject</th>\n",
       "      <th>Intent</th>\n",
       "      <th>Sentiment</th>\n",
       "    </tr>\n",
       "  </thead>\n",
       "  <tbody>\n",
       "    <tr>\n",
       "      <th>0</th>\n",
       "      <td>could you help me cancelling the last order I ...</td>\n",
       "      <td>help,cancelling,made</td>\n",
       "      <td>order</td>\n",
       "      <td>help,cancelling,made,order</td>\n",
       "      <td>order</td>\n",
       "      <td>cancellation</td>\n",
       "      <td>Positive</td>\n",
       "    </tr>\n",
       "    <tr>\n",
       "      <th>1</th>\n",
       "      <td>could you help me cancelling an order I made?</td>\n",
       "      <td>help,cancelling,made</td>\n",
       "      <td>order</td>\n",
       "      <td>help,cancelling,made,order</td>\n",
       "      <td>order</td>\n",
       "      <td>cancellation</td>\n",
       "      <td>Positive</td>\n",
       "    </tr>\n",
       "    <tr>\n",
       "      <th>2</th>\n",
       "      <td>help me cancelling an order I made</td>\n",
       "      <td>help,cancelling,made</td>\n",
       "      <td>order</td>\n",
       "      <td>help,cancelling,made,order</td>\n",
       "      <td>order</td>\n",
       "      <td>cancellation</td>\n",
       "      <td>Positive</td>\n",
       "    </tr>\n",
       "    <tr>\n",
       "      <th>3</th>\n",
       "      <td>help me cancelling the last order I have made</td>\n",
       "      <td>help,cancelling,made</td>\n",
       "      <td>order</td>\n",
       "      <td>help,cancelling,made,order</td>\n",
       "      <td>order</td>\n",
       "      <td>cancellation</td>\n",
       "      <td>Positive</td>\n",
       "    </tr>\n",
       "    <tr>\n",
       "      <th>4</th>\n",
       "      <td>help with cancelling the order I have made</td>\n",
       "      <td>help,cancelling,made</td>\n",
       "      <td>order</td>\n",
       "      <td>help,cancelling,made,order</td>\n",
       "      <td>order</td>\n",
       "      <td>cancellation</td>\n",
       "      <td>Positive</td>\n",
       "    </tr>\n",
       "  </tbody>\n",
       "</table>\n",
       "</div>"
      ],
      "text/plain": [
       "                                               query                 verbs  \\\n",
       "0  could you help me cancelling the last order I ...  help,cancelling,made   \n",
       "1      could you help me cancelling an order I made?  help,cancelling,made   \n",
       "2                 help me cancelling an order I made  help,cancelling,made   \n",
       "3      help me cancelling the last order I have made  help,cancelling,made   \n",
       "4         help with cancelling the order I have made  help,cancelling,made   \n",
       "\n",
       "   nouns                   verb_noun Subject        Intent Sentiment  \n",
       "0  order  help,cancelling,made,order   order  cancellation  Positive  \n",
       "1  order  help,cancelling,made,order   order  cancellation  Positive  \n",
       "2  order  help,cancelling,made,order   order  cancellation  Positive  \n",
       "3  order  help,cancelling,made,order   order  cancellation  Positive  \n",
       "4  order  help,cancelling,made,order   order  cancellation  Positive  "
      ]
     },
     "execution_count": 3,
     "metadata": {},
     "output_type": "execute_result"
    }
   ],
   "source": [
    "df = pd.read_csv('df_text_new.csv')\n",
    "df.head()"
   ]
  },
  {
   "cell_type": "code",
   "execution_count": 4,
   "id": "8a73cb4f",
   "metadata": {},
   "outputs": [
    {
     "data": {
      "text/plain": [
       "account     2727\n",
       "order       1239\n",
       "purchase     393\n",
       "Name: Subject, dtype: int64"
      ]
     },
     "execution_count": 4,
     "metadata": {},
     "output_type": "execute_result"
    }
   ],
   "source": [
    "df['Subject'].value_counts()"
   ]
  },
  {
   "cell_type": "code",
   "execution_count": null,
   "id": "145dcb10",
   "metadata": {},
   "outputs": [],
   "source": []
  },
  {
   "cell_type": "code",
   "execution_count": 140,
   "id": "ca83b659",
   "metadata": {},
   "outputs": [
    {
     "data": {
      "text/html": [
       "<div>\n",
       "<style scoped>\n",
       "    .dataframe tbody tr th:only-of-type {\n",
       "        vertical-align: middle;\n",
       "    }\n",
       "\n",
       "    .dataframe tbody tr th {\n",
       "        vertical-align: top;\n",
       "    }\n",
       "\n",
       "    .dataframe thead th {\n",
       "        text-align: right;\n",
       "    }\n",
       "</style>\n",
       "<table border=\"1\" class=\"dataframe\">\n",
       "  <thead>\n",
       "    <tr style=\"text-align: right;\">\n",
       "      <th></th>\n",
       "      <th>verb_noun</th>\n",
       "      <th>Subject</th>\n",
       "    </tr>\n",
       "  </thead>\n",
       "  <tbody>\n",
       "    <tr>\n",
       "      <th>0</th>\n",
       "      <td>help cancelling made order</td>\n",
       "      <td>order</td>\n",
       "    </tr>\n",
       "    <tr>\n",
       "      <th>1</th>\n",
       "      <td>help cancelling made order</td>\n",
       "      <td>order</td>\n",
       "    </tr>\n",
       "  </tbody>\n",
       "</table>\n",
       "</div>"
      ],
      "text/plain": [
       "                    verb_noun Subject\n",
       "0  help cancelling made order   order\n",
       "1  help cancelling made order   order"
      ]
     },
     "execution_count": 140,
     "metadata": {},
     "output_type": "execute_result"
    }
   ],
   "source": [
    "# First_model to get the subject\n",
    "df_subject = df[['verb_noun','Subject']].copy()\n",
    "df_subject['verb_noun'] = df_subject['verb_noun'].str.strip(',')\n",
    "df_subject['verb_noun'] = df_subject['verb_noun'].apply(lambda x: ' '.join(x.split(',')))\n",
    "df_subject.head(2)"
   ]
  },
  {
   "cell_type": "code",
   "execution_count": 141,
   "id": "4c655a2e",
   "metadata": {},
   "outputs": [],
   "source": [
    "X = df_subject[['verb_noun']].copy()\n",
    "y = df_subject['Subject'].copy()\n",
    "X_train,X_test,y_train,y_test = train_test_split(X,y,test_size=0.30,random_state=1234)"
   ]
  },
  {
   "cell_type": "code",
   "execution_count": 142,
   "id": "180b4cb3",
   "metadata": {},
   "outputs": [],
   "source": [
    "vectorizer_sub = TfidfVectorizer()\n",
    "X_train_tfidf = pd.DataFrame(vectorizer_sub.fit_transform(X_train['verb_noun']).toarray())"
   ]
  },
  {
   "cell_type": "code",
   "execution_count": 143,
   "id": "6227f110",
   "metadata": {},
   "outputs": [
    {
     "name": "stdout",
     "output_type": "stream",
     "text": [
      "Fitting 10 folds for each of 10 candidates, totalling 100 fits\n"
     ]
    }
   ],
   "source": [
    "model_RF = RandomForestClassifier()\n",
    "params_RF = {'criterion':['gini','entropy'],\n",
    "         'n_estimators':list(range(101,902,2)),\n",
    "         'min_samples_leaf':list(range(1,10)),\n",
    "         'max_features':list(range(1,15)),\n",
    "         'max_samples':list(np.arange(0.1,1))}\n",
    "grid_search_RF = RandomizedSearchCV(estimator = model_RF, param_distributions = params_RF, cv = 10,n_jobs=-1,scoring='accuracy',verbose=2)\n",
    "grid_search_RF.fit(X_train_tfidf,y_train.values.ravel())\n",
    "RF_model_subject = grid_search_RF.best_estimator_"
   ]
  },
  {
   "cell_type": "code",
   "execution_count": 144,
   "id": "feadde7c",
   "metadata": {},
   "outputs": [],
   "source": [
    "y_pred_sub = RF_model_subject.predict(pd.DataFrame(vectorizer_sub.transform(X_test['verb_noun'].values).toarray()))"
   ]
  },
  {
   "cell_type": "code",
   "execution_count": 145,
   "id": "1d4df202",
   "metadata": {},
   "outputs": [
    {
     "name": "stdout",
     "output_type": "stream",
     "text": [
      "              precision    recall  f1-score   support\n",
      "\n",
      "     account       1.00      1.00      1.00       827\n",
      "       order       1.00      0.99      0.99       355\n",
      "    purchase       0.97      1.00      0.98       126\n",
      "\n",
      "    accuracy                           1.00      1308\n",
      "   macro avg       0.99      1.00      0.99      1308\n",
      "weighted avg       1.00      1.00      1.00      1308\n",
      "\n"
     ]
    }
   ],
   "source": [
    "print(classification_report(y_test,y_pred_sub))"
   ]
  },
  {
   "cell_type": "code",
   "execution_count": 146,
   "id": "912a62c1",
   "metadata": {},
   "outputs": [],
   "source": [
    "file = open('vectorizer_sub.pkl','wb')\n",
    "pickle.dump(vectorizer_sub,file)\n",
    "file.close()"
   ]
  },
  {
   "cell_type": "code",
   "execution_count": 147,
   "id": "189f606e",
   "metadata": {},
   "outputs": [],
   "source": [
    "file = open('model_subject.pkl','wb')\n",
    "pickle.dump(RF_model_subject,file)\n",
    "file.close()"
   ]
  },
  {
   "cell_type": "code",
   "execution_count": 148,
   "id": "3ba78850",
   "metadata": {},
   "outputs": [],
   "source": [
    "vec_sub = pickle.load(open('vectorizer_sub.pkl','rb'))\n",
    "model_sub = pickle.load(open('model_subject.pkl','rb'))\n",
    "\n",
    "Y_pred_sub = model_sub.predict(pd.DataFrame(vec_sub.transform(X['verb_noun'].values).toarray()))"
   ]
  },
  {
   "cell_type": "code",
   "execution_count": 150,
   "id": "81216332",
   "metadata": {},
   "outputs": [
    {
     "name": "stdout",
     "output_type": "stream",
     "text": [
      "              precision    recall  f1-score   support\n",
      "\n",
      "     account       1.00      1.00      1.00      2727\n",
      "       order       1.00      0.99      1.00      1239\n",
      "    purchase       0.98      1.00      0.99       393\n",
      "\n",
      "    accuracy                           1.00      4359\n",
      "   macro avg       0.99      1.00      0.99      4359\n",
      "weighted avg       1.00      1.00      1.00      4359\n",
      "\n"
     ]
    }
   ],
   "source": [
    "print(classification_report(y,Y_pred_sub))"
   ]
  },
  {
   "cell_type": "code",
   "execution_count": 155,
   "id": "f66da77a",
   "metadata": {},
   "outputs": [
    {
     "data": {
      "text/html": [
       "<div>\n",
       "<style scoped>\n",
       "    .dataframe tbody tr th:only-of-type {\n",
       "        vertical-align: middle;\n",
       "    }\n",
       "\n",
       "    .dataframe tbody tr th {\n",
       "        vertical-align: top;\n",
       "    }\n",
       "\n",
       "    .dataframe thead th {\n",
       "        text-align: right;\n",
       "    }\n",
       "</style>\n",
       "<table border=\"1\" class=\"dataframe\">\n",
       "  <thead>\n",
       "    <tr style=\"text-align: right;\">\n",
       "      <th></th>\n",
       "      <th>query</th>\n",
       "      <th>Intent</th>\n",
       "    </tr>\n",
       "  </thead>\n",
       "  <tbody>\n",
       "    <tr>\n",
       "      <th>0</th>\n",
       "      <td>could you help me cancelling the last order I ...</td>\n",
       "      <td>cancellation</td>\n",
       "    </tr>\n",
       "    <tr>\n",
       "      <th>1</th>\n",
       "      <td>could you help me cancelling an order I made?</td>\n",
       "      <td>cancellation</td>\n",
       "    </tr>\n",
       "  </tbody>\n",
       "</table>\n",
       "</div>"
      ],
      "text/plain": [
       "                                               query        Intent\n",
       "0  could you help me cancelling the last order I ...  cancellation\n",
       "1      could you help me cancelling an order I made?  cancellation"
      ]
     },
     "execution_count": 155,
     "metadata": {},
     "output_type": "execute_result"
    }
   ],
   "source": [
    "# second_model to get the intent\n",
    "df_intent = df[['query','Intent']].copy()\n",
    "df_intent.head(2)"
   ]
  },
  {
   "cell_type": "code",
   "execution_count": 156,
   "id": "123e365e",
   "metadata": {},
   "outputs": [],
   "source": [
    "X = df_intent[['query']].copy()\n",
    "y = df_intent['Intent'].copy()\n",
    "X_train,X_test,y_train,y_test = train_test_split(X,y,test_size=0.30,random_state=1234)"
   ]
  },
  {
   "cell_type": "code",
   "execution_count": 157,
   "id": "ec61e2b8",
   "metadata": {},
   "outputs": [],
   "source": [
    "vectorizer_int = TfidfVectorizer()\n",
    "X_train_tfidf = pd.DataFrame(vectorizer_int.fit_transform(X_train['query']).toarray())"
   ]
  },
  {
   "cell_type": "code",
   "execution_count": 158,
   "id": "7e618e99",
   "metadata": {},
   "outputs": [
    {
     "name": "stdout",
     "output_type": "stream",
     "text": [
      "Fitting 10 folds for each of 10 candidates, totalling 100 fits\n"
     ]
    }
   ],
   "source": [
    "model_RF = RandomForestClassifier()\n",
    "params_RF = {'criterion':['gini','entropy'],\n",
    "         'n_estimators':list(range(101,902,2)),\n",
    "         'min_samples_leaf':list(range(1,10)),\n",
    "         'max_features':list(range(1,15)),\n",
    "         'max_samples':list(np.arange(0.1,1))}\n",
    "grid_search_RF = RandomizedSearchCV(estimator = model_RF, param_distributions = params_RF, cv = 10,n_jobs=-1,scoring='accuracy',verbose=2)\n",
    "grid_search_RF.fit(X_train_tfidf,y_train.values.ravel())\n",
    "RF_model_intent = grid_search_RF.best_estimator_"
   ]
  },
  {
   "cell_type": "code",
   "execution_count": 159,
   "id": "7cca1a36",
   "metadata": {},
   "outputs": [],
   "source": [
    "y_pred_int = RF_model_intent.predict(pd.DataFrame(vectorizer_int.transform(X_test['query'].values).toarray()))"
   ]
  },
  {
   "cell_type": "code",
   "execution_count": 160,
   "id": "5818765c",
   "metadata": {},
   "outputs": [
    {
     "name": "stdout",
     "output_type": "stream",
     "text": [
      "              precision    recall  f1-score   support\n",
      "\n",
      "cancellation       1.00      0.90      0.95        40\n",
      "     enquiry       0.97      0.87      0.92       374\n",
      "modification       0.92      0.97      0.94       147\n",
      " restoration       1.00      1.00      1.00       332\n",
      "      set_up       0.92      1.00      0.95       415\n",
      "\n",
      "    accuracy                           0.95      1308\n",
      "   macro avg       0.96      0.95      0.95      1308\n",
      "weighted avg       0.96      0.95      0.95      1308\n",
      "\n"
     ]
    }
   ],
   "source": [
    "print(classification_report(y_test,y_pred_int))"
   ]
  },
  {
   "cell_type": "code",
   "execution_count": 161,
   "id": "7d9e4f23",
   "metadata": {},
   "outputs": [],
   "source": [
    "file = open('vectorizer_int.pkl','wb')\n",
    "pickle.dump(vectorizer_int,file)\n",
    "file.close()"
   ]
  },
  {
   "cell_type": "code",
   "execution_count": 162,
   "id": "691774a1",
   "metadata": {},
   "outputs": [],
   "source": [
    "file = open('model_intent.pkl','wb')\n",
    "pickle.dump(RF_model_intent,file)\n",
    "file.close()"
   ]
  },
  {
   "cell_type": "code",
   "execution_count": 163,
   "id": "40e613e9",
   "metadata": {},
   "outputs": [],
   "source": [
    "vec_int = pickle.load(open('vectorizer_int.pkl','rb'))\n",
    "model_int = pickle.load(open('model_intent.pkl','rb'))\n",
    "\n",
    "Y_pred_int = model_int.predict(pd.DataFrame(vec_int.transform(X['query'].values).toarray()))"
   ]
  },
  {
   "cell_type": "code",
   "execution_count": 164,
   "id": "b0cc9722",
   "metadata": {},
   "outputs": [
    {
     "name": "stdout",
     "output_type": "stream",
     "text": [
      "              precision    recall  f1-score   support\n",
      "\n",
      "cancellation       1.00      0.94      0.97       131\n",
      "     enquiry       0.99      0.90      0.94      1246\n",
      "modification       0.93      0.99      0.96       502\n",
      " restoration       1.00      1.00      1.00      1146\n",
      "      set_up       0.94      1.00      0.97      1334\n",
      "\n",
      "    accuracy                           0.97      4359\n",
      "   macro avg       0.97      0.97      0.97      4359\n",
      "weighted avg       0.97      0.97      0.97      4359\n",
      "\n"
     ]
    }
   ],
   "source": [
    "print(classification_report(y,Y_pred_int))"
   ]
  },
  {
   "cell_type": "code",
   "execution_count": 165,
   "id": "ff6e0a77",
   "metadata": {},
   "outputs": [
    {
     "data": {
      "text/html": [
       "<div>\n",
       "<style scoped>\n",
       "    .dataframe tbody tr th:only-of-type {\n",
       "        vertical-align: middle;\n",
       "    }\n",
       "\n",
       "    .dataframe tbody tr th {\n",
       "        vertical-align: top;\n",
       "    }\n",
       "\n",
       "    .dataframe thead th {\n",
       "        text-align: right;\n",
       "    }\n",
       "</style>\n",
       "<table border=\"1\" class=\"dataframe\">\n",
       "  <thead>\n",
       "    <tr style=\"text-align: right;\">\n",
       "      <th></th>\n",
       "      <th>query</th>\n",
       "      <th>Sentiment</th>\n",
       "    </tr>\n",
       "  </thead>\n",
       "  <tbody>\n",
       "    <tr>\n",
       "      <th>0</th>\n",
       "      <td>could you help me cancelling the last order I ...</td>\n",
       "      <td>Positive</td>\n",
       "    </tr>\n",
       "    <tr>\n",
       "      <th>1</th>\n",
       "      <td>could you help me cancelling an order I made?</td>\n",
       "      <td>Positive</td>\n",
       "    </tr>\n",
       "  </tbody>\n",
       "</table>\n",
       "</div>"
      ],
      "text/plain": [
       "                                               query Sentiment\n",
       "0  could you help me cancelling the last order I ...  Positive\n",
       "1      could you help me cancelling an order I made?  Positive"
      ]
     },
     "execution_count": 165,
     "metadata": {},
     "output_type": "execute_result"
    }
   ],
   "source": [
    "# third_model to get the sentiment\n",
    "df_sentiment = df[['query','Sentiment']].copy()\n",
    "df_sentiment.head(2)"
   ]
  },
  {
   "cell_type": "code",
   "execution_count": 166,
   "id": "ac135ee8",
   "metadata": {},
   "outputs": [],
   "source": [
    "X = df_sentiment[['query']].copy()\n",
    "y = df_sentiment['Sentiment'].copy()\n",
    "X_train,X_test,y_train,y_test = train_test_split(X,y,test_size=0.30,random_state=1234)"
   ]
  },
  {
   "cell_type": "code",
   "execution_count": 167,
   "id": "8b36cfe1",
   "metadata": {},
   "outputs": [],
   "source": [
    "vectorizer_senti = TfidfVectorizer()\n",
    "X_train_tfidf = pd.DataFrame(vectorizer_senti.fit_transform(X_train['query']).toarray())"
   ]
  },
  {
   "cell_type": "code",
   "execution_count": 168,
   "id": "cef75860",
   "metadata": {},
   "outputs": [
    {
     "name": "stdout",
     "output_type": "stream",
     "text": [
      "Fitting 10 folds for each of 10 candidates, totalling 100 fits\n"
     ]
    }
   ],
   "source": [
    "model_RF = RandomForestClassifier()\n",
    "params_RF = {'criterion':['gini','entropy'],\n",
    "         'n_estimators':list(range(101,902,2)),\n",
    "         'min_samples_leaf':list(range(1,10)),\n",
    "         'max_features':list(range(1,15)),\n",
    "         'max_samples':list(np.arange(0.1,1))}\n",
    "grid_search_RF = RandomizedSearchCV(estimator = model_RF, param_distributions = params_RF, cv = 10,n_jobs=-1,scoring='accuracy',verbose=2)\n",
    "grid_search_RF.fit(X_train_tfidf,y_train.values.ravel())\n",
    "RF_model_sentiment = grid_search_RF.best_estimator_"
   ]
  },
  {
   "cell_type": "code",
   "execution_count": 169,
   "id": "6d904784",
   "metadata": {},
   "outputs": [],
   "source": [
    "y_pred_senti = RF_model_sentiment.predict(pd.DataFrame(vectorizer_senti.transform(X_test['query'].values).toarray()))"
   ]
  },
  {
   "cell_type": "code",
   "execution_count": 170,
   "id": "a6f74ac0",
   "metadata": {},
   "outputs": [
    {
     "name": "stdout",
     "output_type": "stream",
     "text": [
      "              precision    recall  f1-score   support\n",
      "\n",
      "    Negative       0.96      0.87      0.91       208\n",
      "     Neutral       0.95      0.98      0.96       575\n",
      "    Positive       0.97      0.97      0.97       525\n",
      "\n",
      "    accuracy                           0.96      1308\n",
      "   macro avg       0.96      0.94      0.95      1308\n",
      "weighted avg       0.96      0.96      0.96      1308\n",
      "\n"
     ]
    }
   ],
   "source": [
    "print(classification_report(y_test,y_pred_senti))"
   ]
  },
  {
   "cell_type": "code",
   "execution_count": 171,
   "id": "f6234dc7",
   "metadata": {},
   "outputs": [],
   "source": [
    "file = open('vectorizer_senti.pkl','wb')\n",
    "pickle.dump(vectorizer_senti,file)\n",
    "file.close()"
   ]
  },
  {
   "cell_type": "code",
   "execution_count": 172,
   "id": "179d9b5d",
   "metadata": {},
   "outputs": [],
   "source": [
    "file = open('model_sentiment.pkl','wb')\n",
    "pickle.dump(RF_model_sentiment,file)\n",
    "file.close()"
   ]
  },
  {
   "cell_type": "code",
   "execution_count": 173,
   "id": "99f809ef",
   "metadata": {},
   "outputs": [],
   "source": [
    "vec_senti = pickle.load(open('vectorizer_senti.pkl','rb'))\n",
    "model_senti = pickle.load(open('model_sentiment.pkl','rb'))\n",
    "\n",
    "Y_pred_int = model_senti.predict(pd.DataFrame(vec_senti.transform(X['query'].values).toarray()))"
   ]
  },
  {
   "cell_type": "code",
   "execution_count": 174,
   "id": "977f4c6a",
   "metadata": {},
   "outputs": [
    {
     "name": "stdout",
     "output_type": "stream",
     "text": [
      "              precision    recall  f1-score   support\n",
      "\n",
      "    Negative       0.98      0.91      0.94       710\n",
      "     Neutral       0.97      0.99      0.98      1937\n",
      "    Positive       0.98      0.98      0.98      1712\n",
      "\n",
      "    accuracy                           0.97      4359\n",
      "   macro avg       0.98      0.96      0.97      4359\n",
      "weighted avg       0.97      0.97      0.97      4359\n",
      "\n"
     ]
    }
   ],
   "source": [
    "print(classification_report(y,Y_pred_int))"
   ]
  },
  {
   "cell_type": "code",
   "execution_count": null,
   "id": "3ec9b9bd",
   "metadata": {},
   "outputs": [],
   "source": []
  }
 ],
 "metadata": {
  "kernelspec": {
   "display_name": "Python 3 (ipykernel)",
   "language": "python",
   "name": "python3"
  },
  "language_info": {
   "codemirror_mode": {
    "name": "ipython",
    "version": 3
   },
   "file_extension": ".py",
   "mimetype": "text/x-python",
   "name": "python",
   "nbconvert_exporter": "python",
   "pygments_lexer": "ipython3",
   "version": "3.9.12"
  }
 },
 "nbformat": 4,
 "nbformat_minor": 5
}
