{
 "cells": [
  {
   "cell_type": "code",
   "execution_count": 1,
   "id": "928d25ff",
   "metadata": {},
   "outputs": [],
   "source": [
    "import pandas as pd\n",
    "import numpy as np\n",
    "import nltk\n",
    "import spacy\n",
    "nlp = spacy.load('en_core_web_lg')\n",
    "from sklearn.feature_extraction.text import TfidfVectorizer\n",
    "from sklearn.model_selection import train_test_split\n",
    "from sklearn.pipeline import Pipeline\n",
    "from sklearn.ensemble import RandomForestClassifier\n",
    "from sklearn.model_selection import RandomizedSearchCV\n",
    "from sklearn.metrics import accuracy_score,classification_report\n",
    "from sklearn.pipeline import Pipeline\n",
    "import pickle"
   ]
  },
  {
   "cell_type": "code",
   "execution_count": 10,
   "id": "d58f04d9",
   "metadata": {},
   "outputs": [],
   "source": [
    "vec_sub = pickle.load(open('vectorizer_sub.pkl','rb'))\n",
    "model_sub = pickle.load(open('model_subject.pkl','rb'))\n",
    "vec_int = pickle.load(open('vectorizer_int.pkl','rb'))\n",
    "model_int = pickle.load(open('model_intent.pkl','rb'))\n",
    "vec_senti = pickle.load(open('vectorizer_senti.pkl','rb'))\n",
    "model_senti = pickle.load(open('model_sentiment.pkl','rb'))"
   ]
  },
  {
   "cell_type": "code",
   "execution_count": 7,
   "id": "b7775526",
   "metadata": {},
   "outputs": [],
   "source": [
    "def get_pos_tags(x):\n",
    "    doc = nlp(x)\n",
    "    for token in doc:\n",
    "        verbs = ','.join([token.text for token in doc if token.pos_ == \"VERB\"])\n",
    "        nouns = ','.join([token.text for token in doc if token.pos_ == \"NOUN\"])\n",
    "    return verbs,nouns"
   ]
  },
  {
   "cell_type": "code",
   "execution_count": 12,
   "id": "f41e709a",
   "metadata": {},
   "outputs": [],
   "source": [
    "def task_func():\n",
    "    x = input('Please input your text:->')\n",
    "    dict_text = {'query':x}\n",
    "    df = pd.DataFrame(dict_text,index = [0])\n",
    "    df['verbs'] = df['query'].apply(lambda x: get_pos_tags(x)[0])\n",
    "    df['nouns'] = df['query'].apply(lambda x: get_pos_tags(x)[1])\n",
    "    df['verb_noun'] = df['verbs'].str.cat(df['nouns'],sep = ',')\n",
    "    df['verb_noun'] = df['verb_noun'].apply(lambda x: ' '.join(x.split(',')))\n",
    "    subject = model_sub.predict(pd.DataFrame(vec_sub.transform(df['verb_noun'].values).toarray()))\n",
    "    intent = model_int.predict(pd.DataFrame(vec_int.transform(df['query'].values).toarray()))\n",
    "    sentiment = model_senti.predict(pd.DataFrame(vec_senti.transform(df['query'].values).toarray()))\n",
    "    print(f\"Subject: {subject[0]}\")\n",
    "    print(f\"Intent: {intent[0]}\")\n",
    "    print(f\"Sentiment: {sentiment[0]}\")"
   ]
  },
  {
   "cell_type": "code",
   "execution_count": 13,
   "id": "4e2ae97d",
   "metadata": {},
   "outputs": [
    {
     "name": "stdout",
     "output_type": "stream",
     "text": [
      "Please input your text:->i want to cancel my order\n",
      "Subject: order\n",
      "Intent: cancellation\n",
      "Sentiment: Positive\n"
     ]
    }
   ],
   "source": [
    "task_func()"
   ]
  },
  {
   "cell_type": "code",
   "execution_count": null,
   "id": "23aef5ee",
   "metadata": {},
   "outputs": [],
   "source": []
  }
 ],
 "metadata": {
  "kernelspec": {
   "display_name": "Python 3 (ipykernel)",
   "language": "python",
   "name": "python3"
  },
  "language_info": {
   "codemirror_mode": {
    "name": "ipython",
    "version": 3
   },
   "file_extension": ".py",
   "mimetype": "text/x-python",
   "name": "python",
   "nbconvert_exporter": "python",
   "pygments_lexer": "ipython3",
   "version": "3.9.12"
  }
 },
 "nbformat": 4,
 "nbformat_minor": 5
}
