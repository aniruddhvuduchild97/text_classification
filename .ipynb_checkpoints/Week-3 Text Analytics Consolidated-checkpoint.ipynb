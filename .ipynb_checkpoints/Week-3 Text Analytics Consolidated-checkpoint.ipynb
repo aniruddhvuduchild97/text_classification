{
 "cells": [
  {
   "cell_type": "markdown",
   "metadata": {},
   "source": [
    "# Aniruddh Mukerji - 9665391892"
   ]
  },
  {
   "cell_type": "markdown",
   "metadata": {},
   "source": [
    "## Getting Started"
   ]
  },
  {
   "cell_type": "code",
   "execution_count": 66,
   "metadata": {},
   "outputs": [],
   "source": [
    "# Importing relevant libraries\n",
    "import numpy as np \n",
    "import pandas as pd \n",
    "import re # this is the regular expression library which helps us manipulate text (strings) fairly easily and intuitively\n",
    "import nltk# this is the Natural Language Tool Kit which contains a lot of functionalities for text analytics\n",
    "import matplotlib.pyplot as plt\n",
    "import string # this is used for string manipulations\n",
    "import matplotlib\n",
    "import seaborn as sns\n",
    "%matplotlib inline\n",
    "#nltk.download('stopwords') # list of stopwords - Stopwords are grammatically relevant which do not provide any data/statistical insight\n",
    "#nltk.download('punkt') # List of punctuation marks \n"
   ]
  },
  {
   "cell_type": "code",
   "execution_count": 67,
   "metadata": {},
   "outputs": [],
   "source": [
    "x = 'India vs Bangladesh' # Within a string we have characters - alphabets and spaces etc are characters - substring : India is a substring\n"
   ]
  },
  {
   "cell_type": "code",
   "execution_count": 68,
   "metadata": {},
   "outputs": [
    {
     "data": {
      "text/html": [
       "<div>\n",
       "<style scoped>\n",
       "    .dataframe tbody tr th:only-of-type {\n",
       "        vertical-align: middle;\n",
       "    }\n",
       "\n",
       "    .dataframe tbody tr th {\n",
       "        vertical-align: top;\n",
       "    }\n",
       "\n",
       "    .dataframe thead th {\n",
       "        text-align: right;\n",
       "    }\n",
       "</style>\n",
       "<table border=\"1\" class=\"dataframe\">\n",
       "  <thead>\n",
       "    <tr style=\"text-align: right;\">\n",
       "      <th></th>\n",
       "      <th>Tweet</th>\n",
       "      <th>Avg</th>\n",
       "    </tr>\n",
       "  </thead>\n",
       "  <tbody>\n",
       "    <tr>\n",
       "      <th>0</th>\n",
       "      <td>I have to say, Apple has by far the best custo...</td>\n",
       "      <td>2.0</td>\n",
       "    </tr>\n",
       "    <tr>\n",
       "      <th>1</th>\n",
       "      <td>iOS 7 is so fricking smooth &amp; beautiful!! #Tha...</td>\n",
       "      <td>2.0</td>\n",
       "    </tr>\n",
       "    <tr>\n",
       "      <th>2</th>\n",
       "      <td>LOVE U @APPLE</td>\n",
       "      <td>1.8</td>\n",
       "    </tr>\n",
       "    <tr>\n",
       "      <th>3</th>\n",
       "      <td>Thank you @apple, loving my new iPhone 5S!!!!!...</td>\n",
       "      <td>1.8</td>\n",
       "    </tr>\n",
       "    <tr>\n",
       "      <th>4</th>\n",
       "      <td>.@apple has the best customer service. In and ...</td>\n",
       "      <td>1.8</td>\n",
       "    </tr>\n",
       "  </tbody>\n",
       "</table>\n",
       "</div>"
      ],
      "text/plain": [
       "                                               Tweet  Avg\n",
       "0  I have to say, Apple has by far the best custo...  2.0\n",
       "1  iOS 7 is so fricking smooth & beautiful!! #Tha...  2.0\n",
       "2                                      LOVE U @APPLE  1.8\n",
       "3  Thank you @apple, loving my new iPhone 5S!!!!!...  1.8\n",
       "4  .@apple has the best customer service. In and ...  1.8"
      ]
     },
     "execution_count": 68,
     "metadata": {},
     "output_type": "execute_result"
    }
   ],
   "source": [
    "# Loading the dataset\n",
    "Apple_tweets = pd.read_csv(\"Apple_tweets.csv\")\n",
    "Apple_tweets.head()"
   ]
  },
  {
   "cell_type": "code",
   "execution_count": 69,
   "metadata": {},
   "outputs": [],
   "source": [
    "stopwords = nltk.corpus.stopwords.words('english') # languages dependent on latin script\n",
    "punctuation = list(string.punctuation)\n",
    "stop_punc = stopwords+punctuation"
   ]
  },
  {
   "cell_type": "code",
   "execution_count": 70,
   "metadata": {},
   "outputs": [
    {
     "data": {
      "text/plain": [
       "'!\"#$%&\\'()*+,-./:;<=>?@[\\\\]^_`{|}~'"
      ]
     },
     "execution_count": 70,
     "metadata": {},
     "output_type": "execute_result"
    }
   ],
   "source": [
    "string.punctuation"
   ]
  },
  {
   "cell_type": "code",
   "execution_count": 71,
   "metadata": {},
   "outputs": [
    {
     "data": {
      "text/plain": [
       "['i',\n",
       " 'me',\n",
       " 'my',\n",
       " 'myself',\n",
       " 'we',\n",
       " 'our',\n",
       " 'ours',\n",
       " 'ourselves',\n",
       " 'you',\n",
       " \"you're\",\n",
       " \"you've\",\n",
       " \"you'll\",\n",
       " \"you'd\",\n",
       " 'your',\n",
       " 'yours',\n",
       " 'yourself',\n",
       " 'yourselves',\n",
       " 'he',\n",
       " 'him',\n",
       " 'his']"
      ]
     },
     "execution_count": 71,
     "metadata": {},
     "output_type": "execute_result"
    }
   ],
   "source": [
    "stopwords[:20]"
   ]
  },
  {
   "cell_type": "code",
   "execution_count": 72,
   "metadata": {
    "scrolled": false
   },
   "outputs": [
    {
     "data": {
      "text/plain": [
       "['i',\n",
       " 'me',\n",
       " 'my',\n",
       " 'myself',\n",
       " 'we',\n",
       " 'our',\n",
       " 'ours',\n",
       " 'ourselves',\n",
       " 'you',\n",
       " \"you're\",\n",
       " \"you've\",\n",
       " \"you'll\",\n",
       " \"you'd\",\n",
       " 'your',\n",
       " 'yours',\n",
       " 'yourself',\n",
       " 'yourselves',\n",
       " 'he',\n",
       " 'him',\n",
       " 'his',\n",
       " 'himself',\n",
       " 'she',\n",
       " \"she's\",\n",
       " 'her',\n",
       " 'hers',\n",
       " 'herself',\n",
       " 'it',\n",
       " \"it's\",\n",
       " 'its',\n",
       " 'itself',\n",
       " 'they',\n",
       " 'them',\n",
       " 'their',\n",
       " 'theirs',\n",
       " 'themselves',\n",
       " 'what',\n",
       " 'which',\n",
       " 'who',\n",
       " 'whom',\n",
       " 'this',\n",
       " 'that',\n",
       " \"that'll\",\n",
       " 'these',\n",
       " 'those',\n",
       " 'am',\n",
       " 'is',\n",
       " 'are',\n",
       " 'was',\n",
       " 'were',\n",
       " 'be',\n",
       " 'been',\n",
       " 'being',\n",
       " 'have',\n",
       " 'has',\n",
       " 'had',\n",
       " 'having',\n",
       " 'do',\n",
       " 'does',\n",
       " 'did',\n",
       " 'doing',\n",
       " 'a',\n",
       " 'an',\n",
       " 'the',\n",
       " 'and',\n",
       " 'but',\n",
       " 'if',\n",
       " 'or',\n",
       " 'because',\n",
       " 'as',\n",
       " 'until',\n",
       " 'while',\n",
       " 'of',\n",
       " 'at',\n",
       " 'by',\n",
       " 'for',\n",
       " 'with',\n",
       " 'about',\n",
       " 'against',\n",
       " 'between',\n",
       " 'into',\n",
       " 'through',\n",
       " 'during',\n",
       " 'before',\n",
       " 'after',\n",
       " 'above',\n",
       " 'below',\n",
       " 'to',\n",
       " 'from',\n",
       " 'up',\n",
       " 'down',\n",
       " 'in',\n",
       " 'out',\n",
       " 'on',\n",
       " 'off',\n",
       " 'over',\n",
       " 'under',\n",
       " 'again',\n",
       " 'further',\n",
       " 'then',\n",
       " 'once',\n",
       " 'here',\n",
       " 'there',\n",
       " 'when',\n",
       " 'where',\n",
       " 'why',\n",
       " 'how',\n",
       " 'all',\n",
       " 'any',\n",
       " 'both',\n",
       " 'each',\n",
       " 'few',\n",
       " 'more',\n",
       " 'most',\n",
       " 'other',\n",
       " 'some',\n",
       " 'such',\n",
       " 'no',\n",
       " 'nor',\n",
       " 'not',\n",
       " 'only',\n",
       " 'own',\n",
       " 'same',\n",
       " 'so',\n",
       " 'than',\n",
       " 'too',\n",
       " 'very',\n",
       " 's',\n",
       " 't',\n",
       " 'can',\n",
       " 'will',\n",
       " 'just',\n",
       " 'don',\n",
       " \"don't\",\n",
       " 'should',\n",
       " \"should've\",\n",
       " 'now',\n",
       " 'd',\n",
       " 'll',\n",
       " 'm',\n",
       " 'o',\n",
       " 're',\n",
       " 've',\n",
       " 'y',\n",
       " 'ain',\n",
       " 'aren',\n",
       " \"aren't\",\n",
       " 'couldn',\n",
       " \"couldn't\",\n",
       " 'didn',\n",
       " \"didn't\",\n",
       " 'doesn',\n",
       " \"doesn't\",\n",
       " 'hadn',\n",
       " \"hadn't\",\n",
       " 'hasn',\n",
       " \"hasn't\",\n",
       " 'haven',\n",
       " \"haven't\",\n",
       " 'isn',\n",
       " \"isn't\",\n",
       " 'ma',\n",
       " 'mightn',\n",
       " \"mightn't\",\n",
       " 'mustn',\n",
       " \"mustn't\",\n",
       " 'needn',\n",
       " \"needn't\",\n",
       " 'shan',\n",
       " \"shan't\",\n",
       " 'shouldn',\n",
       " \"shouldn't\",\n",
       " 'wasn',\n",
       " \"wasn't\",\n",
       " 'weren',\n",
       " \"weren't\",\n",
       " 'won',\n",
       " \"won't\",\n",
       " 'wouldn',\n",
       " \"wouldn't\",\n",
       " '!',\n",
       " '\"',\n",
       " '#',\n",
       " '$',\n",
       " '%',\n",
       " '&',\n",
       " \"'\",\n",
       " '(',\n",
       " ')',\n",
       " '*',\n",
       " '+',\n",
       " ',',\n",
       " '-',\n",
       " '.',\n",
       " '/',\n",
       " ':',\n",
       " ';',\n",
       " '<',\n",
       " '=',\n",
       " '>',\n",
       " '?',\n",
       " '@',\n",
       " '[',\n",
       " '\\\\',\n",
       " ']',\n",
       " '^',\n",
       " '_',\n",
       " '`',\n",
       " '{',\n",
       " '|',\n",
       " '}',\n",
       " '~']"
      ]
     },
     "execution_count": 72,
     "metadata": {},
     "output_type": "execute_result"
    }
   ],
   "source": [
    "stop_punc"
   ]
  },
  {
   "cell_type": "code",
   "execution_count": 73,
   "metadata": {},
   "outputs": [
    {
     "data": {
      "text/html": [
       "<div>\n",
       "<style scoped>\n",
       "    .dataframe tbody tr th:only-of-type {\n",
       "        vertical-align: middle;\n",
       "    }\n",
       "\n",
       "    .dataframe tbody tr th {\n",
       "        vertical-align: top;\n",
       "    }\n",
       "\n",
       "    .dataframe thead th {\n",
       "        text-align: right;\n",
       "    }\n",
       "</style>\n",
       "<table border=\"1\" class=\"dataframe\">\n",
       "  <thead>\n",
       "    <tr style=\"text-align: right;\">\n",
       "      <th></th>\n",
       "      <th>Tweet</th>\n",
       "      <th>Avg</th>\n",
       "      <th>Tweet_LC</th>\n",
       "    </tr>\n",
       "  </thead>\n",
       "  <tbody>\n",
       "    <tr>\n",
       "      <th>0</th>\n",
       "      <td>I have to say, Apple has by far the best custo...</td>\n",
       "      <td>2.0</td>\n",
       "      <td>i have to say, apple has by far the best custo...</td>\n",
       "    </tr>\n",
       "    <tr>\n",
       "      <th>1</th>\n",
       "      <td>iOS 7 is so fricking smooth &amp; beautiful!! #Tha...</td>\n",
       "      <td>2.0</td>\n",
       "      <td>ios 7 is so fricking smooth &amp; beautiful!! #tha...</td>\n",
       "    </tr>\n",
       "    <tr>\n",
       "      <th>2</th>\n",
       "      <td>LOVE U @APPLE</td>\n",
       "      <td>1.8</td>\n",
       "      <td>love u @apple</td>\n",
       "    </tr>\n",
       "    <tr>\n",
       "      <th>3</th>\n",
       "      <td>Thank you @apple, loving my new iPhone 5S!!!!!...</td>\n",
       "      <td>1.8</td>\n",
       "      <td>thank you @apple, loving my new iphone 5s!!!!!...</td>\n",
       "    </tr>\n",
       "    <tr>\n",
       "      <th>4</th>\n",
       "      <td>.@apple has the best customer service. In and ...</td>\n",
       "      <td>1.8</td>\n",
       "      <td>.@apple has the best customer service. in and ...</td>\n",
       "    </tr>\n",
       "  </tbody>\n",
       "</table>\n",
       "</div>"
      ],
      "text/plain": [
       "                                               Tweet  Avg  \\\n",
       "0  I have to say, Apple has by far the best custo...  2.0   \n",
       "1  iOS 7 is so fricking smooth & beautiful!! #Tha...  2.0   \n",
       "2                                      LOVE U @APPLE  1.8   \n",
       "3  Thank you @apple, loving my new iPhone 5S!!!!!...  1.8   \n",
       "4  .@apple has the best customer service. In and ...  1.8   \n",
       "\n",
       "                                            Tweet_LC  \n",
       "0  i have to say, apple has by far the best custo...  \n",
       "1  ios 7 is so fricking smooth & beautiful!! #tha...  \n",
       "2                                      love u @apple  \n",
       "3  thank you @apple, loving my new iphone 5s!!!!!...  \n",
       "4  .@apple has the best customer service. in and ...  "
      ]
     },
     "execution_count": 73,
     "metadata": {},
     "output_type": "execute_result"
    }
   ],
   "source": [
    "# Converting the tweets to lower case\n",
    "Apple_tweets['Tweet_LC'] = Apple_tweets['Tweet'].apply(lambda x: \" \".join(x.lower() for x in x.split())) #lambda functions - Temporary functions \n",
    "Apple_tweets.head()"
   ]
  },
  {
   "cell_type": "code",
   "execution_count": 74,
   "metadata": {},
   "outputs": [
    {
     "data": {
      "text/plain": [
       "['Let',\n",
       " 'me',\n",
       " 'tell',\n",
       " 'a',\n",
       " 'kutti',\n",
       " 'story',\n",
       " 'pay',\n",
       " 'attention',\n",
       " 'listen',\n",
       " 'to',\n",
       " 'me']"
      ]
     },
     "execution_count": 74,
     "metadata": {},
     "output_type": "execute_result"
    }
   ],
   "source": [
    "x = 'Let me tell a kutti story pay attention listen to me' # Song from master\n",
    "y = x.split()\n",
    "y"
   ]
  },
  {
   "cell_type": "code",
   "execution_count": 75,
   "metadata": {},
   "outputs": [
    {
     "data": {
      "text/plain": [
       "['let',\n",
       " 'me',\n",
       " 'tell',\n",
       " 'a',\n",
       " 'kutti',\n",
       " 'story',\n",
       " 'pay',\n",
       " 'attention',\n",
       " 'listen',\n",
       " 'to',\n",
       " 'me']"
      ]
     },
     "execution_count": 75,
     "metadata": {},
     "output_type": "execute_result"
    }
   ],
   "source": [
    "lc = [i.lower() for i in y]\n",
    "lc"
   ]
  },
  {
   "cell_type": "code",
   "execution_count": 76,
   "metadata": {},
   "outputs": [
    {
     "data": {
      "text/plain": [
       "'let me tell a kutti story pay attention listen to me'"
      ]
     },
     "execution_count": 76,
     "metadata": {},
     "output_type": "execute_result"
    }
   ],
   "source": [
    "\" \".join(lc)"
   ]
  },
  {
   "cell_type": "code",
   "execution_count": 77,
   "metadata": {},
   "outputs": [
    {
     "data": {
      "text/plain": [
       "'let me tell a kutti story pay attention listen to me'"
      ]
     },
     "execution_count": 77,
     "metadata": {},
     "output_type": "execute_result"
    }
   ],
   "source": [
    "x = 'Let me tell a kutti story pay attention listen to me'\n",
    "x.lower()"
   ]
  },
  {
   "cell_type": "code",
   "execution_count": 78,
   "metadata": {},
   "outputs": [
    {
     "data": {
      "text/plain": [
       "'Let me tell a kutti story pay attention listen to me'"
      ]
     },
     "execution_count": 78,
     "metadata": {},
     "output_type": "execute_result"
    }
   ],
   "source": [
    "\" \".join(y)"
   ]
  },
  {
   "cell_type": "code",
   "execution_count": 79,
   "metadata": {},
   "outputs": [],
   "source": [
    "a = 'twinklw twinkle little star'"
   ]
  },
  {
   "cell_type": "code",
   "execution_count": 80,
   "metadata": {},
   "outputs": [
    {
     "data": {
      "text/plain": [
       "'TWINKLW TWINKLE LITTLE STAR'"
      ]
     },
     "execution_count": 80,
     "metadata": {},
     "output_type": "execute_result"
    }
   ],
   "source": [
    "a.upper()"
   ]
  },
  {
   "cell_type": "code",
   "execution_count": 81,
   "metadata": {},
   "outputs": [
    {
     "data": {
      "text/plain": [
       "'twinklw*twinkle*little*star'"
      ]
     },
     "execution_count": 81,
     "metadata": {},
     "output_type": "execute_result"
    }
   ],
   "source": [
    "l = '*'.join(a.split())\n",
    "l"
   ]
  },
  {
   "cell_type": "code",
   "execution_count": 82,
   "metadata": {},
   "outputs": [],
   "source": [
    "l = a.split(sep = '*')"
   ]
  },
  {
   "cell_type": "code",
   "execution_count": 83,
   "metadata": {},
   "outputs": [
    {
     "data": {
      "text/plain": [
       "['twinklw twinkle little star']"
      ]
     },
     "execution_count": 83,
     "metadata": {},
     "output_type": "execute_result"
    }
   ],
   "source": [
    "l"
   ]
  },
  {
   "cell_type": "code",
   "execution_count": 84,
   "metadata": {},
   "outputs": [
    {
     "data": {
      "text/plain": [
       "'twinklw twinkle little star'"
      ]
     },
     "execution_count": 84,
     "metadata": {},
     "output_type": "execute_result"
    }
   ],
   "source": [
    "' '.join(l)"
   ]
  },
  {
   "cell_type": "code",
   "execution_count": 85,
   "metadata": {},
   "outputs": [],
   "source": [
    "c = '1234567'\n"
   ]
  },
  {
   "cell_type": "code",
   "execution_count": 86,
   "metadata": {},
   "outputs": [
    {
     "name": "stderr",
     "output_type": "stream",
     "text": [
      "C:\\Users\\ANIRUDDH\\AppData\\Local\\Temp\\ipykernel_4280\\1455068966.py:2: FutureWarning: The default value of regex will change from True to False in a future version.\n",
      "  Apple_tweets['Tweet_LC_PuncRem'] = Apple_tweets['Tweet_LC'].str.replace('[^\\w\\s@#]','') #'[+91 \\n]' A to Z, 0 to 9 everything else special character\n",
      "C:\\Users\\ANIRUDDH\\AppData\\Local\\Temp\\ipykernel_4280\\1455068966.py:3: FutureWarning: The default value of regex will change from True to False in a future version.\n",
      "  Apple_tweets['Tweet_LC_PuncRem2'] = Apple_tweets['Tweet_LC'].str.replace('[^\\w\\s]','')\n"
     ]
    },
    {
     "data": {
      "text/html": [
       "<div>\n",
       "<style scoped>\n",
       "    .dataframe tbody tr th:only-of-type {\n",
       "        vertical-align: middle;\n",
       "    }\n",
       "\n",
       "    .dataframe tbody tr th {\n",
       "        vertical-align: top;\n",
       "    }\n",
       "\n",
       "    .dataframe thead th {\n",
       "        text-align: right;\n",
       "    }\n",
       "</style>\n",
       "<table border=\"1\" class=\"dataframe\">\n",
       "  <thead>\n",
       "    <tr style=\"text-align: right;\">\n",
       "      <th></th>\n",
       "      <th>Tweet</th>\n",
       "      <th>Avg</th>\n",
       "      <th>Tweet_LC</th>\n",
       "      <th>Tweet_LC_PuncRem</th>\n",
       "      <th>Tweet_LC_PuncRem2</th>\n",
       "    </tr>\n",
       "  </thead>\n",
       "  <tbody>\n",
       "    <tr>\n",
       "      <th>0</th>\n",
       "      <td>I have to say, Apple has by far the best custo...</td>\n",
       "      <td>2.0</td>\n",
       "      <td>i have to say, apple has by far the best custo...</td>\n",
       "      <td>i have to say apple has by far the best custom...</td>\n",
       "      <td>i have to say apple has by far the best custom...</td>\n",
       "    </tr>\n",
       "    <tr>\n",
       "      <th>1</th>\n",
       "      <td>iOS 7 is so fricking smooth &amp; beautiful!! #Tha...</td>\n",
       "      <td>2.0</td>\n",
       "      <td>ios 7 is so fricking smooth &amp; beautiful!! #tha...</td>\n",
       "      <td>ios 7 is so fricking smooth  beautiful #thanxa...</td>\n",
       "      <td>ios 7 is so fricking smooth  beautiful thanxap...</td>\n",
       "    </tr>\n",
       "    <tr>\n",
       "      <th>2</th>\n",
       "      <td>LOVE U @APPLE</td>\n",
       "      <td>1.8</td>\n",
       "      <td>love u @apple</td>\n",
       "      <td>love u @apple</td>\n",
       "      <td>love u apple</td>\n",
       "    </tr>\n",
       "    <tr>\n",
       "      <th>3</th>\n",
       "      <td>Thank you @apple, loving my new iPhone 5S!!!!!...</td>\n",
       "      <td>1.8</td>\n",
       "      <td>thank you @apple, loving my new iphone 5s!!!!!...</td>\n",
       "      <td>thank you @apple loving my new iphone 5s #appl...</td>\n",
       "      <td>thank you apple loving my new iphone 5s apple ...</td>\n",
       "    </tr>\n",
       "    <tr>\n",
       "      <th>4</th>\n",
       "      <td>.@apple has the best customer service. In and ...</td>\n",
       "      <td>1.8</td>\n",
       "      <td>.@apple has the best customer service. in and ...</td>\n",
       "      <td>@apple has the best customer service in and ou...</td>\n",
       "      <td>apple has the best customer service in and out...</td>\n",
       "    </tr>\n",
       "  </tbody>\n",
       "</table>\n",
       "</div>"
      ],
      "text/plain": [
       "                                               Tweet  Avg  \\\n",
       "0  I have to say, Apple has by far the best custo...  2.0   \n",
       "1  iOS 7 is so fricking smooth & beautiful!! #Tha...  2.0   \n",
       "2                                      LOVE U @APPLE  1.8   \n",
       "3  Thank you @apple, loving my new iPhone 5S!!!!!...  1.8   \n",
       "4  .@apple has the best customer service. In and ...  1.8   \n",
       "\n",
       "                                            Tweet_LC  \\\n",
       "0  i have to say, apple has by far the best custo...   \n",
       "1  ios 7 is so fricking smooth & beautiful!! #tha...   \n",
       "2                                      love u @apple   \n",
       "3  thank you @apple, loving my new iphone 5s!!!!!...   \n",
       "4  .@apple has the best customer service. in and ...   \n",
       "\n",
       "                                    Tweet_LC_PuncRem  \\\n",
       "0  i have to say apple has by far the best custom...   \n",
       "1  ios 7 is so fricking smooth  beautiful #thanxa...   \n",
       "2                                      love u @apple   \n",
       "3  thank you @apple loving my new iphone 5s #appl...   \n",
       "4  @apple has the best customer service in and ou...   \n",
       "\n",
       "                                   Tweet_LC_PuncRem2  \n",
       "0  i have to say apple has by far the best custom...  \n",
       "1  ios 7 is so fricking smooth  beautiful thanxap...  \n",
       "2                                       love u apple  \n",
       "3  thank you apple loving my new iphone 5s apple ...  \n",
       "4  apple has the best customer service in and out...  "
      ]
     },
     "execution_count": 86,
     "metadata": {},
     "output_type": "execute_result"
    }
   ],
   "source": [
    "# Removing all the special characters - #@\n",
    "Apple_tweets['Tweet_LC_PuncRem'] = Apple_tweets['Tweet_LC'].str.replace('[^\\w\\s@#]','') #'[+91 \\n]' A to Z, 0 to 9 everything else special character\n",
    "Apple_tweets['Tweet_LC_PuncRem2'] = Apple_tweets['Tweet_LC'].str.replace('[^\\w\\s]','')\n",
    "Apple_tweets.head()"
   ]
  },
  {
   "cell_type": "code",
   "execution_count": 87,
   "metadata": {},
   "outputs": [
    {
     "data": {
      "text/html": [
       "<div>\n",
       "<style scoped>\n",
       "    .dataframe tbody tr th:only-of-type {\n",
       "        vertical-align: middle;\n",
       "    }\n",
       "\n",
       "    .dataframe tbody tr th {\n",
       "        vertical-align: top;\n",
       "    }\n",
       "\n",
       "    .dataframe thead th {\n",
       "        text-align: right;\n",
       "    }\n",
       "</style>\n",
       "<table border=\"1\" class=\"dataframe\">\n",
       "  <thead>\n",
       "    <tr style=\"text-align: right;\">\n",
       "      <th></th>\n",
       "      <th>Tweet</th>\n",
       "      <th>Avg</th>\n",
       "      <th>Tweet_LC</th>\n",
       "      <th>Tweet_LC_PuncRem</th>\n",
       "      <th>Tweet_LC_PuncRem2</th>\n",
       "      <th>Tweet_stop_clean</th>\n",
       "    </tr>\n",
       "  </thead>\n",
       "  <tbody>\n",
       "    <tr>\n",
       "      <th>0</th>\n",
       "      <td>I have to say, Apple has by far the best custo...</td>\n",
       "      <td>2.0</td>\n",
       "      <td>i have to say, apple has by far the best custo...</td>\n",
       "      <td>i have to say apple has by far the best custom...</td>\n",
       "      <td>i have to say apple has by far the best custom...</td>\n",
       "      <td>say far best customer care service ever receiv...</td>\n",
       "    </tr>\n",
       "    <tr>\n",
       "      <th>1</th>\n",
       "      <td>iOS 7 is so fricking smooth &amp; beautiful!! #Tha...</td>\n",
       "      <td>2.0</td>\n",
       "      <td>ios 7 is so fricking smooth &amp; beautiful!! #tha...</td>\n",
       "      <td>ios 7 is so fricking smooth  beautiful #thanxa...</td>\n",
       "      <td>ios 7 is so fricking smooth  beautiful thanxap...</td>\n",
       "      <td>ios 7 fricking smooth beautiful thanxapple</td>\n",
       "    </tr>\n",
       "    <tr>\n",
       "      <th>2</th>\n",
       "      <td>LOVE U @APPLE</td>\n",
       "      <td>1.8</td>\n",
       "      <td>love u @apple</td>\n",
       "      <td>love u @apple</td>\n",
       "      <td>love u apple</td>\n",
       "      <td>love u</td>\n",
       "    </tr>\n",
       "    <tr>\n",
       "      <th>3</th>\n",
       "      <td>Thank you @apple, loving my new iPhone 5S!!!!!...</td>\n",
       "      <td>1.8</td>\n",
       "      <td>thank you @apple, loving my new iphone 5s!!!!!...</td>\n",
       "      <td>thank you @apple loving my new iphone 5s #appl...</td>\n",
       "      <td>thank you apple loving my new iphone 5s apple ...</td>\n",
       "      <td>thank loving new iphone 5s iphone5s pictwitter...</td>\n",
       "    </tr>\n",
       "    <tr>\n",
       "      <th>4</th>\n",
       "      <td>.@apple has the best customer service. In and ...</td>\n",
       "      <td>1.8</td>\n",
       "      <td>.@apple has the best customer service. in and ...</td>\n",
       "      <td>@apple has the best customer service in and ou...</td>\n",
       "      <td>apple has the best customer service in and out...</td>\n",
       "      <td>best customer service new phone 10min</td>\n",
       "    </tr>\n",
       "  </tbody>\n",
       "</table>\n",
       "</div>"
      ],
      "text/plain": [
       "                                               Tweet  Avg  \\\n",
       "0  I have to say, Apple has by far the best custo...  2.0   \n",
       "1  iOS 7 is so fricking smooth & beautiful!! #Tha...  2.0   \n",
       "2                                      LOVE U @APPLE  1.8   \n",
       "3  Thank you @apple, loving my new iPhone 5S!!!!!...  1.8   \n",
       "4  .@apple has the best customer service. In and ...  1.8   \n",
       "\n",
       "                                            Tweet_LC  \\\n",
       "0  i have to say, apple has by far the best custo...   \n",
       "1  ios 7 is so fricking smooth & beautiful!! #tha...   \n",
       "2                                      love u @apple   \n",
       "3  thank you @apple, loving my new iphone 5s!!!!!...   \n",
       "4  .@apple has the best customer service. in and ...   \n",
       "\n",
       "                                    Tweet_LC_PuncRem  \\\n",
       "0  i have to say apple has by far the best custom...   \n",
       "1  ios 7 is so fricking smooth  beautiful #thanxa...   \n",
       "2                                      love u @apple   \n",
       "3  thank you @apple loving my new iphone 5s #appl...   \n",
       "4  @apple has the best customer service in and ou...   \n",
       "\n",
       "                                   Tweet_LC_PuncRem2  \\\n",
       "0  i have to say apple has by far the best custom...   \n",
       "1  ios 7 is so fricking smooth  beautiful thanxap...   \n",
       "2                                       love u apple   \n",
       "3  thank you apple loving my new iphone 5s apple ...   \n",
       "4  apple has the best customer service in and out...   \n",
       "\n",
       "                                    Tweet_stop_clean  \n",
       "0  say far best customer care service ever receiv...  \n",
       "1         ios 7 fricking smooth beautiful thanxapple  \n",
       "2                                             love u  \n",
       "3  thank loving new iphone 5s iphone5s pictwitter...  \n",
       "4              best customer service new phone 10min  "
      ]
     },
     "execution_count": 87,
     "metadata": {},
     "output_type": "execute_result"
    }
   ],
   "source": [
    "# Removing Stopwords + common words\n",
    "stop_punc = stop_punc + ['apple','@apple'] # @apple \n",
    "Apple_tweets['Tweet_stop_clean'] = Apple_tweets['Tweet_LC_PuncRem2'].apply(lambda x: ' '.join(x for x in x.split() if x not in stop_punc))\n",
    "Apple_tweets.head()"
   ]
  },
  {
   "cell_type": "code",
   "execution_count": 88,
   "metadata": {},
   "outputs": [
    {
     "data": {
      "text/html": [
       "<div>\n",
       "<style scoped>\n",
       "    .dataframe tbody tr th:only-of-type {\n",
       "        vertical-align: middle;\n",
       "    }\n",
       "\n",
       "    .dataframe tbody tr th {\n",
       "        vertical-align: top;\n",
       "    }\n",
       "\n",
       "    .dataframe thead th {\n",
       "        text-align: right;\n",
       "    }\n",
       "</style>\n",
       "<table border=\"1\" class=\"dataframe\">\n",
       "  <thead>\n",
       "    <tr style=\"text-align: right;\">\n",
       "      <th></th>\n",
       "      <th>Tweet</th>\n",
       "      <th>Avg</th>\n",
       "      <th>Tweet_LC</th>\n",
       "      <th>Tweet_LC_PuncRem</th>\n",
       "      <th>Tweet_LC_PuncRem2</th>\n",
       "      <th>Tweet_stop_clean</th>\n",
       "      <th>Tweet_stop_clean_stem</th>\n",
       "    </tr>\n",
       "  </thead>\n",
       "  <tbody>\n",
       "    <tr>\n",
       "      <th>0</th>\n",
       "      <td>I have to say, Apple has by far the best custo...</td>\n",
       "      <td>2.0</td>\n",
       "      <td>i have to say, apple has by far the best custo...</td>\n",
       "      <td>i have to say apple has by far the best custom...</td>\n",
       "      <td>i have to say apple has by far the best custom...</td>\n",
       "      <td>say far best customer care service ever receiv...</td>\n",
       "      <td>say far best custom care servic ever receiv ap...</td>\n",
       "    </tr>\n",
       "    <tr>\n",
       "      <th>1</th>\n",
       "      <td>iOS 7 is so fricking smooth &amp; beautiful!! #Tha...</td>\n",
       "      <td>2.0</td>\n",
       "      <td>ios 7 is so fricking smooth &amp; beautiful!! #tha...</td>\n",
       "      <td>ios 7 is so fricking smooth  beautiful #thanxa...</td>\n",
       "      <td>ios 7 is so fricking smooth  beautiful thanxap...</td>\n",
       "      <td>ios 7 fricking smooth beautiful thanxapple</td>\n",
       "      <td>io 7 frick smooth beauti thanxappl</td>\n",
       "    </tr>\n",
       "    <tr>\n",
       "      <th>2</th>\n",
       "      <td>LOVE U @APPLE</td>\n",
       "      <td>1.8</td>\n",
       "      <td>love u @apple</td>\n",
       "      <td>love u @apple</td>\n",
       "      <td>love u apple</td>\n",
       "      <td>love u</td>\n",
       "      <td>love u</td>\n",
       "    </tr>\n",
       "    <tr>\n",
       "      <th>3</th>\n",
       "      <td>Thank you @apple, loving my new iPhone 5S!!!!!...</td>\n",
       "      <td>1.8</td>\n",
       "      <td>thank you @apple, loving my new iphone 5s!!!!!...</td>\n",
       "      <td>thank you @apple loving my new iphone 5s #appl...</td>\n",
       "      <td>thank you apple loving my new iphone 5s apple ...</td>\n",
       "      <td>thank loving new iphone 5s iphone5s pictwitter...</td>\n",
       "      <td>thank love new iphon 5s iphone5 pictwittercomx...</td>\n",
       "    </tr>\n",
       "    <tr>\n",
       "      <th>4</th>\n",
       "      <td>.@apple has the best customer service. In and ...</td>\n",
       "      <td>1.8</td>\n",
       "      <td>.@apple has the best customer service. in and ...</td>\n",
       "      <td>@apple has the best customer service in and ou...</td>\n",
       "      <td>apple has the best customer service in and out...</td>\n",
       "      <td>best customer service new phone 10min</td>\n",
       "      <td>best custom servic new phone 10min</td>\n",
       "    </tr>\n",
       "    <tr>\n",
       "      <th>5</th>\n",
       "      <td>@apple ear pods are AMAZING! Best sound from i...</td>\n",
       "      <td>1.8</td>\n",
       "      <td>@apple ear pods are amazing! best sound from i...</td>\n",
       "      <td>@apple ear pods are amazing best sound from in...</td>\n",
       "      <td>apple ear pods are amazing best sound from ine...</td>\n",
       "      <td>ear pods amazing best sound inear headphones i...</td>\n",
       "      <td>ear pod amaz best sound inear headphon ive ever</td>\n",
       "    </tr>\n",
       "    <tr>\n",
       "      <th>6</th>\n",
       "      <td>Omg the iPhone 5S is so cool it can read your ...</td>\n",
       "      <td>1.8</td>\n",
       "      <td>omg the iphone 5s is so cool it can read your ...</td>\n",
       "      <td>omg the iphone 5s is so cool it can read your ...</td>\n",
       "      <td>omg the iphone 5s is so cool it can read your ...</td>\n",
       "      <td>omg iphone 5s cool read finger print unlock ip...</td>\n",
       "      <td>omg iphon 5s cool read finger print unlock iph...</td>\n",
       "    </tr>\n",
       "    <tr>\n",
       "      <th>7</th>\n",
       "      <td>the iPhone 5c is so beautiful &lt;3 @Apple</td>\n",
       "      <td>1.6</td>\n",
       "      <td>the iphone 5c is so beautiful &lt;3 @apple</td>\n",
       "      <td>the iphone 5c is so beautiful 3 @apple</td>\n",
       "      <td>the iphone 5c is so beautiful 3 apple</td>\n",
       "      <td>iphone 5c beautiful 3</td>\n",
       "      <td>iphon 5c beauti 3</td>\n",
       "    </tr>\n",
       "    <tr>\n",
       "      <th>8</th>\n",
       "      <td>#AttributeOwnership is exactly why @apple will...</td>\n",
       "      <td>1.6</td>\n",
       "      <td>#attributeownership is exactly why @apple will...</td>\n",
       "      <td>#attributeownership is exactly why @apple will...</td>\n",
       "      <td>attributeownership is exactly why apple will a...</td>\n",
       "      <td>attributeownership exactly always one marketin...</td>\n",
       "      <td>attributeownership exact alway one market mark...</td>\n",
       "    </tr>\n",
       "    <tr>\n",
       "      <th>9</th>\n",
       "      <td>Just checked out the specs on the new iOS 7......</td>\n",
       "      <td>1.6</td>\n",
       "      <td>just checked out the specs on the new ios 7......</td>\n",
       "      <td>just checked out the specs on the new ios 7wow...</td>\n",
       "      <td>just checked out the specs on the new ios 7wow...</td>\n",
       "      <td>checked specs new ios 7wow say cant wait get n...</td>\n",
       "      <td>check spec new io 7wow say cant wait get new u...</td>\n",
       "    </tr>\n",
       "  </tbody>\n",
       "</table>\n",
       "</div>"
      ],
      "text/plain": [
       "                                               Tweet  Avg  \\\n",
       "0  I have to say, Apple has by far the best custo...  2.0   \n",
       "1  iOS 7 is so fricking smooth & beautiful!! #Tha...  2.0   \n",
       "2                                      LOVE U @APPLE  1.8   \n",
       "3  Thank you @apple, loving my new iPhone 5S!!!!!...  1.8   \n",
       "4  .@apple has the best customer service. In and ...  1.8   \n",
       "5  @apple ear pods are AMAZING! Best sound from i...  1.8   \n",
       "6  Omg the iPhone 5S is so cool it can read your ...  1.8   \n",
       "7            the iPhone 5c is so beautiful <3 @Apple  1.6   \n",
       "8  #AttributeOwnership is exactly why @apple will...  1.6   \n",
       "9  Just checked out the specs on the new iOS 7......  1.6   \n",
       "\n",
       "                                            Tweet_LC  \\\n",
       "0  i have to say, apple has by far the best custo...   \n",
       "1  ios 7 is so fricking smooth & beautiful!! #tha...   \n",
       "2                                      love u @apple   \n",
       "3  thank you @apple, loving my new iphone 5s!!!!!...   \n",
       "4  .@apple has the best customer service. in and ...   \n",
       "5  @apple ear pods are amazing! best sound from i...   \n",
       "6  omg the iphone 5s is so cool it can read your ...   \n",
       "7            the iphone 5c is so beautiful <3 @apple   \n",
       "8  #attributeownership is exactly why @apple will...   \n",
       "9  just checked out the specs on the new ios 7......   \n",
       "\n",
       "                                    Tweet_LC_PuncRem  \\\n",
       "0  i have to say apple has by far the best custom...   \n",
       "1  ios 7 is so fricking smooth  beautiful #thanxa...   \n",
       "2                                      love u @apple   \n",
       "3  thank you @apple loving my new iphone 5s #appl...   \n",
       "4  @apple has the best customer service in and ou...   \n",
       "5  @apple ear pods are amazing best sound from in...   \n",
       "6  omg the iphone 5s is so cool it can read your ...   \n",
       "7             the iphone 5c is so beautiful 3 @apple   \n",
       "8  #attributeownership is exactly why @apple will...   \n",
       "9  just checked out the specs on the new ios 7wow...   \n",
       "\n",
       "                                   Tweet_LC_PuncRem2  \\\n",
       "0  i have to say apple has by far the best custom...   \n",
       "1  ios 7 is so fricking smooth  beautiful thanxap...   \n",
       "2                                       love u apple   \n",
       "3  thank you apple loving my new iphone 5s apple ...   \n",
       "4  apple has the best customer service in and out...   \n",
       "5  apple ear pods are amazing best sound from ine...   \n",
       "6  omg the iphone 5s is so cool it can read your ...   \n",
       "7              the iphone 5c is so beautiful 3 apple   \n",
       "8  attributeownership is exactly why apple will a...   \n",
       "9  just checked out the specs on the new ios 7wow...   \n",
       "\n",
       "                                    Tweet_stop_clean  \\\n",
       "0  say far best customer care service ever receiv...   \n",
       "1         ios 7 fricking smooth beautiful thanxapple   \n",
       "2                                             love u   \n",
       "3  thank loving new iphone 5s iphone5s pictwitter...   \n",
       "4              best customer service new phone 10min   \n",
       "5  ear pods amazing best sound inear headphones i...   \n",
       "6  omg iphone 5s cool read finger print unlock ip...   \n",
       "7                              iphone 5c beautiful 3   \n",
       "8  attributeownership exactly always one marketin...   \n",
       "9  checked specs new ios 7wow say cant wait get n...   \n",
       "\n",
       "                               Tweet_stop_clean_stem  \n",
       "0  say far best custom care servic ever receiv ap...  \n",
       "1                 io 7 frick smooth beauti thanxappl  \n",
       "2                                             love u  \n",
       "3  thank love new iphon 5s iphone5 pictwittercomx...  \n",
       "4                 best custom servic new phone 10min  \n",
       "5    ear pod amaz best sound inear headphon ive ever  \n",
       "6  omg iphon 5s cool read finger print unlock iph...  \n",
       "7                                  iphon 5c beauti 3  \n",
       "8  attributeownership exact alway one market mark...  \n",
       "9  check spec new io 7wow say cant wait get new u...  "
      ]
     },
     "execution_count": 88,
     "metadata": {},
     "output_type": "execute_result"
    }
   ],
   "source": [
    "# Stemming \n",
    "from nltk.stem import SnowballStemmer # Porter Stemmer \n",
    "stemmer  = SnowballStemmer('english')\n",
    "Apple_tweets['Tweet_stop_clean_stem'] = Apple_tweets['Tweet_stop_clean'].apply(lambda x: ' '.join(stemmer.stem(x) for x in x.split()))\n",
    "Apple_tweets.head(10)"
   ]
  },
  {
   "cell_type": "code",
   "execution_count": 89,
   "metadata": {},
   "outputs": [
    {
     "data": {
      "text/html": [
       "<div>\n",
       "<style scoped>\n",
       "    .dataframe tbody tr th:only-of-type {\n",
       "        vertical-align: middle;\n",
       "    }\n",
       "\n",
       "    .dataframe tbody tr th {\n",
       "        vertical-align: top;\n",
       "    }\n",
       "\n",
       "    .dataframe thead th {\n",
       "        text-align: right;\n",
       "    }\n",
       "</style>\n",
       "<table border=\"1\" class=\"dataframe\">\n",
       "  <thead>\n",
       "    <tr style=\"text-align: right;\">\n",
       "      <th></th>\n",
       "      <th>Tweet</th>\n",
       "      <th>Avg</th>\n",
       "      <th>Tweet_LC</th>\n",
       "      <th>Tweet_LC_PuncRem</th>\n",
       "      <th>Tweet_LC_PuncRem2</th>\n",
       "      <th>Tweet_stop_clean</th>\n",
       "      <th>Tweet_stop_clean_stem</th>\n",
       "      <th>tags_hashtags</th>\n",
       "    </tr>\n",
       "  </thead>\n",
       "  <tbody>\n",
       "    <tr>\n",
       "      <th>0</th>\n",
       "      <td>I have to say, Apple has by far the best custo...</td>\n",
       "      <td>2.0</td>\n",
       "      <td>i have to say, apple has by far the best custo...</td>\n",
       "      <td>i have to say apple has by far the best custom...</td>\n",
       "      <td>i have to say apple has by far the best custom...</td>\n",
       "      <td>say far best customer care service ever receiv...</td>\n",
       "      <td>say far best custom care servic ever receiv ap...</td>\n",
       "      <td>@apple @appstore</td>\n",
       "    </tr>\n",
       "    <tr>\n",
       "      <th>1</th>\n",
       "      <td>iOS 7 is so fricking smooth &amp; beautiful!! #Tha...</td>\n",
       "      <td>2.0</td>\n",
       "      <td>ios 7 is so fricking smooth &amp; beautiful!! #tha...</td>\n",
       "      <td>ios 7 is so fricking smooth  beautiful #thanxa...</td>\n",
       "      <td>ios 7 is so fricking smooth  beautiful thanxap...</td>\n",
       "      <td>ios 7 fricking smooth beautiful thanxapple</td>\n",
       "      <td>io 7 frick smooth beauti thanxappl</td>\n",
       "      <td>#thanxapple @apple</td>\n",
       "    </tr>\n",
       "    <tr>\n",
       "      <th>2</th>\n",
       "      <td>LOVE U @APPLE</td>\n",
       "      <td>1.8</td>\n",
       "      <td>love u @apple</td>\n",
       "      <td>love u @apple</td>\n",
       "      <td>love u apple</td>\n",
       "      <td>love u</td>\n",
       "      <td>love u</td>\n",
       "      <td>@apple</td>\n",
       "    </tr>\n",
       "    <tr>\n",
       "      <th>3</th>\n",
       "      <td>Thank you @apple, loving my new iPhone 5S!!!!!...</td>\n",
       "      <td>1.8</td>\n",
       "      <td>thank you @apple, loving my new iphone 5s!!!!!...</td>\n",
       "      <td>thank you @apple loving my new iphone 5s #appl...</td>\n",
       "      <td>thank you apple loving my new iphone 5s apple ...</td>\n",
       "      <td>thank loving new iphone 5s iphone5s pictwitter...</td>\n",
       "      <td>thank love new iphon 5s iphone5 pictwittercomx...</td>\n",
       "      <td>@apple, #apple #iphone5s</td>\n",
       "    </tr>\n",
       "    <tr>\n",
       "      <th>4</th>\n",
       "      <td>.@apple has the best customer service. In and ...</td>\n",
       "      <td>1.8</td>\n",
       "      <td>.@apple has the best customer service. in and ...</td>\n",
       "      <td>@apple has the best customer service in and ou...</td>\n",
       "      <td>apple has the best customer service in and out...</td>\n",
       "      <td>best customer service new phone 10min</td>\n",
       "      <td>best custom servic new phone 10min</td>\n",
       "      <td>@None</td>\n",
       "    </tr>\n",
       "  </tbody>\n",
       "</table>\n",
       "</div>"
      ],
      "text/plain": [
       "                                               Tweet  Avg  \\\n",
       "0  I have to say, Apple has by far the best custo...  2.0   \n",
       "1  iOS 7 is so fricking smooth & beautiful!! #Tha...  2.0   \n",
       "2                                      LOVE U @APPLE  1.8   \n",
       "3  Thank you @apple, loving my new iPhone 5S!!!!!...  1.8   \n",
       "4  .@apple has the best customer service. In and ...  1.8   \n",
       "\n",
       "                                            Tweet_LC  \\\n",
       "0  i have to say, apple has by far the best custo...   \n",
       "1  ios 7 is so fricking smooth & beautiful!! #tha...   \n",
       "2                                      love u @apple   \n",
       "3  thank you @apple, loving my new iphone 5s!!!!!...   \n",
       "4  .@apple has the best customer service. in and ...   \n",
       "\n",
       "                                    Tweet_LC_PuncRem  \\\n",
       "0  i have to say apple has by far the best custom...   \n",
       "1  ios 7 is so fricking smooth  beautiful #thanxa...   \n",
       "2                                      love u @apple   \n",
       "3  thank you @apple loving my new iphone 5s #appl...   \n",
       "4  @apple has the best customer service in and ou...   \n",
       "\n",
       "                                   Tweet_LC_PuncRem2  \\\n",
       "0  i have to say apple has by far the best custom...   \n",
       "1  ios 7 is so fricking smooth  beautiful thanxap...   \n",
       "2                                       love u apple   \n",
       "3  thank you apple loving my new iphone 5s apple ...   \n",
       "4  apple has the best customer service in and out...   \n",
       "\n",
       "                                    Tweet_stop_clean  \\\n",
       "0  say far best customer care service ever receiv...   \n",
       "1         ios 7 fricking smooth beautiful thanxapple   \n",
       "2                                             love u   \n",
       "3  thank loving new iphone 5s iphone5s pictwitter...   \n",
       "4              best customer service new phone 10min   \n",
       "\n",
       "                               Tweet_stop_clean_stem             tags_hashtags  \n",
       "0  say far best custom care servic ever receiv ap...          @apple @appstore  \n",
       "1                 io 7 frick smooth beauti thanxappl        #thanxapple @apple  \n",
       "2                                             love u                    @apple  \n",
       "3  thank love new iphon 5s iphone5 pictwittercomx...  @apple, #apple #iphone5s  \n",
       "4                 best custom servic new phone 10min                     @None  "
      ]
     },
     "execution_count": 89,
     "metadata": {},
     "output_type": "execute_result"
    }
   ],
   "source": [
    "# Only tags and Hashtags\n",
    "Apple_tweets['tags_hashtags'] = Apple_tweets['Tweet_LC'].apply(lambda x: ' '.join(x for x in x.split() if x.startswith(('@','#'))))\n",
    "Apple_tweets['tags_hashtags'] = np.where(Apple_tweets['tags_hashtags'] == \"\",'@None',Apple_tweets['tags_hashtags'])\n",
    "Apple_tweets.head()"
   ]
  },
  {
   "cell_type": "markdown",
   "metadata": {},
   "source": [
    "## Basic Data Exploration"
   ]
  },
  {
   "cell_type": "code",
   "execution_count": 90,
   "metadata": {},
   "outputs": [
    {
     "data": {
      "text/html": [
       "<div>\n",
       "<style scoped>\n",
       "    .dataframe tbody tr th:only-of-type {\n",
       "        vertical-align: middle;\n",
       "    }\n",
       "\n",
       "    .dataframe tbody tr th {\n",
       "        vertical-align: top;\n",
       "    }\n",
       "\n",
       "    .dataframe thead th {\n",
       "        text-align: right;\n",
       "    }\n",
       "</style>\n",
       "<table border=\"1\" class=\"dataframe\">\n",
       "  <thead>\n",
       "    <tr style=\"text-align: right;\">\n",
       "      <th></th>\n",
       "      <th>Tweet_stop_clean_stem</th>\n",
       "      <th>totalwords</th>\n",
       "    </tr>\n",
       "  </thead>\n",
       "  <tbody>\n",
       "    <tr>\n",
       "      <th>0</th>\n",
       "      <td>say far best custom care servic ever receiv ap...</td>\n",
       "      <td>9</td>\n",
       "    </tr>\n",
       "    <tr>\n",
       "      <th>1</th>\n",
       "      <td>io 7 frick smooth beauti thanxappl</td>\n",
       "      <td>6</td>\n",
       "    </tr>\n",
       "    <tr>\n",
       "      <th>2</th>\n",
       "      <td>love u</td>\n",
       "      <td>2</td>\n",
       "    </tr>\n",
       "    <tr>\n",
       "      <th>3</th>\n",
       "      <td>thank love new iphon 5s iphone5 pictwittercomx...</td>\n",
       "      <td>7</td>\n",
       "    </tr>\n",
       "    <tr>\n",
       "      <th>4</th>\n",
       "      <td>best custom servic new phone 10min</td>\n",
       "      <td>6</td>\n",
       "    </tr>\n",
       "  </tbody>\n",
       "</table>\n",
       "</div>"
      ],
      "text/plain": [
       "                               Tweet_stop_clean_stem  totalwords\n",
       "0  say far best custom care servic ever receiv ap...           9\n",
       "1                 io 7 frick smooth beauti thanxappl           6\n",
       "2                                             love u           2\n",
       "3  thank love new iphon 5s iphone5 pictwittercomx...           7\n",
       "4                 best custom servic new phone 10min           6"
      ]
     },
     "execution_count": 90,
     "metadata": {},
     "output_type": "execute_result"
    }
   ],
   "source": [
    "# Words per Tweet\n",
    "Apple_tweets['totalwords'] = [len(x.split()) for x in Apple_tweets['Tweet_stop_clean_stem']]\n",
    "Apple_tweets[['Tweet_stop_clean_stem','totalwords']].head()"
   ]
  },
  {
   "cell_type": "code",
   "execution_count": 91,
   "metadata": {},
   "outputs": [
    {
     "data": {
      "text/plain": [
       "6"
      ]
     },
     "execution_count": 91,
     "metadata": {},
     "output_type": "execute_result"
    }
   ],
   "source": [
    "x = 'Hum tere bina ab reh sakte' # string\n",
    "len(x.split())"
   ]
  },
  {
   "cell_type": "code",
   "execution_count": 92,
   "metadata": {},
   "outputs": [
    {
     "data": {
      "text/plain": [
       "4"
      ]
     },
     "execution_count": 92,
     "metadata": {},
     "output_type": "execute_result"
    }
   ],
   "source": [
    "a = 'Twinkle Twinkle Little Star'\n",
    "len(a.split())\n"
   ]
  },
  {
   "cell_type": "code",
   "execution_count": 93,
   "metadata": {},
   "outputs": [
    {
     "data": {
      "image/png": "[encoded data removed]",
      "text/plain": [
       "<Figure size 720x720 with 1 Axes>"
      ]
     },
     "metadata": {
      "needs_background": "light"
     },
     "output_type": "display_data"
    }
   ],
   "source": [
    "fig,axes = plt.subplots(figsize=(10,10))\n",
    "sns.histplot(x='totalwords',data = Apple_tweets)\n",
    "plt.show()"
   ]
  },
  {
   "cell_type": "code",
   "execution_count": 94,
   "metadata": {},
   "outputs": [],
   "source": [
    "# Characters per tweet including spaces\n",
    "Apple_tweets['totalchar'] = Apple_tweets['Tweet'].str.len()"
   ]
  },
  {
   "cell_type": "code",
   "execution_count": 95,
   "metadata": {},
   "outputs": [
    {
     "data": {
      "text/plain": [
       "15"
      ]
     },
     "execution_count": 95,
     "metadata": {},
     "output_type": "execute_result"
    }
   ],
   "source": [
    "x = 'Why so serious?'\n",
    "len(x)"
   ]
  },
  {
   "cell_type": "code",
   "execution_count": 96,
   "metadata": {},
   "outputs": [
    {
     "data": {
      "text/html": [
       "<div>\n",
       "<style scoped>\n",
       "    .dataframe tbody tr th:only-of-type {\n",
       "        vertical-align: middle;\n",
       "    }\n",
       "\n",
       "    .dataframe tbody tr th {\n",
       "        vertical-align: top;\n",
       "    }\n",
       "\n",
       "    .dataframe thead th {\n",
       "        text-align: right;\n",
       "    }\n",
       "</style>\n",
       "<table border=\"1\" class=\"dataframe\">\n",
       "  <thead>\n",
       "    <tr style=\"text-align: right;\">\n",
       "      <th></th>\n",
       "      <th>Tweet</th>\n",
       "      <th>totalchar</th>\n",
       "    </tr>\n",
       "  </thead>\n",
       "  <tbody>\n",
       "    <tr>\n",
       "      <th>0</th>\n",
       "      <td>I have to say, Apple has by far the best custo...</td>\n",
       "      <td>101</td>\n",
       "    </tr>\n",
       "    <tr>\n",
       "      <th>1</th>\n",
       "      <td>iOS 7 is so fricking smooth &amp; beautiful!! #Tha...</td>\n",
       "      <td>60</td>\n",
       "    </tr>\n",
       "    <tr>\n",
       "      <th>2</th>\n",
       "      <td>LOVE U @APPLE</td>\n",
       "      <td>13</td>\n",
       "    </tr>\n",
       "    <tr>\n",
       "      <th>3</th>\n",
       "      <td>Thank you @apple, loving my new iPhone 5S!!!!!...</td>\n",
       "      <td>91</td>\n",
       "    </tr>\n",
       "    <tr>\n",
       "      <th>4</th>\n",
       "      <td>.@apple has the best customer service. In and ...</td>\n",
       "      <td>82</td>\n",
       "    </tr>\n",
       "  </tbody>\n",
       "</table>\n",
       "</div>"
      ],
      "text/plain": [
       "                                               Tweet  totalchar\n",
       "0  I have to say, Apple has by far the best custo...        101\n",
       "1  iOS 7 is so fricking smooth & beautiful!! #Tha...         60\n",
       "2                                      LOVE U @APPLE         13\n",
       "3  Thank you @apple, loving my new iPhone 5S!!!!!...         91\n",
       "4  .@apple has the best customer service. In and ...         82"
      ]
     },
     "execution_count": 96,
     "metadata": {},
     "output_type": "execute_result"
    }
   ],
   "source": [
    "Apple_tweets[['Tweet','totalchar']].head()"
   ]
  },
  {
   "cell_type": "code",
   "execution_count": 97,
   "metadata": {},
   "outputs": [
    {
     "data": {
      "text/plain": [
       "<AxesSubplot:xlabel='totalchar', ylabel='Count'>"
      ]
     },
     "execution_count": 97,
     "metadata": {},
     "output_type": "execute_result"
    },
    {
     "data": {
      "image/png": "[encoded data removed]",
      "text/plain": [
       "<Figure size 720x720 with 1 Axes>"
      ]
     },
     "metadata": {
      "needs_background": "light"
     },
     "output_type": "display_data"
    }
   ],
   "source": [
    "fig,axes = plt.subplots(figsize=(10,10))\n",
    "sns.histplot(x='totalchar',data = Apple_tweets)"
   ]
  },
  {
   "cell_type": "code",
   "execution_count": 98,
   "metadata": {},
   "outputs": [
    {
     "data": {
      "text/html": [
       "<div>\n",
       "<style scoped>\n",
       "    .dataframe tbody tr th:only-of-type {\n",
       "        vertical-align: middle;\n",
       "    }\n",
       "\n",
       "    .dataframe tbody tr th {\n",
       "        vertical-align: top;\n",
       "    }\n",
       "\n",
       "    .dataframe thead th {\n",
       "        text-align: right;\n",
       "    }\n",
       "</style>\n",
       "<table border=\"1\" class=\"dataframe\">\n",
       "  <thead>\n",
       "    <tr style=\"text-align: right;\">\n",
       "      <th></th>\n",
       "      <th>Tweet</th>\n",
       "      <th>avg_word</th>\n",
       "    </tr>\n",
       "  </thead>\n",
       "  <tbody>\n",
       "    <tr>\n",
       "      <th>0</th>\n",
       "      <td>I have to say, Apple has by far the best custo...</td>\n",
       "      <td>4.368421</td>\n",
       "    </tr>\n",
       "    <tr>\n",
       "      <th>1</th>\n",
       "      <td>iOS 7 is so fricking smooth &amp; beautiful!! #Tha...</td>\n",
       "      <td>5.100000</td>\n",
       "    </tr>\n",
       "    <tr>\n",
       "      <th>2</th>\n",
       "      <td>LOVE U @APPLE</td>\n",
       "      <td>3.666667</td>\n",
       "    </tr>\n",
       "    <tr>\n",
       "      <th>3</th>\n",
       "      <td>Thank you @apple, loving my new iPhone 5S!!!!!...</td>\n",
       "      <td>7.272727</td>\n",
       "    </tr>\n",
       "    <tr>\n",
       "      <th>4</th>\n",
       "      <td>.@apple has the best customer service. In and ...</td>\n",
       "      <td>4.187500</td>\n",
       "    </tr>\n",
       "  </tbody>\n",
       "</table>\n",
       "</div>"
      ],
      "text/plain": [
       "                                               Tweet  avg_word\n",
       "0  I have to say, Apple has by far the best custo...  4.368421\n",
       "1  iOS 7 is so fricking smooth & beautiful!! #Tha...  5.100000\n",
       "2                                      LOVE U @APPLE  3.666667\n",
       "3  Thank you @apple, loving my new iPhone 5S!!!!!...  7.272727\n",
       "4  .@apple has the best customer service. In and ...  4.187500"
      ]
     },
     "execution_count": 98,
     "metadata": {},
     "output_type": "execute_result"
    }
   ],
   "source": [
    "# Avg word length\n",
    "def avg_word(sentence):\n",
    "    words = sentence.split() #splitting the words separately from the input taken\n",
    "    return (sum(len(word) for word in words)/len(words)) # getting the average number of words in the each of the entries\n",
    "\n",
    "Apple_tweets['avg_word'] = Apple_tweets['Tweet'].apply(lambda x: avg_word(x))\n",
    "Apple_tweets[['Tweet','avg_word']].head()"
   ]
  },
  {
   "cell_type": "code",
   "execution_count": 99,
   "metadata": {},
   "outputs": [
    {
     "data": {
      "text/plain": [
       "<AxesSubplot:xlabel='avg_word', ylabel='Count'>"
      ]
     },
     "execution_count": 99,
     "metadata": {},
     "output_type": "execute_result"
    },
    {
     "data": {
      "image/png": "[encoded data removed]",
      "text/plain": [
       "<Figure size 720x720 with 1 Axes>"
      ]
     },
     "metadata": {
      "needs_background": "light"
     },
     "output_type": "display_data"
    }
   ],
   "source": [
    "fig,axes = plt.subplots(figsize=(10,10))\n",
    "sns.histplot(x='avg_word',data = Apple_tweets)"
   ]
  },
  {
   "cell_type": "code",
   "execution_count": 100,
   "metadata": {},
   "outputs": [
    {
     "data": {
      "text/html": [
       "<div>\n",
       "<style scoped>\n",
       "    .dataframe tbody tr th:only-of-type {\n",
       "        vertical-align: middle;\n",
       "    }\n",
       "\n",
       "    .dataframe tbody tr th {\n",
       "        vertical-align: top;\n",
       "    }\n",
       "\n",
       "    .dataframe thead th {\n",
       "        text-align: right;\n",
       "    }\n",
       "</style>\n",
       "<table border=\"1\" class=\"dataframe\">\n",
       "  <thead>\n",
       "    <tr style=\"text-align: right;\">\n",
       "      <th></th>\n",
       "      <th>Tweet</th>\n",
       "      <th>stopwords</th>\n",
       "    </tr>\n",
       "  </thead>\n",
       "  <tbody>\n",
       "    <tr>\n",
       "      <th>0</th>\n",
       "      <td>I have to say, Apple has by far the best custo...</td>\n",
       "      <td>6</td>\n",
       "    </tr>\n",
       "    <tr>\n",
       "      <th>1</th>\n",
       "      <td>iOS 7 is so fricking smooth &amp; beautiful!! #Tha...</td>\n",
       "      <td>2</td>\n",
       "    </tr>\n",
       "    <tr>\n",
       "      <th>2</th>\n",
       "      <td>LOVE U @APPLE</td>\n",
       "      <td>0</td>\n",
       "    </tr>\n",
       "    <tr>\n",
       "      <th>3</th>\n",
       "      <td>Thank you @apple, loving my new iPhone 5S!!!!!...</td>\n",
       "      <td>2</td>\n",
       "    </tr>\n",
       "    <tr>\n",
       "      <th>4</th>\n",
       "      <td>.@apple has the best customer service. In and ...</td>\n",
       "      <td>8</td>\n",
       "    </tr>\n",
       "  </tbody>\n",
       "</table>\n",
       "</div>"
      ],
      "text/plain": [
       "                                               Tweet  stopwords\n",
       "0  I have to say, Apple has by far the best custo...          6\n",
       "1  iOS 7 is so fricking smooth & beautiful!! #Tha...          2\n",
       "2                                      LOVE U @APPLE          0\n",
       "3  Thank you @apple, loving my new iPhone 5S!!!!!...          2\n",
       "4  .@apple has the best customer service. In and ...          8"
      ]
     },
     "execution_count": 100,
     "metadata": {},
     "output_type": "execute_result"
    }
   ],
   "source": [
    "# Number of Stopwords in each tweet\n",
    "list_keywords = ['Worst', 'bad','atrocius'] \n",
    "Apple_tweets['stopwords'] = Apple_tweets['Tweet'].apply(lambda x: len([x for x in x.split() if x in stopwords]))\n",
    "Apple_tweets[['Tweet','stopwords']].head() "
   ]
  },
  {
   "cell_type": "code",
   "execution_count": 101,
   "metadata": {},
   "outputs": [
    {
     "data": {
      "text/plain": [
       "<AxesSubplot:xlabel='stopwords', ylabel='Count'>"
      ]
     },
     "execution_count": 101,
     "metadata": {},
     "output_type": "execute_result"
    },
    {
     "data": {
      "image/png": "[encoded data removed]",
      "text/plain": [
       "<Figure size 720x720 with 1 Axes>"
      ]
     },
     "metadata": {
      "needs_background": "light"
     },
     "output_type": "display_data"
    }
   ],
   "source": [
    "fig,axes = plt.subplots(figsize=(10,10))\n",
    "sns.histplot(x='stopwords',data = Apple_tweets)"
   ]
  },
  {
   "cell_type": "code",
   "execution_count": 102,
   "metadata": {},
   "outputs": [
    {
     "data": {
      "text/html": [
       "<div>\n",
       "<style scoped>\n",
       "    .dataframe tbody tr th:only-of-type {\n",
       "        vertical-align: middle;\n",
       "    }\n",
       "\n",
       "    .dataframe tbody tr th {\n",
       "        vertical-align: top;\n",
       "    }\n",
       "\n",
       "    .dataframe thead th {\n",
       "        text-align: right;\n",
       "    }\n",
       "</style>\n",
       "<table border=\"1\" class=\"dataframe\">\n",
       "  <thead>\n",
       "    <tr style=\"text-align: right;\">\n",
       "      <th></th>\n",
       "      <th>Tweet</th>\n",
       "      <th>hashtags</th>\n",
       "    </tr>\n",
       "  </thead>\n",
       "  <tbody>\n",
       "    <tr>\n",
       "      <th>0</th>\n",
       "      <td>I have to say, Apple has by far the best custo...</td>\n",
       "      <td>0</td>\n",
       "    </tr>\n",
       "    <tr>\n",
       "      <th>1</th>\n",
       "      <td>iOS 7 is so fricking smooth &amp; beautiful!! #Tha...</td>\n",
       "      <td>1</td>\n",
       "    </tr>\n",
       "    <tr>\n",
       "      <th>2</th>\n",
       "      <td>LOVE U @APPLE</td>\n",
       "      <td>0</td>\n",
       "    </tr>\n",
       "    <tr>\n",
       "      <th>3</th>\n",
       "      <td>Thank you @apple, loving my new iPhone 5S!!!!!...</td>\n",
       "      <td>2</td>\n",
       "    </tr>\n",
       "    <tr>\n",
       "      <th>4</th>\n",
       "      <td>.@apple has the best customer service. In and ...</td>\n",
       "      <td>0</td>\n",
       "    </tr>\n",
       "  </tbody>\n",
       "</table>\n",
       "</div>"
      ],
      "text/plain": [
       "                                               Tweet  hashtags\n",
       "0  I have to say, Apple has by far the best custo...         0\n",
       "1  iOS 7 is so fricking smooth & beautiful!! #Tha...         1\n",
       "2                                      LOVE U @APPLE         0\n",
       "3  Thank you @apple, loving my new iPhone 5S!!!!!...         2\n",
       "4  .@apple has the best customer service. In and ...         0"
      ]
     },
     "execution_count": 102,
     "metadata": {},
     "output_type": "execute_result"
    }
   ],
   "source": [
    "# Number of hashtags per tweet\n",
    "Apple_tweets['hashtags'] = Apple_tweets['Tweet'].apply(lambda x: len([x for x in x.split() if x.startswith('#')]))\n",
    "Apple_tweets[['Tweet','hashtags']].head()"
   ]
  },
  {
   "cell_type": "code",
   "execution_count": 103,
   "metadata": {},
   "outputs": [
    {
     "data": {
      "text/plain": [
       "<AxesSubplot:xlabel='hashtags', ylabel='Count'>"
      ]
     },
     "execution_count": 103,
     "metadata": {},
     "output_type": "execute_result"
    },
    {
     "data": {
      "image/png": "[encoded data removed]",
      "text/plain": [
       "<Figure size 720x720 with 1 Axes>"
      ]
     },
     "metadata": {
      "needs_background": "light"
     },
     "output_type": "display_data"
    }
   ],
   "source": [
    "fig,axes = plt.subplots(figsize=(10,10))\n",
    "sns.histplot(x='hashtags',data = Apple_tweets)"
   ]
  },
  {
   "cell_type": "code",
   "execution_count": 104,
   "metadata": {},
   "outputs": [
    {
     "data": {
      "text/html": [
       "<div>\n",
       "<style scoped>\n",
       "    .dataframe tbody tr th:only-of-type {\n",
       "        vertical-align: middle;\n",
       "    }\n",
       "\n",
       "    .dataframe tbody tr th {\n",
       "        vertical-align: top;\n",
       "    }\n",
       "\n",
       "    .dataframe thead th {\n",
       "        text-align: right;\n",
       "    }\n",
       "</style>\n",
       "<table border=\"1\" class=\"dataframe\">\n",
       "  <thead>\n",
       "    <tr style=\"text-align: right;\">\n",
       "      <th></th>\n",
       "      <th>Tweet</th>\n",
       "      <th>tags</th>\n",
       "    </tr>\n",
       "  </thead>\n",
       "  <tbody>\n",
       "    <tr>\n",
       "      <th>0</th>\n",
       "      <td>I have to say, Apple has by far the best custo...</td>\n",
       "      <td>2</td>\n",
       "    </tr>\n",
       "    <tr>\n",
       "      <th>1</th>\n",
       "      <td>iOS 7 is so fricking smooth &amp; beautiful!! #Tha...</td>\n",
       "      <td>1</td>\n",
       "    </tr>\n",
       "    <tr>\n",
       "      <th>2</th>\n",
       "      <td>LOVE U @APPLE</td>\n",
       "      <td>1</td>\n",
       "    </tr>\n",
       "    <tr>\n",
       "      <th>3</th>\n",
       "      <td>Thank you @apple, loving my new iPhone 5S!!!!!...</td>\n",
       "      <td>1</td>\n",
       "    </tr>\n",
       "    <tr>\n",
       "      <th>4</th>\n",
       "      <td>.@apple has the best customer service. In and ...</td>\n",
       "      <td>0</td>\n",
       "    </tr>\n",
       "  </tbody>\n",
       "</table>\n",
       "</div>"
      ],
      "text/plain": [
       "                                               Tweet  tags\n",
       "0  I have to say, Apple has by far the best custo...     2\n",
       "1  iOS 7 is so fricking smooth & beautiful!! #Tha...     1\n",
       "2                                      LOVE U @APPLE     1\n",
       "3  Thank you @apple, loving my new iPhone 5S!!!!!...     1\n",
       "4  .@apple has the best customer service. In and ...     0"
      ]
     },
     "execution_count": 104,
     "metadata": {},
     "output_type": "execute_result"
    }
   ],
   "source": [
    "# Number of @ per tweet\n",
    "Apple_tweets['tags'] = Apple_tweets['Tweet'].apply(lambda x: len([x for x in x.split() if x.startswith('@')]))\n",
    "Apple_tweets[['Tweet','tags']].head()"
   ]
  },
  {
   "cell_type": "code",
   "execution_count": 105,
   "metadata": {},
   "outputs": [
    {
     "data": {
      "text/plain": [
       "<AxesSubplot:xlabel='tags', ylabel='Count'>"
      ]
     },
     "execution_count": 105,
     "metadata": {},
     "output_type": "execute_result"
    },
    {
     "data": {
      "image/png": "[encoded data removed]",
      "text/plain": [
       "<Figure size 720x720 with 1 Axes>"
      ]
     },
     "metadata": {
      "needs_background": "light"
     },
     "output_type": "display_data"
    }
   ],
   "source": [
    "fig,axes = plt.subplots(figsize=(10,10))\n",
    "sns.histplot(x='tags',data = Apple_tweets)"
   ]
  },
  {
   "cell_type": "code",
   "execution_count": 106,
   "metadata": {},
   "outputs": [
    {
     "data": {
      "text/html": [
       "<div>\n",
       "<style scoped>\n",
       "    .dataframe tbody tr th:only-of-type {\n",
       "        vertical-align: middle;\n",
       "    }\n",
       "\n",
       "    .dataframe tbody tr th {\n",
       "        vertical-align: top;\n",
       "    }\n",
       "\n",
       "    .dataframe thead th {\n",
       "        text-align: right;\n",
       "    }\n",
       "</style>\n",
       "<table border=\"1\" class=\"dataframe\">\n",
       "  <thead>\n",
       "    <tr style=\"text-align: right;\">\n",
       "      <th></th>\n",
       "      <th>Tweet</th>\n",
       "      <th>numerics</th>\n",
       "    </tr>\n",
       "  </thead>\n",
       "  <tbody>\n",
       "    <tr>\n",
       "      <th>0</th>\n",
       "      <td>I have to say, Apple has by far the best custo...</td>\n",
       "      <td>0</td>\n",
       "    </tr>\n",
       "    <tr>\n",
       "      <th>1</th>\n",
       "      <td>iOS 7 is so fricking smooth &amp; beautiful!! #Tha...</td>\n",
       "      <td>1</td>\n",
       "    </tr>\n",
       "    <tr>\n",
       "      <th>2</th>\n",
       "      <td>LOVE U @APPLE</td>\n",
       "      <td>0</td>\n",
       "    </tr>\n",
       "    <tr>\n",
       "      <th>3</th>\n",
       "      <td>Thank you @apple, loving my new iPhone 5S!!!!!...</td>\n",
       "      <td>3</td>\n",
       "    </tr>\n",
       "    <tr>\n",
       "      <th>4</th>\n",
       "      <td>.@apple has the best customer service. In and ...</td>\n",
       "      <td>2</td>\n",
       "    </tr>\n",
       "  </tbody>\n",
       "</table>\n",
       "</div>"
      ],
      "text/plain": [
       "                                               Tweet  numerics\n",
       "0  I have to say, Apple has by far the best custo...         0\n",
       "1  iOS 7 is so fricking smooth & beautiful!! #Tha...         1\n",
       "2                                      LOVE U @APPLE         0\n",
       "3  Thank you @apple, loving my new iPhone 5S!!!!!...         3\n",
       "4  .@apple has the best customer service. In and ...         2"
      ]
     },
     "execution_count": 106,
     "metadata": {},
     "output_type": "execute_result"
    }
   ],
   "source": [
    "# Number of numerics per tweet\n",
    "Apple_tweets['numerics'] = Apple_tweets['Tweet'].apply(lambda x: len(re.findall(r'[0-9]',x))) \n",
    "Apple_tweets[['Tweet','numerics']].head()"
   ]
  },
  {
   "cell_type": "code",
   "execution_count": 107,
   "metadata": {},
   "outputs": [
    {
     "data": {
      "text/plain": [
       "[1900, 1901, 1902, 1903, 1904, 1905, 1906, 1907, 1908, 1909]"
      ]
     },
     "execution_count": 107,
     "metadata": {},
     "output_type": "execute_result"
    }
   ],
   "source": [
    "list_of_years = list(np.arange(1900,2024))\n",
    "list_of_years[:10]"
   ]
  },
  {
   "cell_type": "code",
   "execution_count": 108,
   "metadata": {},
   "outputs": [
    {
     "data": {
      "text/plain": [
       "<AxesSubplot:xlabel='numerics', ylabel='Count'>"
      ]
     },
     "execution_count": 108,
     "metadata": {},
     "output_type": "execute_result"
    },
    {
     "data": {
      "image/png": "[encoded data removed]",
      "text/plain": [
       "<Figure size 720x720 with 1 Axes>"
      ]
     },
     "metadata": {
      "needs_background": "light"
     },
     "output_type": "display_data"
    }
   ],
   "source": [
    "fig,axes = plt.subplots(figsize=(10,10))\n",
    "sns.histplot(x='numerics',data = Apple_tweets)"
   ]
  },
  {
   "cell_type": "code",
   "execution_count": 109,
   "metadata": {},
   "outputs": [
    {
     "data": {
      "text/html": [
       "<div>\n",
       "<style scoped>\n",
       "    .dataframe tbody tr th:only-of-type {\n",
       "        vertical-align: middle;\n",
       "    }\n",
       "\n",
       "    .dataframe tbody tr th {\n",
       "        vertical-align: top;\n",
       "    }\n",
       "\n",
       "    .dataframe thead th {\n",
       "        text-align: right;\n",
       "    }\n",
       "</style>\n",
       "<table border=\"1\" class=\"dataframe\">\n",
       "  <thead>\n",
       "    <tr style=\"text-align: right;\">\n",
       "      <th></th>\n",
       "      <th>Tweet</th>\n",
       "      <th>UC_Letters</th>\n",
       "    </tr>\n",
       "  </thead>\n",
       "  <tbody>\n",
       "    <tr>\n",
       "      <th>0</th>\n",
       "      <td>I have to say, Apple has by far the best custo...</td>\n",
       "      <td>6</td>\n",
       "    </tr>\n",
       "    <tr>\n",
       "      <th>1</th>\n",
       "      <td>iOS 7 is so fricking smooth &amp; beautiful!! #Tha...</td>\n",
       "      <td>5</td>\n",
       "    </tr>\n",
       "    <tr>\n",
       "      <th>2</th>\n",
       "      <td>LOVE U @APPLE</td>\n",
       "      <td>10</td>\n",
       "    </tr>\n",
       "    <tr>\n",
       "      <th>3</th>\n",
       "      <td>Thank you @apple, loving my new iPhone 5S!!!!!...</td>\n",
       "      <td>9</td>\n",
       "    </tr>\n",
       "    <tr>\n",
       "      <th>4</th>\n",
       "      <td>.@apple has the best customer service. In and ...</td>\n",
       "      <td>1</td>\n",
       "    </tr>\n",
       "  </tbody>\n",
       "</table>\n",
       "</div>"
      ],
      "text/plain": [
       "                                               Tweet  UC_Letters\n",
       "0  I have to say, Apple has by far the best custo...           6\n",
       "1  iOS 7 is so fricking smooth & beautiful!! #Tha...           5\n",
       "2                                      LOVE U @APPLE          10\n",
       "3  Thank you @apple, loving my new iPhone 5S!!!!!...           9\n",
       "4  .@apple has the best customer service. In and ...           1"
      ]
     },
     "execution_count": 109,
     "metadata": {},
     "output_type": "execute_result"
    }
   ],
   "source": [
    "# Number of upper case letters per tweet\n",
    "Apple_tweets['UC_Letters'] = Apple_tweets['Tweet'].apply(lambda x: len(re.findall(r'[A-Z]',x)))\n",
    "Apple_tweets[['Tweet','UC_Letters']].head()"
   ]
  },
  {
   "cell_type": "code",
   "execution_count": 110,
   "metadata": {},
   "outputs": [
    {
     "data": {
      "text/plain": [
       "<AxesSubplot:xlabel='UC_Letters', ylabel='Count'>"
      ]
     },
     "execution_count": 110,
     "metadata": {},
     "output_type": "execute_result"
    },
    {
     "data": {
      "image/png": "[encoded data removed]",
      "text/plain": [
       "<Figure size 720x720 with 1 Axes>"
      ]
     },
     "metadata": {
      "needs_background": "light"
     },
     "output_type": "display_data"
    }
   ],
   "source": [
    "fig,axes = plt.subplots(figsize=(10,10))\n",
    "sns.histplot(x='UC_Letters',data = Apple_tweets)"
   ]
  },
  {
   "cell_type": "code",
   "execution_count": 111,
   "metadata": {},
   "outputs": [
    {
     "data": {
      "text/html": [
       "<div>\n",
       "<style scoped>\n",
       "    .dataframe tbody tr th:only-of-type {\n",
       "        vertical-align: middle;\n",
       "    }\n",
       "\n",
       "    .dataframe tbody tr th {\n",
       "        vertical-align: top;\n",
       "    }\n",
       "\n",
       "    .dataframe thead th {\n",
       "        text-align: right;\n",
       "    }\n",
       "</style>\n",
       "<table border=\"1\" class=\"dataframe\">\n",
       "  <thead>\n",
       "    <tr style=\"text-align: right;\">\n",
       "      <th></th>\n",
       "      <th>Tweet</th>\n",
       "      <th>UC_Words</th>\n",
       "    </tr>\n",
       "  </thead>\n",
       "  <tbody>\n",
       "    <tr>\n",
       "      <th>0</th>\n",
       "      <td>I have to say, Apple has by far the best custo...</td>\n",
       "      <td>2</td>\n",
       "    </tr>\n",
       "    <tr>\n",
       "      <th>1</th>\n",
       "      <td>iOS 7 is so fricking smooth &amp; beautiful!! #Tha...</td>\n",
       "      <td>0</td>\n",
       "    </tr>\n",
       "    <tr>\n",
       "      <th>2</th>\n",
       "      <td>LOVE U @APPLE</td>\n",
       "      <td>3</td>\n",
       "    </tr>\n",
       "    <tr>\n",
       "      <th>3</th>\n",
       "      <td>Thank you @apple, loving my new iPhone 5S!!!!!...</td>\n",
       "      <td>1</td>\n",
       "    </tr>\n",
       "    <tr>\n",
       "      <th>4</th>\n",
       "      <td>.@apple has the best customer service. In and ...</td>\n",
       "      <td>0</td>\n",
       "    </tr>\n",
       "  </tbody>\n",
       "</table>\n",
       "</div>"
      ],
      "text/plain": [
       "                                               Tweet  UC_Words\n",
       "0  I have to say, Apple has by far the best custo...         2\n",
       "1  iOS 7 is so fricking smooth & beautiful!! #Tha...         0\n",
       "2                                      LOVE U @APPLE         3\n",
       "3  Thank you @apple, loving my new iPhone 5S!!!!!...         1\n",
       "4  .@apple has the best customer service. In and ...         0"
      ]
     },
     "execution_count": 111,
     "metadata": {},
     "output_type": "execute_result"
    }
   ],
   "source": [
    "# Number of upper case words per tweet\n",
    "Apple_tweets['UC_Words'] = Apple_tweets['Tweet'].apply(lambda x: len([x for x in x.split() if x.isupper()]))\n",
    "Apple_tweets[['Tweet','UC_Words']].head()"
   ]
  },
  {
   "cell_type": "code",
   "execution_count": 112,
   "metadata": {},
   "outputs": [
    {
     "data": {
      "text/plain": [
       "(1181, 17)"
      ]
     },
     "execution_count": 112,
     "metadata": {},
     "output_type": "execute_result"
    }
   ],
   "source": [
    "Apple_tweets.shape"
   ]
  },
  {
   "cell_type": "code",
   "execution_count": 113,
   "metadata": {},
   "outputs": [
    {
     "data": {
      "text/html": [
       "<div>\n",
       "<style scoped>\n",
       "    .dataframe tbody tr th:only-of-type {\n",
       "        vertical-align: middle;\n",
       "    }\n",
       "\n",
       "    .dataframe tbody tr th {\n",
       "        vertical-align: top;\n",
       "    }\n",
       "\n",
       "    .dataframe thead th {\n",
       "        text-align: right;\n",
       "    }\n",
       "</style>\n",
       "<table border=\"1\" class=\"dataframe\">\n",
       "  <thead>\n",
       "    <tr style=\"text-align: right;\">\n",
       "      <th></th>\n",
       "      <th>Tweet</th>\n",
       "      <th>Avg</th>\n",
       "      <th>Tweet_LC</th>\n",
       "      <th>Tweet_LC_PuncRem</th>\n",
       "      <th>Tweet_LC_PuncRem2</th>\n",
       "      <th>Tweet_stop_clean</th>\n",
       "      <th>Tweet_stop_clean_stem</th>\n",
       "      <th>tags_hashtags</th>\n",
       "      <th>totalwords</th>\n",
       "      <th>totalchar</th>\n",
       "      <th>avg_word</th>\n",
       "      <th>stopwords</th>\n",
       "      <th>hashtags</th>\n",
       "      <th>tags</th>\n",
       "      <th>numerics</th>\n",
       "      <th>UC_Letters</th>\n",
       "      <th>UC_Words</th>\n",
       "    </tr>\n",
       "  </thead>\n",
       "  <tbody>\n",
       "    <tr>\n",
       "      <th>0</th>\n",
       "      <td>I have to say, Apple has by far the best custo...</td>\n",
       "      <td>2.0</td>\n",
       "      <td>i have to say, apple has by far the best custo...</td>\n",
       "      <td>i have to say apple has by far the best custom...</td>\n",
       "      <td>i have to say apple has by far the best custom...</td>\n",
       "      <td>say far best customer care service ever receiv...</td>\n",
       "      <td>say far best custom care servic ever receiv ap...</td>\n",
       "      <td>@apple @appstore</td>\n",
       "      <td>9</td>\n",
       "      <td>101</td>\n",
       "      <td>4.368421</td>\n",
       "      <td>6</td>\n",
       "      <td>0</td>\n",
       "      <td>2</td>\n",
       "      <td>0</td>\n",
       "      <td>6</td>\n",
       "      <td>2</td>\n",
       "    </tr>\n",
       "    <tr>\n",
       "      <th>1</th>\n",
       "      <td>iOS 7 is so fricking smooth &amp; beautiful!! #Tha...</td>\n",
       "      <td>2.0</td>\n",
       "      <td>ios 7 is so fricking smooth &amp; beautiful!! #tha...</td>\n",
       "      <td>ios 7 is so fricking smooth  beautiful #thanxa...</td>\n",
       "      <td>ios 7 is so fricking smooth  beautiful thanxap...</td>\n",
       "      <td>ios 7 fricking smooth beautiful thanxapple</td>\n",
       "      <td>io 7 frick smooth beauti thanxappl</td>\n",
       "      <td>#thanxapple @apple</td>\n",
       "      <td>6</td>\n",
       "      <td>60</td>\n",
       "      <td>5.100000</td>\n",
       "      <td>2</td>\n",
       "      <td>1</td>\n",
       "      <td>1</td>\n",
       "      <td>1</td>\n",
       "      <td>5</td>\n",
       "      <td>0</td>\n",
       "    </tr>\n",
       "    <tr>\n",
       "      <th>2</th>\n",
       "      <td>LOVE U @APPLE</td>\n",
       "      <td>1.8</td>\n",
       "      <td>love u @apple</td>\n",
       "      <td>love u @apple</td>\n",
       "      <td>love u apple</td>\n",
       "      <td>love u</td>\n",
       "      <td>love u</td>\n",
       "      <td>@apple</td>\n",
       "      <td>2</td>\n",
       "      <td>13</td>\n",
       "      <td>3.666667</td>\n",
       "      <td>0</td>\n",
       "      <td>0</td>\n",
       "      <td>1</td>\n",
       "      <td>0</td>\n",
       "      <td>10</td>\n",
       "      <td>3</td>\n",
       "    </tr>\n",
       "    <tr>\n",
       "      <th>3</th>\n",
       "      <td>Thank you @apple, loving my new iPhone 5S!!!!!...</td>\n",
       "      <td>1.8</td>\n",
       "      <td>thank you @apple, loving my new iphone 5s!!!!!...</td>\n",
       "      <td>thank you @apple loving my new iphone 5s #appl...</td>\n",
       "      <td>thank you apple loving my new iphone 5s apple ...</td>\n",
       "      <td>thank loving new iphone 5s iphone5s pictwitter...</td>\n",
       "      <td>thank love new iphon 5s iphone5 pictwittercomx...</td>\n",
       "      <td>@apple, #apple #iphone5s</td>\n",
       "      <td>7</td>\n",
       "      <td>91</td>\n",
       "      <td>7.272727</td>\n",
       "      <td>2</td>\n",
       "      <td>2</td>\n",
       "      <td>1</td>\n",
       "      <td>3</td>\n",
       "      <td>9</td>\n",
       "      <td>1</td>\n",
       "    </tr>\n",
       "    <tr>\n",
       "      <th>4</th>\n",
       "      <td>.@apple has the best customer service. In and ...</td>\n",
       "      <td>1.8</td>\n",
       "      <td>.@apple has the best customer service. in and ...</td>\n",
       "      <td>@apple has the best customer service in and ou...</td>\n",
       "      <td>apple has the best customer service in and out...</td>\n",
       "      <td>best customer service new phone 10min</td>\n",
       "      <td>best custom servic new phone 10min</td>\n",
       "      <td>@None</td>\n",
       "      <td>6</td>\n",
       "      <td>82</td>\n",
       "      <td>4.187500</td>\n",
       "      <td>8</td>\n",
       "      <td>0</td>\n",
       "      <td>0</td>\n",
       "      <td>2</td>\n",
       "      <td>1</td>\n",
       "      <td>0</td>\n",
       "    </tr>\n",
       "  </tbody>\n",
       "</table>\n",
       "</div>"
      ],
      "text/plain": [
       "                                               Tweet  Avg  \\\n",
       "0  I have to say, Apple has by far the best custo...  2.0   \n",
       "1  iOS 7 is so fricking smooth & beautiful!! #Tha...  2.0   \n",
       "2                                      LOVE U @APPLE  1.8   \n",
       "3  Thank you @apple, loving my new iPhone 5S!!!!!...  1.8   \n",
       "4  .@apple has the best customer service. In and ...  1.8   \n",
       "\n",
       "                                            Tweet_LC  \\\n",
       "0  i have to say, apple has by far the best custo...   \n",
       "1  ios 7 is so fricking smooth & beautiful!! #tha...   \n",
       "2                                      love u @apple   \n",
       "3  thank you @apple, loving my new iphone 5s!!!!!...   \n",
       "4  .@apple has the best customer service. in and ...   \n",
       "\n",
       "                                    Tweet_LC_PuncRem  \\\n",
       "0  i have to say apple has by far the best custom...   \n",
       "1  ios 7 is so fricking smooth  beautiful #thanxa...   \n",
       "2                                      love u @apple   \n",
       "3  thank you @apple loving my new iphone 5s #appl...   \n",
       "4  @apple has the best customer service in and ou...   \n",
       "\n",
       "                                   Tweet_LC_PuncRem2  \\\n",
       "0  i have to say apple has by far the best custom...   \n",
       "1  ios 7 is so fricking smooth  beautiful thanxap...   \n",
       "2                                       love u apple   \n",
       "3  thank you apple loving my new iphone 5s apple ...   \n",
       "4  apple has the best customer service in and out...   \n",
       "\n",
       "                                    Tweet_stop_clean  \\\n",
       "0  say far best customer care service ever receiv...   \n",
       "1         ios 7 fricking smooth beautiful thanxapple   \n",
       "2                                             love u   \n",
       "3  thank loving new iphone 5s iphone5s pictwitter...   \n",
       "4              best customer service new phone 10min   \n",
       "\n",
       "                               Tweet_stop_clean_stem  \\\n",
       "0  say far best custom care servic ever receiv ap...   \n",
       "1                 io 7 frick smooth beauti thanxappl   \n",
       "2                                             love u   \n",
       "3  thank love new iphon 5s iphone5 pictwittercomx...   \n",
       "4                 best custom servic new phone 10min   \n",
       "\n",
       "              tags_hashtags  totalwords  totalchar  avg_word  stopwords  \\\n",
       "0          @apple @appstore           9        101  4.368421          6   \n",
       "1        #thanxapple @apple           6         60  5.100000          2   \n",
       "2                    @apple           2         13  3.666667          0   \n",
       "3  @apple, #apple #iphone5s           7         91  7.272727          2   \n",
       "4                     @None           6         82  4.187500          8   \n",
       "\n",
       "   hashtags  tags  numerics  UC_Letters  UC_Words  \n",
       "0         0     2         0           6         2  \n",
       "1         1     1         1           5         0  \n",
       "2         0     1         0          10         3  \n",
       "3         2     1         3           9         1  \n",
       "4         0     0         2           1         0  "
      ]
     },
     "execution_count": 113,
     "metadata": {},
     "output_type": "execute_result"
    }
   ],
   "source": [
    "Apple_tweets.head()"
   ]
  },
  {
   "cell_type": "markdown",
   "metadata": {},
   "source": [
    "## Converting the tweets into a bag of words"
   ]
  },
  {
   "cell_type": "code",
   "execution_count": 114,
   "metadata": {},
   "outputs": [
    {
     "data": {
      "text/plain": [
       "['i',\n",
       " 'have',\n",
       " 'to',\n",
       " 'say',\n",
       " 'apple',\n",
       " 'has',\n",
       " 'by',\n",
       " 'far',\n",
       " 'the',\n",
       " 'best',\n",
       " 'customer',\n",
       " 'care',\n",
       " 'service',\n",
       " 'i',\n",
       " 'have',\n",
       " 'ever',\n",
       " 'received',\n",
       " '@apple',\n",
       " '@appstore',\n",
       " 'ios']"
      ]
     },
     "execution_count": 114,
     "metadata": {},
     "output_type": "execute_result"
    }
   ],
   "source": [
    "all_words1 = [x for x in ' '.join(Apple_tweets['Tweet_LC_PuncRem']).split()]\n",
    "len(all_words1)\n",
    "all_words1[:20]"
   ]
  },
  {
   "cell_type": "code",
   "execution_count": 115,
   "metadata": {},
   "outputs": [
    {
     "data": {
      "text/plain": [
       "1003"
      ]
     },
     "execution_count": 115,
     "metadata": {},
     "output_type": "execute_result"
    }
   ],
   "source": [
    "# Hashtag analysis\n",
    "hashtags = [i for i in all_words1 if i.startswith('#')]\n",
    "len(hashtags)"
   ]
  },
  {
   "cell_type": "code",
   "execution_count": 116,
   "metadata": {},
   "outputs": [
    {
     "data": {
      "text/plain": [
       "1999"
      ]
     },
     "execution_count": 116,
     "metadata": {},
     "output_type": "execute_result"
    }
   ],
   "source": [
    "# Tag analysis\n",
    "tags = [i for i in all_words1 if i.startswith('@')]\n",
    "tags[:10]\n",
    "len(tags)"
   ]
  },
  {
   "cell_type": "code",
   "execution_count": 117,
   "metadata": {},
   "outputs": [
    {
     "data": {
      "text/plain": [
       "['i', 'have', 'to', 'say', 'apple', 'has', 'by', 'far', 'the', 'best']"
      ]
     },
     "execution_count": 117,
     "metadata": {},
     "output_type": "execute_result"
    }
   ],
   "source": [
    "# Word analysis \n",
    "all_words2 = [x for x in ' '.join(Apple_tweets['Tweet_LC_PuncRem2']).split()]\n",
    "all_words2[:10]"
   ]
  },
  {
   "cell_type": "code",
   "execution_count": 118,
   "metadata": {},
   "outputs": [
    {
     "data": {
      "text/plain": [
       "['say',\n",
       " 'far',\n",
       " 'best',\n",
       " 'custom',\n",
       " 'care',\n",
       " 'servic',\n",
       " 'ever',\n",
       " 'receiv',\n",
       " 'appstor',\n",
       " 'io']"
      ]
     },
     "execution_count": 118,
     "metadata": {},
     "output_type": "execute_result"
    }
   ],
   "source": [
    "all_words3 = [x for x in ' '.join(Apple_tweets['Tweet_stop_clean_stem']).split()]\n",
    "all_words3[:10]"
   ]
  },
  {
   "cell_type": "code",
   "execution_count": 119,
   "metadata": {},
   "outputs": [
    {
     "data": {
      "text/html": [
       "<div>\n",
       "<style scoped>\n",
       "    .dataframe tbody tr th:only-of-type {\n",
       "        vertical-align: middle;\n",
       "    }\n",
       "\n",
       "    .dataframe tbody tr th {\n",
       "        vertical-align: top;\n",
       "    }\n",
       "\n",
       "    .dataframe thead th {\n",
       "        text-align: right;\n",
       "    }\n",
       "</style>\n",
       "<table border=\"1\" class=\"dataframe\">\n",
       "  <thead>\n",
       "    <tr style=\"text-align: right;\">\n",
       "      <th></th>\n",
       "      <th>Hashtag</th>\n",
       "      <th>Frequency</th>\n",
       "    </tr>\n",
       "  </thead>\n",
       "  <tbody>\n",
       "    <tr>\n",
       "      <th>1</th>\n",
       "      <td>#apple</td>\n",
       "      <td>86</td>\n",
       "    </tr>\n",
       "    <tr>\n",
       "      <th>18</th>\n",
       "      <td>#iphone</td>\n",
       "      <td>69</td>\n",
       "    </tr>\n",
       "    <tr>\n",
       "      <th>119</th>\n",
       "      <td>#ipod</td>\n",
       "      <td>67</td>\n",
       "    </tr>\n",
       "    <tr>\n",
       "      <th>100</th>\n",
       "      <td>#ipad</td>\n",
       "      <td>67</td>\n",
       "    </tr>\n",
       "    <tr>\n",
       "      <th>52</th>\n",
       "      <td>#itunes</td>\n",
       "      <td>64</td>\n",
       "    </tr>\n",
       "    <tr>\n",
       "      <th>118</th>\n",
       "      <td>#ipodplayerpromo</td>\n",
       "      <td>60</td>\n",
       "    </tr>\n",
       "    <tr>\n",
       "      <th>120</th>\n",
       "      <td>#promo#ipodplayerpromo</td>\n",
       "      <td>42</td>\n",
       "    </tr>\n",
       "    <tr>\n",
       "      <th>2</th>\n",
       "      <td>#iphone5s</td>\n",
       "      <td>30</td>\n",
       "    </tr>\n",
       "    <tr>\n",
       "      <th>11</th>\n",
       "      <td>#iphone5c</td>\n",
       "      <td>29</td>\n",
       "    </tr>\n",
       "    <tr>\n",
       "      <th>153</th>\n",
       "      <td>#promo</td>\n",
       "      <td>18</td>\n",
       "    </tr>\n",
       "  </tbody>\n",
       "</table>\n",
       "</div>"
      ],
      "text/plain": [
       "                    Hashtag  Frequency\n",
       "1                    #apple         86\n",
       "18                  #iphone         69\n",
       "119                   #ipod         67\n",
       "100                   #ipad         67\n",
       "52                  #itunes         64\n",
       "118        #ipodplayerpromo         60\n",
       "120  #promo#ipodplayerpromo         42\n",
       "2                 #iphone5s         30\n",
       "11                #iphone5c         29\n",
       "153                  #promo         18"
      ]
     },
     "execution_count": 119,
     "metadata": {},
     "output_type": "execute_result"
    }
   ],
   "source": [
    "# Frequency Analysis of the hashtags\n",
    "t = pd.DataFrame(nltk.FreqDist(hashtags),index = [0])\n",
    "hash_analysis = t.T\n",
    "hash_analysis = hash_analysis.reset_index()\n",
    "hash_analysis.columns = ['Hashtag','Frequency']\n",
    "hash_analysis = hash_analysis.sort_values(by = 'Frequency',ascending=False)\n",
    "hash_analysis.head(10)"
   ]
  },
  {
   "cell_type": "code",
   "execution_count": 120,
   "metadata": {},
   "outputs": [
    {
     "data": {
      "text/html": [
       "<div>\n",
       "<style scoped>\n",
       "    .dataframe tbody tr th:only-of-type {\n",
       "        vertical-align: middle;\n",
       "    }\n",
       "\n",
       "    .dataframe tbody tr th {\n",
       "        vertical-align: top;\n",
       "    }\n",
       "\n",
       "    .dataframe thead th {\n",
       "        text-align: right;\n",
       "    }\n",
       "</style>\n",
       "<table border=\"1\" class=\"dataframe\">\n",
       "  <thead>\n",
       "    <tr style=\"text-align: right;\">\n",
       "      <th></th>\n",
       "      <th>index</th>\n",
       "      <th>0</th>\n",
       "    </tr>\n",
       "  </thead>\n",
       "  <tbody>\n",
       "    <tr>\n",
       "      <th>0</th>\n",
       "      <td>#thanxapple</td>\n",
       "      <td>1</td>\n",
       "    </tr>\n",
       "    <tr>\n",
       "      <th>1</th>\n",
       "      <td>#apple</td>\n",
       "      <td>86</td>\n",
       "    </tr>\n",
       "    <tr>\n",
       "      <th>2</th>\n",
       "      <td>#iphone5s</td>\n",
       "      <td>30</td>\n",
       "    </tr>\n",
       "    <tr>\n",
       "      <th>3</th>\n",
       "      <td>#attributeownership</td>\n",
       "      <td>1</td>\n",
       "    </tr>\n",
       "    <tr>\n",
       "      <th>4</th>\n",
       "      <td>#one</td>\n",
       "      <td>1</td>\n",
       "    </tr>\n",
       "    <tr>\n",
       "      <th>...</th>\n",
       "      <td>...</td>\n",
       "      <td>...</td>\n",
       "    </tr>\n",
       "    <tr>\n",
       "      <th>356</th>\n",
       "      <td>#taxavoidance</td>\n",
       "      <td>1</td>\n",
       "    </tr>\n",
       "    <tr>\n",
       "      <th>357</th>\n",
       "      <td>#notcool</td>\n",
       "      <td>1</td>\n",
       "    </tr>\n",
       "    <tr>\n",
       "      <th>358</th>\n",
       "      <td>#deepfail</td>\n",
       "      <td>1</td>\n",
       "    </tr>\n",
       "    <tr>\n",
       "      <th>359</th>\n",
       "      <td>#oxymoron</td>\n",
       "      <td>1</td>\n",
       "    </tr>\n",
       "    <tr>\n",
       "      <th>360</th>\n",
       "      <td>#freakapple</td>\n",
       "      <td>1</td>\n",
       "    </tr>\n",
       "  </tbody>\n",
       "</table>\n",
       "<p>361 rows × 2 columns</p>\n",
       "</div>"
      ],
      "text/plain": [
       "                   index   0\n",
       "0            #thanxapple   1\n",
       "1                 #apple  86\n",
       "2              #iphone5s  30\n",
       "3    #attributeownership   1\n",
       "4                   #one   1\n",
       "..                   ...  ..\n",
       "356        #taxavoidance   1\n",
       "357             #notcool   1\n",
       "358            #deepfail   1\n",
       "359            #oxymoron   1\n",
       "360          #freakapple   1\n",
       "\n",
       "[361 rows x 2 columns]"
      ]
     },
     "execution_count": 120,
     "metadata": {},
     "output_type": "execute_result"
    }
   ],
   "source": [
    "pd.DataFrame(nltk.FreqDist(hashtags),index = [0]).T.reset_index()"
   ]
  },
  {
   "cell_type": "code",
   "execution_count": 121,
   "metadata": {},
   "outputs": [
    {
     "data": {
      "text/html": [
       "<div>\n",
       "<style scoped>\n",
       "    .dataframe tbody tr th:only-of-type {\n",
       "        vertical-align: middle;\n",
       "    }\n",
       "\n",
       "    .dataframe tbody tr th {\n",
       "        vertical-align: top;\n",
       "    }\n",
       "\n",
       "    .dataframe thead th {\n",
       "        text-align: right;\n",
       "    }\n",
       "</style>\n",
       "<table border=\"1\" class=\"dataframe\">\n",
       "  <thead>\n",
       "    <tr style=\"text-align: right;\">\n",
       "      <th></th>\n",
       "      <th>0</th>\n",
       "    </tr>\n",
       "  </thead>\n",
       "  <tbody>\n",
       "    <tr>\n",
       "      <th>#thanxapple</th>\n",
       "      <td>1</td>\n",
       "    </tr>\n",
       "    <tr>\n",
       "      <th>#apple</th>\n",
       "      <td>86</td>\n",
       "    </tr>\n",
       "    <tr>\n",
       "      <th>#iphone5s</th>\n",
       "      <td>30</td>\n",
       "    </tr>\n",
       "    <tr>\n",
       "      <th>#attributeownership</th>\n",
       "      <td>1</td>\n",
       "    </tr>\n",
       "    <tr>\n",
       "      <th>#one</th>\n",
       "      <td>1</td>\n",
       "    </tr>\n",
       "    <tr>\n",
       "      <th>...</th>\n",
       "      <td>...</td>\n",
       "    </tr>\n",
       "    <tr>\n",
       "      <th>#taxavoidance</th>\n",
       "      <td>1</td>\n",
       "    </tr>\n",
       "    <tr>\n",
       "      <th>#notcool</th>\n",
       "      <td>1</td>\n",
       "    </tr>\n",
       "    <tr>\n",
       "      <th>#deepfail</th>\n",
       "      <td>1</td>\n",
       "    </tr>\n",
       "    <tr>\n",
       "      <th>#oxymoron</th>\n",
       "      <td>1</td>\n",
       "    </tr>\n",
       "    <tr>\n",
       "      <th>#freakapple</th>\n",
       "      <td>1</td>\n",
       "    </tr>\n",
       "  </tbody>\n",
       "</table>\n",
       "<p>361 rows × 1 columns</p>\n",
       "</div>"
      ],
      "text/plain": [
       "                      0\n",
       "#thanxapple           1\n",
       "#apple               86\n",
       "#iphone5s            30\n",
       "#attributeownership   1\n",
       "#one                  1\n",
       "...                  ..\n",
       "#taxavoidance         1\n",
       "#notcool              1\n",
       "#deepfail             1\n",
       "#oxymoron             1\n",
       "#freakapple           1\n",
       "\n",
       "[361 rows x 1 columns]"
      ]
     },
     "execution_count": 121,
     "metadata": {},
     "output_type": "execute_result"
    }
   ],
   "source": [
    "pd.DataFrame(nltk.FreqDist(hashtags),index=[0]).T"
   ]
  },
  {
   "cell_type": "code",
   "execution_count": 122,
   "metadata": {},
   "outputs": [
    {
     "data": {
      "image/png": "[encoded data removed]",
      "text/plain": [
       "<Figure size 1440x720 with 1 Axes>"
      ]
     },
     "metadata": {
      "needs_background": "light"
     },
     "output_type": "display_data"
    }
   ],
   "source": [
    "fig,axes = plt.subplots(figsize=(20,10))\n",
    "sns.barplot(x = 'Hashtag',y = 'Frequency',data = hash_analysis[:10])\n",
    "axes.set_xticklabels(hash_analysis['Hashtag'][:10],rotation=45)\n",
    "plt.show()"
   ]
  },
  {
   "cell_type": "code",
   "execution_count": 123,
   "metadata": {},
   "outputs": [],
   "source": [
    "# Frequency Analysis of the tags\n",
    "t = pd.DataFrame(nltk.FreqDist(tags),index = [0])\n",
    "tag_analysis = t.T\n",
    "tag_analysis = tag_analysis.reset_index() \n",
    "tag_analysis.columns = ['Tags','Frequency']\n",
    "tag_analysis = tag_analysis.sort_values(by = 'Frequency',ascending = False)"
   ]
  },
  {
   "cell_type": "code",
   "execution_count": 124,
   "metadata": {},
   "outputs": [
    {
     "data": {
      "image/png": "[encoded data removed]",
      "text/plain": [
       "<Figure size 1440x720 with 1 Axes>"
      ]
     },
     "metadata": {
      "needs_background": "light"
     },
     "output_type": "display_data"
    }
   ],
   "source": [
    "fig,axes = plt.subplots(figsize=(20,10))\n",
    "sns.barplot(x = 'Tags',y = 'Frequency',data = tag_analysis[:10])\n",
    "axes.set_xticklabels(tag_analysis['Tags'][:10],rotation=45)\n",
    "plt.show()"
   ]
  },
  {
   "cell_type": "code",
   "execution_count": 125,
   "metadata": {},
   "outputs": [],
   "source": [
    "# Frequency Analysis of words - before stemming and stopword removal\n",
    "t = pd.DataFrame(nltk.FreqDist(all_words2),index = [0])\n",
    "word_analysis = t.T\n",
    "word_analysis = word_analysis.reset_index()\n",
    "word_analysis.columns = ['Words','Frequency']\n",
    "word_analysis = word_analysis.sort_values(by = 'Frequency',ascending = False)"
   ]
  },
  {
   "cell_type": "code",
   "execution_count": 126,
   "metadata": {},
   "outputs": [
    {
     "data": {
      "image/png": "[encoded data removed]",
      "text/plain": [
       "<Figure size 1440x720 with 1 Axes>"
      ]
     },
     "metadata": {
      "needs_background": "light"
     },
     "output_type": "display_data"
    }
   ],
   "source": [
    "fig,axes = plt.subplots(figsize=(20,10))\n",
    "sns.barplot(x = 'Words',y = 'Frequency',data = word_analysis[:10])\n",
    "axes.set_xticklabels(word_analysis['Words'][:10],rotation=45)\n",
    "plt.show()"
   ]
  },
  {
   "cell_type": "code",
   "execution_count": 127,
   "metadata": {},
   "outputs": [],
   "source": [
    "# Frequency analysis of the words with stemming and stopwords removal \n",
    "t = pd.DataFrame(nltk.FreqDist(all_words3),index = [0])\n",
    "word_analysis2 = t.T\n",
    "word_analysis2 = word_analysis2.reset_index()\n",
    "word_analysis2.columns = ['Words','Frequency']\n",
    "word_analysis2 = word_analysis2.sort_values(by = 'Frequency',ascending = False)"
   ]
  },
  {
   "cell_type": "code",
   "execution_count": 128,
   "metadata": {},
   "outputs": [
    {
     "data": {
      "image/png": "[encoded data removed]",
      "text/plain": [
       "<Figure size 1440x720 with 1 Axes>"
      ]
     },
     "metadata": {
      "needs_background": "light"
     },
     "output_type": "display_data"
    }
   ],
   "source": [
    "fig,axes = plt.subplots(figsize=(20,10))\n",
    "sns.barplot(x = 'Words',y = 'Frequency',data = word_analysis2[:10])\n",
    "axes.set_xticklabels(word_analysis2['Words'][:10],rotation=45)\n",
    "plt.show()"
   ]
  },
  {
   "cell_type": "code",
   "execution_count": 129,
   "metadata": {},
   "outputs": [
    {
     "data": {
      "image/png": "[encoded data removed]",
      "text/plain": [
       "<Figure size 720x720 with 1 Axes>"
      ]
     },
     "metadata": {
      "needs_background": "light"
     },
     "output_type": "display_data"
    }
   ],
   "source": [
    "# Generating a word cloud\n",
    "from wordcloud import WordCloud # pip install wordcloud\n",
    "wc_a = ' '.join(Apple_tweets['Tweet_stop_clean_stem'])\n",
    "wc = WordCloud(width = 3000, \n",
    "               height =3000,\n",
    "               background_color = 'blue',\n",
    "               min_font_size=10,\n",
    "               random_state = 100,stopwords = ['make','new','get']).generate(wc_a)\n",
    "plt.figure(figsize=(10,10))\n",
    "plt.imshow(wc)\n",
    "plt.axis('off')\n",
    "plt.xlabel('Word Cloud')\n",
    "plt.show()"
   ]
  },
  {
   "cell_type": "markdown",
   "metadata": {},
   "source": [
    "## Creating a DTM "
   ]
  },
  {
   "cell_type": "code",
   "execution_count": 130,
   "metadata": {},
   "outputs": [],
   "source": [
    "# Extracting Sentiment from avg rating\n",
    "Apple_tweets['Sentiment'] = np.where(Apple_tweets['Avg']>=0,'Positive','Negative') "
   ]
  },
  {
   "cell_type": "code",
   "execution_count": 131,
   "metadata": {},
   "outputs": [
    {
     "data": {
      "text/plain": [
       "1181"
      ]
     },
     "execution_count": 131,
     "metadata": {},
     "output_type": "execute_result"
    }
   ],
   "source": [
    "words_tweets = Apple_tweets['Tweet_stop_clean_stem'].values\n",
    "len(words_tweets)"
   ]
  },
  {
   "cell_type": "code",
   "execution_count": 132,
   "metadata": {},
   "outputs": [
    {
     "data": {
      "text/plain": [
       "array(['say far best custom care servic ever receiv appstor',\n",
       "       'io 7 frick smooth beauti thanxappl', 'love u', ...,\n",
       "       'freak cow freak', 'hate phone work im go freak',\n",
       "       'agounalaki that nasti nasti brat'], dtype=object)"
      ]
     },
     "execution_count": 132,
     "metadata": {},
     "output_type": "execute_result"
    }
   ],
   "source": [
    "words_tweets"
   ]
  },
  {
   "cell_type": "code",
   "execution_count": 133,
   "metadata": {},
   "outputs": [
    {
     "data": {
      "text/plain": [
       "array(['say far best custom care servic ever receiv appstor',\n",
       "       'io 7 frick smooth beauti thanxappl', 'love u', ...,\n",
       "       'freak cow freak', 'hate phone work im go freak',\n",
       "       'agounalaki that nasti nasti brat'], dtype=object)"
      ]
     },
     "execution_count": 133,
     "metadata": {},
     "output_type": "execute_result"
    }
   ],
   "source": [
    "Apple_tweets['Tweet_stop_clean_stem'].values"
   ]
  },
  {
   "cell_type": "code",
   "execution_count": 134,
   "metadata": {},
   "outputs": [
    {
     "name": "stderr",
     "output_type": "stream",
     "text": [
      "C:\\Users\\ANIRUDDH\\anaconda3\\lib\\site-packages\\sklearn\\utils\\deprecation.py:87: FutureWarning: Function get_feature_names is deprecated; get_feature_names is deprecated in 1.0 and will be removed in 1.2. Please use get_feature_names_out instead.\n",
      "  warnings.warn(msg, category=FutureWarning)\n"
     ]
    },
    {
     "data": {
      "text/html": [
       "<div>\n",
       "<style scoped>\n",
       "    .dataframe tbody tr th:only-of-type {\n",
       "        vertical-align: middle;\n",
       "    }\n",
       "\n",
       "    .dataframe tbody tr th {\n",
       "        vertical-align: top;\n",
       "    }\n",
       "\n",
       "    .dataframe thead th {\n",
       "        text-align: right;\n",
       "    }\n",
       "</style>\n",
       "<table border=\"1\" class=\"dataframe\">\n",
       "  <thead>\n",
       "    <tr style=\"text-align: right;\">\n",
       "      <th></th>\n",
       "      <th>10</th>\n",
       "      <th>20</th>\n",
       "      <th>244tsuyoponzu</th>\n",
       "      <th>5c</th>\n",
       "      <th>5s</th>\n",
       "      <th>7evenstarz</th>\n",
       "      <th>act</th>\n",
       "      <th>actual</th>\n",
       "      <th>ad</th>\n",
       "      <th>adambain</th>\n",
       "      <th>...</th>\n",
       "      <th>wtf</th>\n",
       "      <th>ya</th>\n",
       "      <th>yall</th>\n",
       "      <th>year</th>\n",
       "      <th>yes</th>\n",
       "      <th>yet</th>\n",
       "      <th>yo</th>\n",
       "      <th>yooo</th>\n",
       "      <th>your</th>\n",
       "      <th>Sentiment</th>\n",
       "    </tr>\n",
       "  </thead>\n",
       "  <tbody>\n",
       "    <tr>\n",
       "      <th>0</th>\n",
       "      <td>0.0</td>\n",
       "      <td>0.0</td>\n",
       "      <td>0.0</td>\n",
       "      <td>0.0</td>\n",
       "      <td>0.000000</td>\n",
       "      <td>0.0</td>\n",
       "      <td>0.0</td>\n",
       "      <td>0.0</td>\n",
       "      <td>0.0</td>\n",
       "      <td>0.0</td>\n",
       "      <td>...</td>\n",
       "      <td>0.0</td>\n",
       "      <td>0.0</td>\n",
       "      <td>0.0</td>\n",
       "      <td>0.0</td>\n",
       "      <td>0.0</td>\n",
       "      <td>0.0</td>\n",
       "      <td>0.0</td>\n",
       "      <td>0.0</td>\n",
       "      <td>0.0</td>\n",
       "      <td>Positive</td>\n",
       "    </tr>\n",
       "    <tr>\n",
       "      <th>1</th>\n",
       "      <td>0.0</td>\n",
       "      <td>0.0</td>\n",
       "      <td>0.0</td>\n",
       "      <td>0.0</td>\n",
       "      <td>0.000000</td>\n",
       "      <td>0.0</td>\n",
       "      <td>0.0</td>\n",
       "      <td>0.0</td>\n",
       "      <td>0.0</td>\n",
       "      <td>0.0</td>\n",
       "      <td>...</td>\n",
       "      <td>0.0</td>\n",
       "      <td>0.0</td>\n",
       "      <td>0.0</td>\n",
       "      <td>0.0</td>\n",
       "      <td>0.0</td>\n",
       "      <td>0.0</td>\n",
       "      <td>0.0</td>\n",
       "      <td>0.0</td>\n",
       "      <td>0.0</td>\n",
       "      <td>Positive</td>\n",
       "    </tr>\n",
       "    <tr>\n",
       "      <th>2</th>\n",
       "      <td>0.0</td>\n",
       "      <td>0.0</td>\n",
       "      <td>0.0</td>\n",
       "      <td>0.0</td>\n",
       "      <td>0.000000</td>\n",
       "      <td>0.0</td>\n",
       "      <td>0.0</td>\n",
       "      <td>0.0</td>\n",
       "      <td>0.0</td>\n",
       "      <td>0.0</td>\n",
       "      <td>...</td>\n",
       "      <td>0.0</td>\n",
       "      <td>0.0</td>\n",
       "      <td>0.0</td>\n",
       "      <td>0.0</td>\n",
       "      <td>0.0</td>\n",
       "      <td>0.0</td>\n",
       "      <td>0.0</td>\n",
       "      <td>0.0</td>\n",
       "      <td>0.0</td>\n",
       "      <td>Positive</td>\n",
       "    </tr>\n",
       "    <tr>\n",
       "      <th>3</th>\n",
       "      <td>0.0</td>\n",
       "      <td>0.0</td>\n",
       "      <td>0.0</td>\n",
       "      <td>0.0</td>\n",
       "      <td>0.370373</td>\n",
       "      <td>0.0</td>\n",
       "      <td>0.0</td>\n",
       "      <td>0.0</td>\n",
       "      <td>0.0</td>\n",
       "      <td>0.0</td>\n",
       "      <td>...</td>\n",
       "      <td>0.0</td>\n",
       "      <td>0.0</td>\n",
       "      <td>0.0</td>\n",
       "      <td>0.0</td>\n",
       "      <td>0.0</td>\n",
       "      <td>0.0</td>\n",
       "      <td>0.0</td>\n",
       "      <td>0.0</td>\n",
       "      <td>0.0</td>\n",
       "      <td>Positive</td>\n",
       "    </tr>\n",
       "    <tr>\n",
       "      <th>4</th>\n",
       "      <td>0.0</td>\n",
       "      <td>0.0</td>\n",
       "      <td>0.0</td>\n",
       "      <td>0.0</td>\n",
       "      <td>0.000000</td>\n",
       "      <td>0.0</td>\n",
       "      <td>0.0</td>\n",
       "      <td>0.0</td>\n",
       "      <td>0.0</td>\n",
       "      <td>0.0</td>\n",
       "      <td>...</td>\n",
       "      <td>0.0</td>\n",
       "      <td>0.0</td>\n",
       "      <td>0.0</td>\n",
       "      <td>0.0</td>\n",
       "      <td>0.0</td>\n",
       "      <td>0.0</td>\n",
       "      <td>0.0</td>\n",
       "      <td>0.0</td>\n",
       "      <td>0.0</td>\n",
       "      <td>Positive</td>\n",
       "    </tr>\n",
       "  </tbody>\n",
       "</table>\n",
       "<p>5 rows × 395 columns</p>\n",
       "</div>"
      ],
      "text/plain": [
       "    10   20  244tsuyoponzu   5c        5s  7evenstarz  act  actual   ad  \\\n",
       "0  0.0  0.0            0.0  0.0  0.000000         0.0  0.0     0.0  0.0   \n",
       "1  0.0  0.0            0.0  0.0  0.000000         0.0  0.0     0.0  0.0   \n",
       "2  0.0  0.0            0.0  0.0  0.000000         0.0  0.0     0.0  0.0   \n",
       "3  0.0  0.0            0.0  0.0  0.370373         0.0  0.0     0.0  0.0   \n",
       "4  0.0  0.0            0.0  0.0  0.000000         0.0  0.0     0.0  0.0   \n",
       "\n",
       "   adambain  ...  wtf   ya  yall  year  yes  yet   yo  yooo  your  Sentiment  \n",
       "0       0.0  ...  0.0  0.0   0.0   0.0  0.0  0.0  0.0   0.0   0.0   Positive  \n",
       "1       0.0  ...  0.0  0.0   0.0   0.0  0.0  0.0  0.0   0.0   0.0   Positive  \n",
       "2       0.0  ...  0.0  0.0   0.0   0.0  0.0  0.0  0.0   0.0   0.0   Positive  \n",
       "3       0.0  ...  0.0  0.0   0.0   0.0  0.0  0.0  0.0   0.0   0.0   Positive  \n",
       "4       0.0  ...  0.0  0.0   0.0   0.0  0.0  0.0  0.0   0.0   0.0   Positive  \n",
       "\n",
       "[5 rows x 395 columns]"
      ]
     },
     "execution_count": 134,
     "metadata": {},
     "output_type": "execute_result"
    }
   ],
   "source": [
    "# using the above text arrays to create a term document matrix\n",
    "from sklearn.feature_extraction.text import TfidfVectorizer # term frequency inverse document frequency vectorizer\n",
    "vectorizer = TfidfVectorizer(max_features=2500, min_df=5, max_df=0.8)\n",
    "word_features = vectorizer.fit_transform(words_tweets).toarray()\n",
    "dtm = pd.DataFrame(word_features,columns = vectorizer.get_feature_names())\n",
    "dtm['Sentiment'] = Apple_tweets['Sentiment']\n",
    "dtm.head()"
   ]
  },
  {
   "cell_type": "code",
   "execution_count": 135,
   "metadata": {},
   "outputs": [
    {
     "data": {
      "text/plain": [
       "array([[0., 0., 0., ..., 0., 0., 0.],\n",
       "       [0., 0., 0., ..., 0., 0., 0.],\n",
       "       [0., 0., 0., ..., 0., 0., 0.],\n",
       "       ...,\n",
       "       [0., 0., 0., ..., 0., 0., 0.],\n",
       "       [0., 0., 0., ..., 0., 0., 0.],\n",
       "       [0., 0., 0., ..., 0., 0., 0.]])"
      ]
     },
     "execution_count": 135,
     "metadata": {},
     "output_type": "execute_result"
    }
   ],
   "source": [
    "vectorizer.fit_transform(words_tweets).toarray()"
   ]
  },
  {
   "cell_type": "code",
   "execution_count": 136,
   "metadata": {},
   "outputs": [
    {
     "name": "stderr",
     "output_type": "stream",
     "text": [
      "C:\\Users\\ANIRUDDH\\anaconda3\\lib\\site-packages\\sklearn\\utils\\deprecation.py:87: FutureWarning: Function get_feature_names is deprecated; get_feature_names is deprecated in 1.0 and will be removed in 1.2. Please use get_feature_names_out instead.\n",
      "  warnings.warn(msg, category=FutureWarning)\n"
     ]
    },
    {
     "data": {
      "text/html": [
       "<div>\n",
       "<style scoped>\n",
       "    .dataframe tbody tr th:only-of-type {\n",
       "        vertical-align: middle;\n",
       "    }\n",
       "\n",
       "    .dataframe tbody tr th {\n",
       "        vertical-align: top;\n",
       "    }\n",
       "\n",
       "    .dataframe thead th {\n",
       "        text-align: right;\n",
       "    }\n",
       "</style>\n",
       "<table border=\"1\" class=\"dataframe\">\n",
       "  <thead>\n",
       "    <tr style=\"text-align: right;\">\n",
       "      <th></th>\n",
       "      <th>5c</th>\n",
       "      <th>5s</th>\n",
       "      <th>app</th>\n",
       "      <th>dont</th>\n",
       "      <th>freak</th>\n",
       "      <th>get</th>\n",
       "      <th>im</th>\n",
       "      <th>ipad</th>\n",
       "      <th>iphon</th>\n",
       "      <th>iphone5</th>\n",
       "      <th>...</th>\n",
       "      <th>ipodplayerpromo</th>\n",
       "      <th>itun</th>\n",
       "      <th>like</th>\n",
       "      <th>make</th>\n",
       "      <th>new</th>\n",
       "      <th>phone</th>\n",
       "      <th>promoipodplayerpromo</th>\n",
       "      <th>store</th>\n",
       "      <th>use</th>\n",
       "      <th>Sentiment</th>\n",
       "    </tr>\n",
       "  </thead>\n",
       "  <tbody>\n",
       "    <tr>\n",
       "      <th>0</th>\n",
       "      <td>0</td>\n",
       "      <td>0</td>\n",
       "      <td>0</td>\n",
       "      <td>0</td>\n",
       "      <td>0</td>\n",
       "      <td>0</td>\n",
       "      <td>0</td>\n",
       "      <td>0</td>\n",
       "      <td>0</td>\n",
       "      <td>0</td>\n",
       "      <td>...</td>\n",
       "      <td>0</td>\n",
       "      <td>0</td>\n",
       "      <td>0</td>\n",
       "      <td>0</td>\n",
       "      <td>0</td>\n",
       "      <td>0</td>\n",
       "      <td>0</td>\n",
       "      <td>0</td>\n",
       "      <td>0</td>\n",
       "      <td>Positive</td>\n",
       "    </tr>\n",
       "    <tr>\n",
       "      <th>1</th>\n",
       "      <td>0</td>\n",
       "      <td>0</td>\n",
       "      <td>0</td>\n",
       "      <td>0</td>\n",
       "      <td>0</td>\n",
       "      <td>0</td>\n",
       "      <td>0</td>\n",
       "      <td>0</td>\n",
       "      <td>0</td>\n",
       "      <td>0</td>\n",
       "      <td>...</td>\n",
       "      <td>0</td>\n",
       "      <td>0</td>\n",
       "      <td>0</td>\n",
       "      <td>0</td>\n",
       "      <td>0</td>\n",
       "      <td>0</td>\n",
       "      <td>0</td>\n",
       "      <td>0</td>\n",
       "      <td>0</td>\n",
       "      <td>Positive</td>\n",
       "    </tr>\n",
       "    <tr>\n",
       "      <th>2</th>\n",
       "      <td>0</td>\n",
       "      <td>0</td>\n",
       "      <td>0</td>\n",
       "      <td>0</td>\n",
       "      <td>0</td>\n",
       "      <td>0</td>\n",
       "      <td>0</td>\n",
       "      <td>0</td>\n",
       "      <td>0</td>\n",
       "      <td>0</td>\n",
       "      <td>...</td>\n",
       "      <td>0</td>\n",
       "      <td>0</td>\n",
       "      <td>0</td>\n",
       "      <td>0</td>\n",
       "      <td>0</td>\n",
       "      <td>0</td>\n",
       "      <td>0</td>\n",
       "      <td>0</td>\n",
       "      <td>0</td>\n",
       "      <td>Positive</td>\n",
       "    </tr>\n",
       "    <tr>\n",
       "      <th>3</th>\n",
       "      <td>0</td>\n",
       "      <td>1</td>\n",
       "      <td>0</td>\n",
       "      <td>0</td>\n",
       "      <td>0</td>\n",
       "      <td>0</td>\n",
       "      <td>0</td>\n",
       "      <td>0</td>\n",
       "      <td>1</td>\n",
       "      <td>1</td>\n",
       "      <td>...</td>\n",
       "      <td>0</td>\n",
       "      <td>0</td>\n",
       "      <td>0</td>\n",
       "      <td>0</td>\n",
       "      <td>1</td>\n",
       "      <td>0</td>\n",
       "      <td>0</td>\n",
       "      <td>0</td>\n",
       "      <td>0</td>\n",
       "      <td>Positive</td>\n",
       "    </tr>\n",
       "    <tr>\n",
       "      <th>4</th>\n",
       "      <td>0</td>\n",
       "      <td>0</td>\n",
       "      <td>0</td>\n",
       "      <td>0</td>\n",
       "      <td>0</td>\n",
       "      <td>0</td>\n",
       "      <td>0</td>\n",
       "      <td>0</td>\n",
       "      <td>0</td>\n",
       "      <td>0</td>\n",
       "      <td>...</td>\n",
       "      <td>0</td>\n",
       "      <td>0</td>\n",
       "      <td>0</td>\n",
       "      <td>0</td>\n",
       "      <td>1</td>\n",
       "      <td>1</td>\n",
       "      <td>0</td>\n",
       "      <td>0</td>\n",
       "      <td>0</td>\n",
       "      <td>Positive</td>\n",
       "    </tr>\n",
       "  </tbody>\n",
       "</table>\n",
       "<p>5 rows × 21 columns</p>\n",
       "</div>"
      ],
      "text/plain": [
       "   5c  5s  app  dont  freak  get  im  ipad  iphon  iphone5  ...  \\\n",
       "0   0   0    0     0      0    0   0     0      0        0  ...   \n",
       "1   0   0    0     0      0    0   0     0      0        0  ...   \n",
       "2   0   0    0     0      0    0   0     0      0        0  ...   \n",
       "3   0   1    0     0      0    0   0     0      1        1  ...   \n",
       "4   0   0    0     0      0    0   0     0      0        0  ...   \n",
       "\n",
       "   ipodplayerpromo  itun  like  make  new  phone  promoipodplayerpromo  store  \\\n",
       "0                0     0     0     0    0      0                     0      0   \n",
       "1                0     0     0     0    0      0                     0      0   \n",
       "2                0     0     0     0    0      0                     0      0   \n",
       "3                0     0     0     0    1      0                     0      0   \n",
       "4                0     0     0     0    1      1                     0      0   \n",
       "\n",
       "   use  Sentiment  \n",
       "0    0   Positive  \n",
       "1    0   Positive  \n",
       "2    0   Positive  \n",
       "3    0   Positive  \n",
       "4    0   Positive  \n",
       "\n",
       "[5 rows x 21 columns]"
      ]
     },
     "execution_count": 136,
     "metadata": {},
     "output_type": "execute_result"
    }
   ],
   "source": [
    "# using the above text arrays to create a term document matrix\n",
    "from sklearn.feature_extraction.text import CountVectorizer\n",
    "vectorizer2 = CountVectorizer(max_features=20)\n",
    "word_features = vectorizer2.fit_transform(words_tweets).toarray()\n",
    "dtm2 = pd.DataFrame(word_features,columns = vectorizer2.get_feature_names())\n",
    "dtm2['Sentiment'] = Apple_tweets['Sentiment']\n",
    "dtm2.head()"
   ]
  },
  {
   "cell_type": "code",
   "execution_count": 137,
   "metadata": {},
   "outputs": [
    {
     "data": {
      "text/html": [
       "<div>\n",
       "<style scoped>\n",
       "    .dataframe tbody tr th:only-of-type {\n",
       "        vertical-align: middle;\n",
       "    }\n",
       "\n",
       "    .dataframe tbody tr th {\n",
       "        vertical-align: top;\n",
       "    }\n",
       "\n",
       "    .dataframe thead th {\n",
       "        text-align: right;\n",
       "    }\n",
       "</style>\n",
       "<table border=\"1\" class=\"dataframe\">\n",
       "  <thead>\n",
       "    <tr style=\"text-align: right;\">\n",
       "      <th></th>\n",
       "      <th>Tweet</th>\n",
       "      <th>Avg</th>\n",
       "      <th>Tweet_LC</th>\n",
       "      <th>Tweet_LC_PuncRem</th>\n",
       "      <th>Tweet_LC_PuncRem2</th>\n",
       "      <th>Tweet_stop_clean</th>\n",
       "      <th>Tweet_stop_clean_stem</th>\n",
       "      <th>tags_hashtags</th>\n",
       "      <th>totalwords</th>\n",
       "      <th>totalchar</th>\n",
       "      <th>avg_word</th>\n",
       "      <th>stopwords</th>\n",
       "      <th>hashtags</th>\n",
       "      <th>tags</th>\n",
       "      <th>numerics</th>\n",
       "      <th>UC_Letters</th>\n",
       "      <th>UC_Words</th>\n",
       "      <th>Sentiment</th>\n",
       "    </tr>\n",
       "  </thead>\n",
       "  <tbody>\n",
       "    <tr>\n",
       "      <th>0</th>\n",
       "      <td>I have to say, Apple has by far the best custo...</td>\n",
       "      <td>2.0</td>\n",
       "      <td>i have to say, apple has by far the best custo...</td>\n",
       "      <td>i have to say apple has by far the best custom...</td>\n",
       "      <td>i have to say apple has by far the best custom...</td>\n",
       "      <td>say far best customer care service ever receiv...</td>\n",
       "      <td>say far best custom care servic ever receiv ap...</td>\n",
       "      <td>@apple @appstore</td>\n",
       "      <td>9</td>\n",
       "      <td>101</td>\n",
       "      <td>4.368421</td>\n",
       "      <td>6</td>\n",
       "      <td>0</td>\n",
       "      <td>2</td>\n",
       "      <td>0</td>\n",
       "      <td>6</td>\n",
       "      <td>2</td>\n",
       "      <td>Positive</td>\n",
       "    </tr>\n",
       "    <tr>\n",
       "      <th>1</th>\n",
       "      <td>iOS 7 is so fricking smooth &amp; beautiful!! #Tha...</td>\n",
       "      <td>2.0</td>\n",
       "      <td>ios 7 is so fricking smooth &amp; beautiful!! #tha...</td>\n",
       "      <td>ios 7 is so fricking smooth  beautiful #thanxa...</td>\n",
       "      <td>ios 7 is so fricking smooth  beautiful thanxap...</td>\n",
       "      <td>ios 7 fricking smooth beautiful thanxapple</td>\n",
       "      <td>io 7 frick smooth beauti thanxappl</td>\n",
       "      <td>#thanxapple @apple</td>\n",
       "      <td>6</td>\n",
       "      <td>60</td>\n",
       "      <td>5.100000</td>\n",
       "      <td>2</td>\n",
       "      <td>1</td>\n",
       "      <td>1</td>\n",
       "      <td>1</td>\n",
       "      <td>5</td>\n",
       "      <td>0</td>\n",
       "      <td>Positive</td>\n",
       "    </tr>\n",
       "    <tr>\n",
       "      <th>2</th>\n",
       "      <td>LOVE U @APPLE</td>\n",
       "      <td>1.8</td>\n",
       "      <td>love u @apple</td>\n",
       "      <td>love u @apple</td>\n",
       "      <td>love u apple</td>\n",
       "      <td>love u</td>\n",
       "      <td>love u</td>\n",
       "      <td>@apple</td>\n",
       "      <td>2</td>\n",
       "      <td>13</td>\n",
       "      <td>3.666667</td>\n",
       "      <td>0</td>\n",
       "      <td>0</td>\n",
       "      <td>1</td>\n",
       "      <td>0</td>\n",
       "      <td>10</td>\n",
       "      <td>3</td>\n",
       "      <td>Positive</td>\n",
       "    </tr>\n",
       "    <tr>\n",
       "      <th>3</th>\n",
       "      <td>Thank you @apple, loving my new iPhone 5S!!!!!...</td>\n",
       "      <td>1.8</td>\n",
       "      <td>thank you @apple, loving my new iphone 5s!!!!!...</td>\n",
       "      <td>thank you @apple loving my new iphone 5s #appl...</td>\n",
       "      <td>thank you apple loving my new iphone 5s apple ...</td>\n",
       "      <td>thank loving new iphone 5s iphone5s pictwitter...</td>\n",
       "      <td>thank love new iphon 5s iphone5 pictwittercomx...</td>\n",
       "      <td>@apple, #apple #iphone5s</td>\n",
       "      <td>7</td>\n",
       "      <td>91</td>\n",
       "      <td>7.272727</td>\n",
       "      <td>2</td>\n",
       "      <td>2</td>\n",
       "      <td>1</td>\n",
       "      <td>3</td>\n",
       "      <td>9</td>\n",
       "      <td>1</td>\n",
       "      <td>Positive</td>\n",
       "    </tr>\n",
       "    <tr>\n",
       "      <th>4</th>\n",
       "      <td>.@apple has the best customer service. In and ...</td>\n",
       "      <td>1.8</td>\n",
       "      <td>.@apple has the best customer service. in and ...</td>\n",
       "      <td>@apple has the best customer service in and ou...</td>\n",
       "      <td>apple has the best customer service in and out...</td>\n",
       "      <td>best customer service new phone 10min</td>\n",
       "      <td>best custom servic new phone 10min</td>\n",
       "      <td>@None</td>\n",
       "      <td>6</td>\n",
       "      <td>82</td>\n",
       "      <td>4.187500</td>\n",
       "      <td>8</td>\n",
       "      <td>0</td>\n",
       "      <td>0</td>\n",
       "      <td>2</td>\n",
       "      <td>1</td>\n",
       "      <td>0</td>\n",
       "      <td>Positive</td>\n",
       "    </tr>\n",
       "  </tbody>\n",
       "</table>\n",
       "</div>"
      ],
      "text/plain": [
       "                                               Tweet  Avg  \\\n",
       "0  I have to say, Apple has by far the best custo...  2.0   \n",
       "1  iOS 7 is so fricking smooth & beautiful!! #Tha...  2.0   \n",
       "2                                      LOVE U @APPLE  1.8   \n",
       "3  Thank you @apple, loving my new iPhone 5S!!!!!...  1.8   \n",
       "4  .@apple has the best customer service. In and ...  1.8   \n",
       "\n",
       "                                            Tweet_LC  \\\n",
       "0  i have to say, apple has by far the best custo...   \n",
       "1  ios 7 is so fricking smooth & beautiful!! #tha...   \n",
       "2                                      love u @apple   \n",
       "3  thank you @apple, loving my new iphone 5s!!!!!...   \n",
       "4  .@apple has the best customer service. in and ...   \n",
       "\n",
       "                                    Tweet_LC_PuncRem  \\\n",
       "0  i have to say apple has by far the best custom...   \n",
       "1  ios 7 is so fricking smooth  beautiful #thanxa...   \n",
       "2                                      love u @apple   \n",
       "3  thank you @apple loving my new iphone 5s #appl...   \n",
       "4  @apple has the best customer service in and ou...   \n",
       "\n",
       "                                   Tweet_LC_PuncRem2  \\\n",
       "0  i have to say apple has by far the best custom...   \n",
       "1  ios 7 is so fricking smooth  beautiful thanxap...   \n",
       "2                                       love u apple   \n",
       "3  thank you apple loving my new iphone 5s apple ...   \n",
       "4  apple has the best customer service in and out...   \n",
       "\n",
       "                                    Tweet_stop_clean  \\\n",
       "0  say far best customer care service ever receiv...   \n",
       "1         ios 7 fricking smooth beautiful thanxapple   \n",
       "2                                             love u   \n",
       "3  thank loving new iphone 5s iphone5s pictwitter...   \n",
       "4              best customer service new phone 10min   \n",
       "\n",
       "                               Tweet_stop_clean_stem  \\\n",
       "0  say far best custom care servic ever receiv ap...   \n",
       "1                 io 7 frick smooth beauti thanxappl   \n",
       "2                                             love u   \n",
       "3  thank love new iphon 5s iphone5 pictwittercomx...   \n",
       "4                 best custom servic new phone 10min   \n",
       "\n",
       "              tags_hashtags  totalwords  totalchar  avg_word  stopwords  \\\n",
       "0          @apple @appstore           9        101  4.368421          6   \n",
       "1        #thanxapple @apple           6         60  5.100000          2   \n",
       "2                    @apple           2         13  3.666667          0   \n",
       "3  @apple, #apple #iphone5s           7         91  7.272727          2   \n",
       "4                     @None           6         82  4.187500          8   \n",
       "\n",
       "   hashtags  tags  numerics  UC_Letters  UC_Words Sentiment  \n",
       "0         0     2         0           6         2  Positive  \n",
       "1         1     1         1           5         0  Positive  \n",
       "2         0     1         0          10         3  Positive  \n",
       "3         2     1         3           9         1  Positive  \n",
       "4         0     0         2           1         0  Positive  "
      ]
     },
     "execution_count": 137,
     "metadata": {},
     "output_type": "execute_result"
    }
   ],
   "source": [
    "Apple_tweets.head()"
   ]
  },
  {
   "cell_type": "markdown",
   "metadata": {},
   "source": [
    "## Clustering K-means - Using Counts"
   ]
  },
  {
   "cell_type": "code",
   "execution_count": 138,
   "metadata": {},
   "outputs": [
    {
     "data": {
      "text/plain": [
       "[<matplotlib.lines.Line2D at 0x1ebbd7745b0>]"
      ]
     },
     "execution_count": 138,
     "metadata": {},
     "output_type": "execute_result"
    },
    {
     "data": {
      "image/png": "[encoded data removed]",
      "text/plain": [
       "<Figure size 1080x720 with 1 Axes>"
      ]
     },
     "metadata": {
      "needs_background": "light"
     },
     "output_type": "display_data"
    }
   ],
   "source": [
    "from sklearn.cluster import KMeans\n",
    "from sklearn.metrics import silhouette_score\n",
    "dtm2_clus = dtm2.drop('Sentiment',axis=1)\n",
    "wss = []\n",
    "for i in range(1,21):\n",
    "    k_means = KMeans(n_clusters = i, random_state =1234)\n",
    "    k_means.fit(dtm2_clus)\n",
    "    wss.append(k_means.inertia_)\n",
    "wss_df = pd.DataFrame(wss,columns = ['WSS']) # putting all the WSS values in a data frame\n",
    "wss_df['Num_of_clusters'] = range(1,21)\n",
    "# Plotting the above data in the form of a scree plot\n",
    "fig,axes = plt.subplots(figsize=(15,10))\n",
    "plt.plot(wss_df['Num_of_clusters'],wss_df['WSS'],marker='o')"
   ]
  },
  {
   "cell_type": "code",
   "execution_count": 139,
   "metadata": {},
   "outputs": [],
   "source": [
    "kmeans_dtm_clus = KMeans(n_clusters = 3,random_state=1234)\n",
    "kmeans_dtm_clus.fit(dtm2_clus)\n",
    "dtm2_clus['cluster'] = kmeans_dtm_clus.labels_\n",
    "dtm2_clus['sentiment'] = dtm['Sentiment']\n"
   ]
  },
  {
   "cell_type": "code",
   "execution_count": 140,
   "metadata": {},
   "outputs": [
    {
     "data": {
      "text/plain": [
       "<AxesSubplot:xlabel='cluster', ylabel='count'>"
      ]
     },
     "execution_count": 140,
     "metadata": {},
     "output_type": "execute_result"
    },
    {
     "data": {
      "image/png": "[encoded data removed]",
      "text/plain": [
       "<Figure size 432x288 with 1 Axes>"
      ]
     },
     "metadata": {
      "needs_background": "light"
     },
     "output_type": "display_data"
    }
   ],
   "source": [
    "sns.countplot(x='cluster',hue='sentiment',data = dtm2_clus)"
   ]
  },
  {
   "cell_type": "code",
   "execution_count": 141,
   "metadata": {},
   "outputs": [
    {
     "data": {
      "text/html": [
       "<div>\n",
       "<style scoped>\n",
       "    .dataframe tbody tr th:only-of-type {\n",
       "        vertical-align: middle;\n",
       "    }\n",
       "\n",
       "    .dataframe tbody tr th {\n",
       "        vertical-align: top;\n",
       "    }\n",
       "\n",
       "    .dataframe thead th {\n",
       "        text-align: right;\n",
       "    }\n",
       "</style>\n",
       "<table border=\"1\" class=\"dataframe\">\n",
       "  <thead>\n",
       "    <tr style=\"text-align: right;\">\n",
       "      <th></th>\n",
       "      <th>5c</th>\n",
       "      <th>5s</th>\n",
       "      <th>app</th>\n",
       "      <th>dont</th>\n",
       "      <th>freak</th>\n",
       "      <th>get</th>\n",
       "      <th>im</th>\n",
       "      <th>ipad</th>\n",
       "      <th>iphon</th>\n",
       "      <th>iphone5</th>\n",
       "      <th>...</th>\n",
       "      <th>itun</th>\n",
       "      <th>like</th>\n",
       "      <th>make</th>\n",
       "      <th>new</th>\n",
       "      <th>phone</th>\n",
       "      <th>promoipodplayerpromo</th>\n",
       "      <th>store</th>\n",
       "      <th>use</th>\n",
       "      <th>cluster</th>\n",
       "      <th>sentiment</th>\n",
       "    </tr>\n",
       "  </thead>\n",
       "  <tbody>\n",
       "    <tr>\n",
       "      <th>0</th>\n",
       "      <td>0</td>\n",
       "      <td>0</td>\n",
       "      <td>0</td>\n",
       "      <td>0</td>\n",
       "      <td>0</td>\n",
       "      <td>0</td>\n",
       "      <td>0</td>\n",
       "      <td>0</td>\n",
       "      <td>0</td>\n",
       "      <td>0</td>\n",
       "      <td>...</td>\n",
       "      <td>0</td>\n",
       "      <td>0</td>\n",
       "      <td>0</td>\n",
       "      <td>0</td>\n",
       "      <td>0</td>\n",
       "      <td>0</td>\n",
       "      <td>0</td>\n",
       "      <td>0</td>\n",
       "      <td>0</td>\n",
       "      <td>Positive</td>\n",
       "    </tr>\n",
       "    <tr>\n",
       "      <th>1</th>\n",
       "      <td>0</td>\n",
       "      <td>0</td>\n",
       "      <td>0</td>\n",
       "      <td>0</td>\n",
       "      <td>0</td>\n",
       "      <td>0</td>\n",
       "      <td>0</td>\n",
       "      <td>0</td>\n",
       "      <td>0</td>\n",
       "      <td>0</td>\n",
       "      <td>...</td>\n",
       "      <td>0</td>\n",
       "      <td>0</td>\n",
       "      <td>0</td>\n",
       "      <td>0</td>\n",
       "      <td>0</td>\n",
       "      <td>0</td>\n",
       "      <td>0</td>\n",
       "      <td>0</td>\n",
       "      <td>0</td>\n",
       "      <td>Positive</td>\n",
       "    </tr>\n",
       "    <tr>\n",
       "      <th>2</th>\n",
       "      <td>0</td>\n",
       "      <td>0</td>\n",
       "      <td>0</td>\n",
       "      <td>0</td>\n",
       "      <td>0</td>\n",
       "      <td>0</td>\n",
       "      <td>0</td>\n",
       "      <td>0</td>\n",
       "      <td>0</td>\n",
       "      <td>0</td>\n",
       "      <td>...</td>\n",
       "      <td>0</td>\n",
       "      <td>0</td>\n",
       "      <td>0</td>\n",
       "      <td>0</td>\n",
       "      <td>0</td>\n",
       "      <td>0</td>\n",
       "      <td>0</td>\n",
       "      <td>0</td>\n",
       "      <td>0</td>\n",
       "      <td>Positive</td>\n",
       "    </tr>\n",
       "    <tr>\n",
       "      <th>3</th>\n",
       "      <td>0</td>\n",
       "      <td>1</td>\n",
       "      <td>0</td>\n",
       "      <td>0</td>\n",
       "      <td>0</td>\n",
       "      <td>0</td>\n",
       "      <td>0</td>\n",
       "      <td>0</td>\n",
       "      <td>1</td>\n",
       "      <td>1</td>\n",
       "      <td>...</td>\n",
       "      <td>0</td>\n",
       "      <td>0</td>\n",
       "      <td>0</td>\n",
       "      <td>1</td>\n",
       "      <td>0</td>\n",
       "      <td>0</td>\n",
       "      <td>0</td>\n",
       "      <td>0</td>\n",
       "      <td>2</td>\n",
       "      <td>Positive</td>\n",
       "    </tr>\n",
       "    <tr>\n",
       "      <th>4</th>\n",
       "      <td>0</td>\n",
       "      <td>0</td>\n",
       "      <td>0</td>\n",
       "      <td>0</td>\n",
       "      <td>0</td>\n",
       "      <td>0</td>\n",
       "      <td>0</td>\n",
       "      <td>0</td>\n",
       "      <td>0</td>\n",
       "      <td>0</td>\n",
       "      <td>...</td>\n",
       "      <td>0</td>\n",
       "      <td>0</td>\n",
       "      <td>0</td>\n",
       "      <td>1</td>\n",
       "      <td>1</td>\n",
       "      <td>0</td>\n",
       "      <td>0</td>\n",
       "      <td>0</td>\n",
       "      <td>0</td>\n",
       "      <td>Positive</td>\n",
       "    </tr>\n",
       "  </tbody>\n",
       "</table>\n",
       "<p>5 rows × 22 columns</p>\n",
       "</div>"
      ],
      "text/plain": [
       "   5c  5s  app  dont  freak  get  im  ipad  iphon  iphone5  ...  itun  like  \\\n",
       "0   0   0    0     0      0    0   0     0      0        0  ...     0     0   \n",
       "1   0   0    0     0      0    0   0     0      0        0  ...     0     0   \n",
       "2   0   0    0     0      0    0   0     0      0        0  ...     0     0   \n",
       "3   0   1    0     0      0    0   0     0      1        1  ...     0     0   \n",
       "4   0   0    0     0      0    0   0     0      0        0  ...     0     0   \n",
       "\n",
       "   make  new  phone  promoipodplayerpromo  store  use  cluster  sentiment  \n",
       "0     0    0      0                     0      0    0        0   Positive  \n",
       "1     0    0      0                     0      0    0        0   Positive  \n",
       "2     0    0      0                     0      0    0        0   Positive  \n",
       "3     0    1      0                     0      0    0        2   Positive  \n",
       "4     0    1      1                     0      0    0        0   Positive  \n",
       "\n",
       "[5 rows x 22 columns]"
      ]
     },
     "execution_count": 141,
     "metadata": {},
     "output_type": "execute_result"
    }
   ],
   "source": [
    "dtm2_clus.head()"
   ]
  },
  {
   "cell_type": "code",
   "execution_count": 142,
   "metadata": {},
   "outputs": [
    {
     "data": {
      "text/html": [
       "<div>\n",
       "<style scoped>\n",
       "    .dataframe tbody tr th:only-of-type {\n",
       "        vertical-align: middle;\n",
       "    }\n",
       "\n",
       "    .dataframe tbody tr th {\n",
       "        vertical-align: top;\n",
       "    }\n",
       "\n",
       "    .dataframe thead th {\n",
       "        text-align: right;\n",
       "    }\n",
       "</style>\n",
       "<table border=\"1\" class=\"dataframe\">\n",
       "  <thead>\n",
       "    <tr style=\"text-align: right;\">\n",
       "      <th></th>\n",
       "      <th>10</th>\n",
       "      <th>20</th>\n",
       "      <th>244tsuyoponzu</th>\n",
       "      <th>5c</th>\n",
       "      <th>5s</th>\n",
       "      <th>7evenstarz</th>\n",
       "      <th>act</th>\n",
       "      <th>actual</th>\n",
       "      <th>ad</th>\n",
       "      <th>adambain</th>\n",
       "      <th>...</th>\n",
       "      <th>wtf</th>\n",
       "      <th>ya</th>\n",
       "      <th>yall</th>\n",
       "      <th>year</th>\n",
       "      <th>yes</th>\n",
       "      <th>yet</th>\n",
       "      <th>yo</th>\n",
       "      <th>yooo</th>\n",
       "      <th>your</th>\n",
       "      <th>Sentiment</th>\n",
       "    </tr>\n",
       "  </thead>\n",
       "  <tbody>\n",
       "    <tr>\n",
       "      <th>0</th>\n",
       "      <td>0.0</td>\n",
       "      <td>0.0</td>\n",
       "      <td>0.0</td>\n",
       "      <td>0.0</td>\n",
       "      <td>0.000000</td>\n",
       "      <td>0.0</td>\n",
       "      <td>0.0</td>\n",
       "      <td>0.0</td>\n",
       "      <td>0.0</td>\n",
       "      <td>0.0</td>\n",
       "      <td>...</td>\n",
       "      <td>0.0</td>\n",
       "      <td>0.0</td>\n",
       "      <td>0.0</td>\n",
       "      <td>0.0</td>\n",
       "      <td>0.0</td>\n",
       "      <td>0.0</td>\n",
       "      <td>0.0</td>\n",
       "      <td>0.0</td>\n",
       "      <td>0.0</td>\n",
       "      <td>Positive</td>\n",
       "    </tr>\n",
       "    <tr>\n",
       "      <th>1</th>\n",
       "      <td>0.0</td>\n",
       "      <td>0.0</td>\n",
       "      <td>0.0</td>\n",
       "      <td>0.0</td>\n",
       "      <td>0.000000</td>\n",
       "      <td>0.0</td>\n",
       "      <td>0.0</td>\n",
       "      <td>0.0</td>\n",
       "      <td>0.0</td>\n",
       "      <td>0.0</td>\n",
       "      <td>...</td>\n",
       "      <td>0.0</td>\n",
       "      <td>0.0</td>\n",
       "      <td>0.0</td>\n",
       "      <td>0.0</td>\n",
       "      <td>0.0</td>\n",
       "      <td>0.0</td>\n",
       "      <td>0.0</td>\n",
       "      <td>0.0</td>\n",
       "      <td>0.0</td>\n",
       "      <td>Positive</td>\n",
       "    </tr>\n",
       "    <tr>\n",
       "      <th>2</th>\n",
       "      <td>0.0</td>\n",
       "      <td>0.0</td>\n",
       "      <td>0.0</td>\n",
       "      <td>0.0</td>\n",
       "      <td>0.000000</td>\n",
       "      <td>0.0</td>\n",
       "      <td>0.0</td>\n",
       "      <td>0.0</td>\n",
       "      <td>0.0</td>\n",
       "      <td>0.0</td>\n",
       "      <td>...</td>\n",
       "      <td>0.0</td>\n",
       "      <td>0.0</td>\n",
       "      <td>0.0</td>\n",
       "      <td>0.0</td>\n",
       "      <td>0.0</td>\n",
       "      <td>0.0</td>\n",
       "      <td>0.0</td>\n",
       "      <td>0.0</td>\n",
       "      <td>0.0</td>\n",
       "      <td>Positive</td>\n",
       "    </tr>\n",
       "    <tr>\n",
       "      <th>3</th>\n",
       "      <td>0.0</td>\n",
       "      <td>0.0</td>\n",
       "      <td>0.0</td>\n",
       "      <td>0.0</td>\n",
       "      <td>0.370373</td>\n",
       "      <td>0.0</td>\n",
       "      <td>0.0</td>\n",
       "      <td>0.0</td>\n",
       "      <td>0.0</td>\n",
       "      <td>0.0</td>\n",
       "      <td>...</td>\n",
       "      <td>0.0</td>\n",
       "      <td>0.0</td>\n",
       "      <td>0.0</td>\n",
       "      <td>0.0</td>\n",
       "      <td>0.0</td>\n",
       "      <td>0.0</td>\n",
       "      <td>0.0</td>\n",
       "      <td>0.0</td>\n",
       "      <td>0.0</td>\n",
       "      <td>Positive</td>\n",
       "    </tr>\n",
       "    <tr>\n",
       "      <th>4</th>\n",
       "      <td>0.0</td>\n",
       "      <td>0.0</td>\n",
       "      <td>0.0</td>\n",
       "      <td>0.0</td>\n",
       "      <td>0.000000</td>\n",
       "      <td>0.0</td>\n",
       "      <td>0.0</td>\n",
       "      <td>0.0</td>\n",
       "      <td>0.0</td>\n",
       "      <td>0.0</td>\n",
       "      <td>...</td>\n",
       "      <td>0.0</td>\n",
       "      <td>0.0</td>\n",
       "      <td>0.0</td>\n",
       "      <td>0.0</td>\n",
       "      <td>0.0</td>\n",
       "      <td>0.0</td>\n",
       "      <td>0.0</td>\n",
       "      <td>0.0</td>\n",
       "      <td>0.0</td>\n",
       "      <td>Positive</td>\n",
       "    </tr>\n",
       "  </tbody>\n",
       "</table>\n",
       "<p>5 rows × 395 columns</p>\n",
       "</div>"
      ],
      "text/plain": [
       "    10   20  244tsuyoponzu   5c        5s  7evenstarz  act  actual   ad  \\\n",
       "0  0.0  0.0            0.0  0.0  0.000000         0.0  0.0     0.0  0.0   \n",
       "1  0.0  0.0            0.0  0.0  0.000000         0.0  0.0     0.0  0.0   \n",
       "2  0.0  0.0            0.0  0.0  0.000000         0.0  0.0     0.0  0.0   \n",
       "3  0.0  0.0            0.0  0.0  0.370373         0.0  0.0     0.0  0.0   \n",
       "4  0.0  0.0            0.0  0.0  0.000000         0.0  0.0     0.0  0.0   \n",
       "\n",
       "   adambain  ...  wtf   ya  yall  year  yes  yet   yo  yooo  your  Sentiment  \n",
       "0       0.0  ...  0.0  0.0   0.0   0.0  0.0  0.0  0.0   0.0   0.0   Positive  \n",
       "1       0.0  ...  0.0  0.0   0.0   0.0  0.0  0.0  0.0   0.0   0.0   Positive  \n",
       "2       0.0  ...  0.0  0.0   0.0   0.0  0.0  0.0  0.0   0.0   0.0   Positive  \n",
       "3       0.0  ...  0.0  0.0   0.0   0.0  0.0  0.0  0.0   0.0   0.0   Positive  \n",
       "4       0.0  ...  0.0  0.0   0.0   0.0  0.0  0.0  0.0   0.0   0.0   Positive  \n",
       "\n",
       "[5 rows x 395 columns]"
      ]
     },
     "execution_count": 142,
     "metadata": {},
     "output_type": "execute_result"
    }
   ],
   "source": [
    "dtm.head()"
   ]
  },
  {
   "cell_type": "markdown",
   "metadata": {},
   "source": [
    "## Clustering Hierarchical - Cosine Distance"
   ]
  },
  {
   "cell_type": "code",
   "execution_count": 143,
   "metadata": {},
   "outputs": [
    {
     "data": {
      "image/png": "[encoded data removed]",
      "text/plain": [
       "<Figure size 1080x1440 with 1 Axes>"
      ]
     },
     "metadata": {
      "needs_background": "light"
     },
     "output_type": "display_data"
    }
   ],
   "source": [
    "from sklearn.metrics.pairwise import cosine_similarity\n",
    "from scipy.cluster.hierarchy import ward, dendrogram\n",
    "dtm_clus = dtm.drop('Sentiment',axis=1)\n",
    "dist = 1 - cosine_similarity(dtm_clus)\n",
    "linkage_matrix = ward(dist)\n",
    "fig, ax = plt.subplots(figsize=(15, 20)) # set size\n",
    "ax = dendrogram(linkage_matrix, orientation=\"right\",labels = range(1,1182))"
   ]
  },
  {
   "cell_type": "code",
   "execution_count": 144,
   "metadata": {},
   "outputs": [],
   "source": [
    "from scipy.cluster.hierarchy import fcluster\n",
    "clust = fcluster(linkage_matrix,t = 3,criterion = 'maxclust')\n",
    "dtm_clus['cluster'] = clust \n",
    "dtm_clus['sentiment'] = dtm['Sentiment']"
   ]
  },
  {
   "cell_type": "code",
   "execution_count": 145,
   "metadata": {},
   "outputs": [
    {
     "data": {
      "text/plain": [
       "<AxesSubplot:xlabel='cluster', ylabel='count'>"
      ]
     },
     "execution_count": 145,
     "metadata": {},
     "output_type": "execute_result"
    },
    {
     "data": {
      "image/png": "[encoded data removed]",
      "text/plain": [
       "<Figure size 432x288 with 1 Axes>"
      ]
     },
     "metadata": {
      "needs_background": "light"
     },
     "output_type": "display_data"
    }
   ],
   "source": [
    "sns.countplot(x='cluster',hue='sentiment',data = dtm_clus)"
   ]
  },
  {
   "cell_type": "markdown",
   "metadata": {},
   "source": [
    "## Predictive models based on the word set"
   ]
  },
  {
   "cell_type": "code",
   "execution_count": 146,
   "metadata": {},
   "outputs": [],
   "source": [
    "from sklearn.model_selection import train_test_split\n",
    "X = dtm.drop('Sentiment',axis=1)\n",
    "y = dtm['Sentiment']\n",
    "X_train,X_test,y_train,y_test = train_test_split(X,y,test_size=0.3,random_state = 1)"
   ]
  },
  {
   "cell_type": "code",
   "execution_count": 147,
   "metadata": {},
   "outputs": [
    {
     "data": {
      "text/html": [
       "<style>#sk-container-id-1 {color: black;background-color: white;}#sk-container-id-1 pre{padding: 0;}#sk-container-id-1 div.sk-toggleable {background-color: white;}#sk-container-id-1 label.sk-toggleable__label {cursor: pointer;display: block;width: 100%;margin-bottom: 0;padding: 0.3em;box-sizing: border-box;text-align: center;}#sk-container-id-1 label.sk-toggleable__label-arrow:before {content: \"▸\";float: left;margin-right: 0.25em;color: #696969;}#sk-container-id-1 label.sk-toggleable__label-arrow:hover:before {color: black;}#sk-container-id-1 div.sk-estimator:hover label.sk-toggleable__label-arrow:before {color: black;}#sk-container-id-1 div.sk-toggleable__content {max-height: 0;max-width: 0;overflow: hidden;text-align: left;background-color: #f0f8ff;}#sk-container-id-1 div.sk-toggleable__content pre {margin: 0.2em;color: black;border-radius: 0.25em;background-color: #f0f8ff;}#sk-container-id-1 input.sk-toggleable__control:checked~div.sk-toggleable__content {max-height: 200px;max-width: 100%;overflow: auto;}#sk-container-id-1 input.sk-toggleable__control:checked~label.sk-toggleable__label-arrow:before {content: \"▾\";}#sk-container-id-1 div.sk-estimator input.sk-toggleable__control:checked~label.sk-toggleable__label {background-color: #d4ebff;}#sk-container-id-1 div.sk-label input.sk-toggleable__control:checked~label.sk-toggleable__label {background-color: #d4ebff;}#sk-container-id-1 input.sk-hidden--visually {border: 0;clip: rect(1px 1px 1px 1px);clip: rect(1px, 1px, 1px, 1px);height: 1px;margin: -1px;overflow: hidden;padding: 0;position: absolute;width: 1px;}#sk-container-id-1 div.sk-estimator {font-family: monospace;background-color: #f0f8ff;border: 1px dotted black;border-radius: 0.25em;box-sizing: border-box;margin-bottom: 0.5em;}#sk-container-id-1 div.sk-estimator:hover {background-color: #d4ebff;}#sk-container-id-1 div.sk-parallel-item::after {content: \"\";width: 100%;border-bottom: 1px solid gray;flex-grow: 1;}#sk-container-id-1 div.sk-label:hover label.sk-toggleable__label {background-color: #d4ebff;}#sk-container-id-1 div.sk-serial::before {content: \"\";position: absolute;border-left: 1px solid gray;box-sizing: border-box;top: 0;bottom: 0;left: 50%;z-index: 0;}#sk-container-id-1 div.sk-serial {display: flex;flex-direction: column;align-items: center;background-color: white;padding-right: 0.2em;padding-left: 0.2em;position: relative;}#sk-container-id-1 div.sk-item {position: relative;z-index: 1;}#sk-container-id-1 div.sk-parallel {display: flex;align-items: stretch;justify-content: center;background-color: white;position: relative;}#sk-container-id-1 div.sk-item::before, #sk-container-id-1 div.sk-parallel-item::before {content: \"\";position: absolute;border-left: 1px solid gray;box-sizing: border-box;top: 0;bottom: 0;left: 50%;z-index: -1;}#sk-container-id-1 div.sk-parallel-item {display: flex;flex-direction: column;z-index: 1;position: relative;background-color: white;}#sk-container-id-1 div.sk-parallel-item:first-child::after {align-self: flex-end;width: 50%;}#sk-container-id-1 div.sk-parallel-item:last-child::after {align-self: flex-start;width: 50%;}#sk-container-id-1 div.sk-parallel-item:only-child::after {width: 0;}#sk-container-id-1 div.sk-dashed-wrapped {border: 1px dashed gray;margin: 0 0.4em 0.5em 0.4em;box-sizing: border-box;padding-bottom: 0.4em;background-color: white;}#sk-container-id-1 div.sk-label label {font-family: monospace;font-weight: bold;display: inline-block;line-height: 1.2em;}#sk-container-id-1 div.sk-label-container {text-align: center;}#sk-container-id-1 div.sk-container {/* jupyter's `normalize.less` sets `[hidden] { display: none; }` but bootstrap.min.css set `[hidden] { display: none !important; }` so we also need the `!important` here to be able to override the default hidden behavior on the sphinx rendered scikit-learn.org. See: https://github.com/scikit-learn/scikit-learn/issues/21755 */display: inline-block !important;position: relative;}#sk-container-id-1 div.sk-text-repr-fallback {display: none;}</style><div id=\"sk-container-id-1\" class=\"sk-top-container\"><div class=\"sk-text-repr-fallback\"><pre>GaussianNB()</pre><b>In a Jupyter environment, please rerun this cell to show the HTML representation or trust the notebook. <br />On GitHub, the HTML representation is unable to render, please try loading this page with nbviewer.org.</b></div><div class=\"sk-container\" hidden><div class=\"sk-item\"><div class=\"sk-estimator sk-toggleable\"><input class=\"sk-toggleable__control sk-hidden--visually\" id=\"sk-estimator-id-1\" type=\"checkbox\" checked><label for=\"sk-estimator-id-1\" class=\"sk-toggleable__label sk-toggleable__label-arrow\">GaussianNB</label><div class=\"sk-toggleable__content\"><pre>GaussianNB()</pre></div></div></div></div></div>"
      ],
      "text/plain": [
       "GaussianNB()"
      ]
     },
     "execution_count": 147,
     "metadata": {},
     "output_type": "execute_result"
    }
   ],
   "source": [
    "# Naive Bayes Model \n",
    "from sklearn.naive_bayes import GaussianNB\n",
    "from sklearn import metrics\n",
    "NB_model = GaussianNB()\n",
    "NB_model.fit(X_train,y_train)"
   ]
  },
  {
   "cell_type": "code",
   "execution_count": 148,
   "metadata": {},
   "outputs": [
    {
     "name": "stdout",
     "output_type": "stream",
     "text": [
      "              precision    recall  f1-score   support\n",
      "\n",
      "    Negative       0.59      0.38      0.46       162\n",
      "    Positive       0.60      0.78      0.68       193\n",
      "\n",
      "    accuracy                           0.60       355\n",
      "   macro avg       0.60      0.58      0.57       355\n",
      "weighted avg       0.60      0.60      0.58       355\n",
      "\n"
     ]
    }
   ],
   "source": [
    "y_train_predict = NB_model.predict(X_train)\n",
    "y_test_predict = NB_model.predict(X_test)\n",
    "print(metrics.classification_report(y_test,y_test_predict))"
   ]
  },
  {
   "cell_type": "code",
   "execution_count": 149,
   "metadata": {},
   "outputs": [
    {
     "data": {
      "text/plain": [
       "Positive    447\n",
       "Negative    379\n",
       "Name: Sentiment, dtype: int64"
      ]
     },
     "execution_count": 149,
     "metadata": {},
     "output_type": "execute_result"
    }
   ],
   "source": [
    "y_train.value_counts()"
   ]
  },
  {
   "cell_type": "code",
   "execution_count": 150,
   "metadata": {},
   "outputs": [
    {
     "data": {
      "text/plain": [
       "Positive    193\n",
       "Negative    162\n",
       "Name: Sentiment, dtype: int64"
      ]
     },
     "execution_count": 150,
     "metadata": {},
     "output_type": "execute_result"
    }
   ],
   "source": [
    "y_test.value_counts()"
   ]
  },
  {
   "cell_type": "code",
   "execution_count": 151,
   "metadata": {},
   "outputs": [
    {
     "data": {
      "text/plain": [
       "Positive    640\n",
       "Negative    541\n",
       "Name: Sentiment, dtype: int64"
      ]
     },
     "execution_count": 151,
     "metadata": {},
     "output_type": "execute_result"
    }
   ],
   "source": [
    "dtm['Sentiment'].value_counts()"
   ]
  },
  {
   "cell_type": "code",
   "execution_count": 152,
   "metadata": {},
   "outputs": [],
   "source": [
    "# Support vector Machine \n",
    "dtm['Sentiment'] = dtm['Sentiment'].map({'Positive':1,'Negative':0})"
   ]
  },
  {
   "cell_type": "code",
   "execution_count": 153,
   "metadata": {},
   "outputs": [],
   "source": [
    "X = dtm.drop('Sentiment',axis=1)\n",
    "y = dtm['Sentiment']\n",
    "X_train,X_test,y_train,y_test = train_test_split(X,y,test_size=0.3,random_state = 1)"
   ]
  },
  {
   "cell_type": "code",
   "execution_count": 154,
   "metadata": {},
   "outputs": [
    {
     "data": {
      "text/html": [
       "<style>#sk-container-id-2 {color: black;background-color: white;}#sk-container-id-2 pre{padding: 0;}#sk-container-id-2 div.sk-toggleable {background-color: white;}#sk-container-id-2 label.sk-toggleable__label {cursor: pointer;display: block;width: 100%;margin-bottom: 0;padding: 0.3em;box-sizing: border-box;text-align: center;}#sk-container-id-2 label.sk-toggleable__label-arrow:before {content: \"▸\";float: left;margin-right: 0.25em;color: #696969;}#sk-container-id-2 label.sk-toggleable__label-arrow:hover:before {color: black;}#sk-container-id-2 div.sk-estimator:hover label.sk-toggleable__label-arrow:before {color: black;}#sk-container-id-2 div.sk-toggleable__content {max-height: 0;max-width: 0;overflow: hidden;text-align: left;background-color: #f0f8ff;}#sk-container-id-2 div.sk-toggleable__content pre {margin: 0.2em;color: black;border-radius: 0.25em;background-color: #f0f8ff;}#sk-container-id-2 input.sk-toggleable__control:checked~div.sk-toggleable__content {max-height: 200px;max-width: 100%;overflow: auto;}#sk-container-id-2 input.sk-toggleable__control:checked~label.sk-toggleable__label-arrow:before {content: \"▾\";}#sk-container-id-2 div.sk-estimator input.sk-toggleable__control:checked~label.sk-toggleable__label {background-color: #d4ebff;}#sk-container-id-2 div.sk-label input.sk-toggleable__control:checked~label.sk-toggleable__label {background-color: #d4ebff;}#sk-container-id-2 input.sk-hidden--visually {border: 0;clip: rect(1px 1px 1px 1px);clip: rect(1px, 1px, 1px, 1px);height: 1px;margin: -1px;overflow: hidden;padding: 0;position: absolute;width: 1px;}#sk-container-id-2 div.sk-estimator {font-family: monospace;background-color: #f0f8ff;border: 1px dotted black;border-radius: 0.25em;box-sizing: border-box;margin-bottom: 0.5em;}#sk-container-id-2 div.sk-estimator:hover {background-color: #d4ebff;}#sk-container-id-2 div.sk-parallel-item::after {content: \"\";width: 100%;border-bottom: 1px solid gray;flex-grow: 1;}#sk-container-id-2 div.sk-label:hover label.sk-toggleable__label {background-color: #d4ebff;}#sk-container-id-2 div.sk-serial::before {content: \"\";position: absolute;border-left: 1px solid gray;box-sizing: border-box;top: 0;bottom: 0;left: 50%;z-index: 0;}#sk-container-id-2 div.sk-serial {display: flex;flex-direction: column;align-items: center;background-color: white;padding-right: 0.2em;padding-left: 0.2em;position: relative;}#sk-container-id-2 div.sk-item {position: relative;z-index: 1;}#sk-container-id-2 div.sk-parallel {display: flex;align-items: stretch;justify-content: center;background-color: white;position: relative;}#sk-container-id-2 div.sk-item::before, #sk-container-id-2 div.sk-parallel-item::before {content: \"\";position: absolute;border-left: 1px solid gray;box-sizing: border-box;top: 0;bottom: 0;left: 50%;z-index: -1;}#sk-container-id-2 div.sk-parallel-item {display: flex;flex-direction: column;z-index: 1;position: relative;background-color: white;}#sk-container-id-2 div.sk-parallel-item:first-child::after {align-self: flex-end;width: 50%;}#sk-container-id-2 div.sk-parallel-item:last-child::after {align-self: flex-start;width: 50%;}#sk-container-id-2 div.sk-parallel-item:only-child::after {width: 0;}#sk-container-id-2 div.sk-dashed-wrapped {border: 1px dashed gray;margin: 0 0.4em 0.5em 0.4em;box-sizing: border-box;padding-bottom: 0.4em;background-color: white;}#sk-container-id-2 div.sk-label label {font-family: monospace;font-weight: bold;display: inline-block;line-height: 1.2em;}#sk-container-id-2 div.sk-label-container {text-align: center;}#sk-container-id-2 div.sk-container {/* jupyter's `normalize.less` sets `[hidden] { display: none; }` but bootstrap.min.css set `[hidden] { display: none !important; }` so we also need the `!important` here to be able to override the default hidden behavior on the sphinx rendered scikit-learn.org. See: https://github.com/scikit-learn/scikit-learn/issues/21755 */display: inline-block !important;position: relative;}#sk-container-id-2 div.sk-text-repr-fallback {display: none;}</style><div id=\"sk-container-id-2\" class=\"sk-top-container\"><div class=\"sk-text-repr-fallback\"><pre>SVC(C=1)</pre><b>In a Jupyter environment, please rerun this cell to show the HTML representation or trust the notebook. <br />On GitHub, the HTML representation is unable to render, please try loading this page with nbviewer.org.</b></div><div class=\"sk-container\" hidden><div class=\"sk-item\"><div class=\"sk-estimator sk-toggleable\"><input class=\"sk-toggleable__control sk-hidden--visually\" id=\"sk-estimator-id-2\" type=\"checkbox\" checked><label for=\"sk-estimator-id-2\" class=\"sk-toggleable__label sk-toggleable__label-arrow\">SVC</label><div class=\"sk-toggleable__content\"><pre>SVC(C=1)</pre></div></div></div></div></div>"
      ],
      "text/plain": [
       "SVC(C=1)"
      ]
     },
     "execution_count": 154,
     "metadata": {},
     "output_type": "execute_result"
    }
   ],
   "source": [
    "from sklearn.svm import SVC\n",
    "SVC_model = SVC(C = 1,kernel = 'rbf')\n",
    "SVC_model.fit(X_train,y_train)"
   ]
  },
  {
   "cell_type": "code",
   "execution_count": 155,
   "metadata": {},
   "outputs": [
    {
     "name": "stdout",
     "output_type": "stream",
     "text": [
      "              precision    recall  f1-score   support\n",
      "\n",
      "           0       0.64      0.51      0.57       162\n",
      "           1       0.65      0.76      0.70       193\n",
      "\n",
      "    accuracy                           0.65       355\n",
      "   macro avg       0.64      0.63      0.63       355\n",
      "weighted avg       0.64      0.65      0.64       355\n",
      "\n"
     ]
    }
   ],
   "source": [
    "y_train_predict = SVC_model.predict(X_train)\n",
    "y_test_predict = SVC_model.predict(X_test)\n",
    "print(metrics.classification_report(y_test,y_test_predict))"
   ]
  },
  {
   "cell_type": "markdown",
   "metadata": {},
   "source": [
    "## Word Embedding - Search Engine Optimisation "
   ]
  },
  {
   "cell_type": "code",
   "execution_count": 156,
   "metadata": {},
   "outputs": [],
   "source": [
    "from gensim.models import Word2Vec # pip install gensim #conda update numpy\n",
    "from gensim.models import KeyedVectors"
   ]
  },
  {
   "cell_type": "code",
   "execution_count": 157,
   "metadata": {},
   "outputs": [
    {
     "data": {
      "text/plain": [
       "['say far best customer care service ever received appstore',\n",
       " 'ios 7 fricking smooth beautiful thanxapple',\n",
       " 'love u',\n",
       " 'thank loving new iphone 5s iphone5s pictwittercomxmhjcu4pcb',\n",
       " 'best customer service new phone 10min',\n",
       " 'ear pods amazing best sound inear headphones ive ever',\n",
       " 'omg iphone 5s cool read finger print unlock iphone 5s make purchases without passcode',\n",
       " 'iphone 5c beautiful 3',\n",
       " 'attributeownership exactly always one marketing marketer business innovation fb',\n",
       " 'checked specs new ios 7wow say cant wait get new update bravo']"
      ]
     },
     "execution_count": 157,
     "metadata": {},
     "output_type": "execute_result"
    }
   ],
   "source": [
    "tweets = [x for x in Apple_tweets['Tweet_stop_clean']]\n",
    "tweets[:10]"
   ]
  },
  {
   "cell_type": "code",
   "execution_count": 158,
   "metadata": {},
   "outputs": [
    {
     "data": {
      "text/plain": [
       "[['say',\n",
       "  'far',\n",
       "  'best',\n",
       "  'customer',\n",
       "  'care',\n",
       "  'service',\n",
       "  'ever',\n",
       "  'received',\n",
       "  'appstore'],\n",
       " ['ios', '7', 'fricking', 'smooth', 'beautiful', 'thanxapple'],\n",
       " ['love', 'u'],\n",
       " ['thank',\n",
       "  'loving',\n",
       "  'new',\n",
       "  'iphone',\n",
       "  '5s',\n",
       "  'iphone5s',\n",
       "  'pictwittercomxmhjcu4pcb']]"
      ]
     },
     "execution_count": 158,
     "metadata": {},
     "output_type": "execute_result"
    }
   ],
   "source": [
    "tweets_split = [x.split() for x in tweets]\n",
    "tweets_split[:4]"
   ]
  },
  {
   "cell_type": "code",
   "execution_count": 159,
   "metadata": {},
   "outputs": [
    {
     "data": {
      "text/plain": [
       "(1181, 18)"
      ]
     },
     "execution_count": 159,
     "metadata": {},
     "output_type": "execute_result"
    }
   ],
   "source": [
    "Apple_tweets.shape"
   ]
  },
  {
   "cell_type": "code",
   "execution_count": 160,
   "metadata": {},
   "outputs": [],
   "source": [
    "tweets_model = Word2Vec(tweets_split)"
   ]
  },
  {
   "cell_type": "code",
   "execution_count": 161,
   "metadata": {},
   "outputs": [
    {
     "data": {
      "text/plain": [
       "array([-0.01583107,  0.01425674,  0.00124589, -0.00078809,  0.00428238,\n",
       "       -0.02722117,  0.00990819,  0.03657702,  0.00226418, -0.01081893,\n",
       "       -0.00019287, -0.00746326,  0.01228937, -0.00131499, -0.0029905 ,\n",
       "       -0.01564457,  0.00190413, -0.01164923, -0.00275372, -0.02890717,\n",
       "        0.00875419, -0.0002394 , -0.00423192, -0.01797835,  0.00489045,\n",
       "        0.0097016 , -0.00686993, -0.00342997, -0.01094338, -0.00622799,\n",
       "       -0.00407364, -0.00338323, -0.00711302,  0.00049749,  0.00251089,\n",
       "        0.02101417, -0.00117528, -0.02325115, -0.00758157, -0.02661014,\n",
       "        0.00105263, -0.01849837, -0.00963417, -0.00932361,  0.02110587,\n",
       "       -0.01395411,  0.00455705, -0.01481185, -0.0017391 ,  0.00181821,\n",
       "        0.00181187, -0.00355534, -0.00038864,  0.00203619,  0.00168336,\n",
       "        0.00843968,  0.00079343,  0.00416637, -0.01826608,  0.01568282,\n",
       "        0.00722777, -0.00905291,  0.00299164, -0.0248655 , -0.01987026,\n",
       "        0.01612426,  0.00346852,  0.0066914 , -0.01345905,  0.02236073,\n",
       "       -0.00435095, -0.00820366,  0.01897676,  0.00715164,  0.00806209,\n",
       "        0.00974121, -0.00073716, -0.01460297, -0.01836611,  0.01467063,\n",
       "       -0.00789813, -0.00655006, -0.01881582,  0.00701733, -0.00283851,\n",
       "        0.01188231,  0.0012033 ,  0.01225084,  0.02557172, -0.00944406,\n",
       "        0.00797771, -0.00402901,  0.01258311,  0.00572979,  0.0114581 ,\n",
       "        0.00498338,  0.01307194, -0.0155549 , -0.00062646,  0.00443671],\n",
       "      dtype=float32)"
      ]
     },
     "execution_count": 161,
     "metadata": {},
     "output_type": "execute_result"
    }
   ],
   "source": [
    "tweets_model.wv['service']"
   ]
  },
  {
   "cell_type": "code",
   "execution_count": 162,
   "metadata": {},
   "outputs": [
    {
     "data": {
      "text/plain": [
       "(100,)"
      ]
     },
     "execution_count": 162,
     "metadata": {},
     "output_type": "execute_result"
    }
   ],
   "source": [
    "tweets_model.wv['best'].shape"
   ]
  },
  {
   "cell_type": "code",
   "execution_count": 163,
   "metadata": {},
   "outputs": [
    {
     "data": {
      "text/plain": [
       "0.8613077"
      ]
     },
     "execution_count": 163,
     "metadata": {},
     "output_type": "execute_result"
    }
   ],
   "source": [
    "tweets_model.wv.similarity('phone','iphone')"
   ]
  },
  {
   "cell_type": "code",
   "execution_count": 164,
   "metadata": {},
   "outputs": [
    {
     "data": {
      "text/plain": [
       "0.23219055"
      ]
     },
     "execution_count": 164,
     "metadata": {},
     "output_type": "execute_result"
    }
   ],
   "source": [
    "tweets_model.wv.similarity('good','bad')"
   ]
  },
  {
   "cell_type": "code",
   "execution_count": 165,
   "metadata": {},
   "outputs": [
    {
     "data": {
      "text/plain": [
       "0.21130317"
      ]
     },
     "execution_count": 165,
     "metadata": {},
     "output_type": "execute_result"
    }
   ],
   "source": [
    "tweets_model.wv.similarity('bad','awesome')"
   ]
  },
  {
   "cell_type": "code",
   "execution_count": 166,
   "metadata": {},
   "outputs": [
    {
     "data": {
      "text/plain": [
       "[('dont', 0.8637592196464539),\n",
       " ('iphone', 0.861307680606842),\n",
       " ('new', 0.8371157646179199),\n",
       " ('2', 0.8363056778907776),\n",
       " ('get', 0.8328678607940674),\n",
       " ('im', 0.8216446042060852),\n",
       " ('making', 0.8211492300033569),\n",
       " ('5s', 0.8189310431480408),\n",
       " ('really', 0.8177059292793274),\n",
       " ('cheap', 0.8069299459457397)]"
      ]
     },
     "execution_count": 166,
     "metadata": {},
     "output_type": "execute_result"
    }
   ],
   "source": [
    "tweets_model.wv.most_similar('phone',topn=10) # Give me the top 10 words which are most similar to phone in the apple tweets"
   ]
  },
  {
   "cell_type": "code",
   "execution_count": 167,
   "metadata": {},
   "outputs": [
    {
     "data": {
      "text/plain": [
       "[('iphone', 0.9013220071792603),\n",
       " ('dont', 0.875044047832489),\n",
       " ('get', 0.8575548529624939),\n",
       " ('2', 0.856134831905365),\n",
       " ('using', 0.8497939705848694),\n",
       " ('app', 0.8374225497245789),\n",
       " ('phone', 0.8371157646179199),\n",
       " ('5s', 0.8369539976119995),\n",
       " ('service', 0.8353504538536072),\n",
       " ('im', 0.8298558592796326)]"
      ]
     },
     "execution_count": 167,
     "metadata": {},
     "output_type": "execute_result"
    }
   ],
   "source": [
    "tweets_model.wv.most_similar('new',topn=10)"
   ]
  },
  {
   "cell_type": "markdown",
   "metadata": {},
   "source": [
    "## Google's ready to use word embedder"
   ]
  },
  {
   "cell_type": "code",
   "execution_count": 168,
   "metadata": {},
   "outputs": [],
   "source": [
    "#g = KeyedVectors.load_word2vec_format('GoogleNews-vectors-negative300.bin',binary=True)"
   ]
  },
  {
   "cell_type": "code",
   "execution_count": 169,
   "metadata": {},
   "outputs": [],
   "source": [
    "#g.most_similar('phone',topn=10)"
   ]
  },
  {
   "cell_type": "code",
   "execution_count": null,
   "metadata": {},
   "outputs": [],
   "source": []
  }
 ],
 "metadata": {
  "kernelspec": {
   "display_name": "Python 3 (ipykernel)",
   "language": "python",
   "name": "python3"
  },
  "language_info": {
   "codemirror_mode": {
    "name": "ipython",
    "version": 3
   },
   "file_extension": ".py",
   "mimetype": "text/x-python",
   "name": "python",
   "nbconvert_exporter": "python",
   "pygments_lexer": "ipython3",
   "version": "3.9.12"
  }
 },
 "nbformat": 4,
 "nbformat_minor": 2
}
